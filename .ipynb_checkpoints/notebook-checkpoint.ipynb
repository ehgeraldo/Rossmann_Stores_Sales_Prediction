{
 "cells": [
  {
   "cell_type": "code",
   "execution_count": 1,
   "id": "d294386d",
   "metadata": {
    "ExecuteTime": {
     "end_time": "2021-08-06T01:18:18.667200Z",
     "start_time": "2021-08-06T01:18:16.793236Z"
    },
    "cell_style": "split",
    "deletable": false,
    "editable": false,
    "hide_input": true
   },
   "outputs": [],
   "source": [
    "import pandas as pd\n",
    "\n",
    "import inflection \n",
    "\n",
    "import math\n",
    "\n",
    "import nbextensions\n",
    "\n",
    "import datetime\n",
    "\n",
    "import seaborn as sns\n",
    "\n",
    "\n",
    "from scipy                 import stats as ss\n",
    "from matplotlib            import pyplot as plt\n",
    "from IPython.core.display  import HTML \n",
    "from IPython.display       import Image\n",
    "\n",
    "from sklearn.metrics       import mean_absolute_error \n",
    "from sklearn.metrics       import mean_absolute_percentage_error \n",
    "from sklearn.metrics       import mean_squared_error\n",
    "\n",
    "from sklearn.linear_model  import LinearRegression\n",
    "from sklearn.linear_model  import Lasso\n",
    "\n",
    "from sklearn.preprocessing import RobustScaler\n",
    "from sklearn.preprocessing import LabelEncoder\n",
    "from sklearn.preprocessing import MinMaxScaler\n",
    "\n",
    "from boruta import BorutaPy\n",
    "from sklearn.ensemble import RandomForestRegressor\n",
    "\n",
    "\n",
    "import matplotlib.gridspec as gridSpec"
   ]
  },
  {
   "cell_type": "markdown",
   "id": "eee837fb",
   "metadata": {
    "heading_collapsed": true
   },
   "source": [
    "# 1 0.0 Import data"
   ]
  },
  {
   "cell_type": "code",
   "execution_count": 64,
   "id": "fbe0c1e9",
   "metadata": {
    "ExecuteTime": {
     "end_time": "2021-08-06T01:27:02.318392Z",
     "start_time": "2021-08-06T01:27:02.302361Z"
    },
    "cell_style": "center",
    "hidden": true
   },
   "outputs": [],
   "source": [
    "import pandas as pd\n",
    "\n",
    "import inflection \n",
    "\n",
    "import math\n",
    "\n",
    "import nbextensions\n",
    "\n",
    "import datetime\n",
    "\n",
    "import seaborn as sns\n",
    "\n",
    "\n",
    "from scipy                 import stats as ss\n",
    "from matplotlib            import pyplot as plt\n",
    "from IPython.core.display  import HTML \n",
    "from IPython.display       import Image\n",
    "\n",
    "from sklearn.metrics       import mean_absolute_error \n",
    "from sklearn.metrics       import mean_absolute_percentage_error \n",
    "from sklearn.metrics       import mean_squared_error\n",
    "\n",
    "from sklearn.linear_model  import LinearRegression\n",
    "from sklearn.linear_model  import Lasso\n",
    "\n",
    "from sklearn.preprocessing import RobustScaler\n",
    "from sklearn.preprocessing import LabelEncoder\n",
    "from sklearn.preprocessing import MinMaxScaler\n",
    "\n",
    "from boruta import BorutaPy\n",
    "from sklearn.ensemble import RandomForestRegressor\n",
    "\n",
    "\n",
    "import matplotlib.gridspec as gridSpec"
   ]
  },
  {
   "cell_type": "markdown",
   "id": "3b27472f",
   "metadata": {
    "heading_collapsed": true
   },
   "source": [
    "# 0.1. Loading data:"
   ]
  },
  {
   "cell_type": "code",
   "execution_count": 65,
   "id": "d6af5523",
   "metadata": {
    "ExecuteTime": {
     "end_time": "2021-08-06T01:27:13.175532Z",
     "start_time": "2021-08-06T01:27:12.015090Z"
    },
    "hidden": true
   },
   "outputs": [],
   "source": [
    "df_sales_raw = pd.read_csv( 'train.csv', low_memory=False )\n",
    "\n",
    "df_store_raw = pd.read_csv( 'store.csv', low_memory=False )\n",
    "\n",
    "#merge\n",
    "\n",
    "df_raw = pd.merge( df_sales_raw, df_store_raw, how='left', on='Store')"
   ]
  },
  {
   "cell_type": "code",
   "execution_count": 66,
   "id": "7ed976ec",
   "metadata": {
    "ExecuteTime": {
     "end_time": "2021-08-06T01:27:14.506763Z",
     "start_time": "2021-08-06T01:27:14.342363Z"
    },
    "hidden": true
   },
   "outputs": [
    {
     "data": {
      "text/html": [
       "<div>\n",
       "<style scoped>\n",
       "    .dataframe tbody tr th:only-of-type {\n",
       "        vertical-align: middle;\n",
       "    }\n",
       "\n",
       "    .dataframe tbody tr th {\n",
       "        vertical-align: top;\n",
       "    }\n",
       "\n",
       "    .dataframe thead th {\n",
       "        text-align: right;\n",
       "    }\n",
       "</style>\n",
       "<table border=\"1\" class=\"dataframe\">\n",
       "  <thead>\n",
       "    <tr style=\"text-align: right;\">\n",
       "      <th></th>\n",
       "      <th>Store</th>\n",
       "      <th>DayOfWeek</th>\n",
       "      <th>Date</th>\n",
       "      <th>Sales</th>\n",
       "      <th>Customers</th>\n",
       "      <th>Open</th>\n",
       "      <th>Promo</th>\n",
       "      <th>StateHoliday</th>\n",
       "      <th>SchoolHoliday</th>\n",
       "      <th>StoreType</th>\n",
       "      <th>Assortment</th>\n",
       "      <th>CompetitionDistance</th>\n",
       "      <th>CompetitionOpenSinceMonth</th>\n",
       "      <th>CompetitionOpenSinceYear</th>\n",
       "      <th>Promo2</th>\n",
       "      <th>Promo2SinceWeek</th>\n",
       "      <th>Promo2SinceYear</th>\n",
       "      <th>PromoInterval</th>\n",
       "    </tr>\n",
       "  </thead>\n",
       "  <tbody>\n",
       "    <tr>\n",
       "      <th>199456</th>\n",
       "      <td>987</td>\n",
       "      <td>2</td>\n",
       "      <td>2015-02-03</td>\n",
       "      <td>7941</td>\n",
       "      <td>1001</td>\n",
       "      <td>1</td>\n",
       "      <td>1</td>\n",
       "      <td>0</td>\n",
       "      <td>1</td>\n",
       "      <td>c</td>\n",
       "      <td>a</td>\n",
       "      <td>1690.0</td>\n",
       "      <td>6.0</td>\n",
       "      <td>2007.0</td>\n",
       "      <td>0</td>\n",
       "      <td>NaN</td>\n",
       "      <td>NaN</td>\n",
       "      <td>NaN</td>\n",
       "    </tr>\n",
       "  </tbody>\n",
       "</table>\n",
       "</div>"
      ],
      "text/plain": [
       "        Store  DayOfWeek        Date  Sales  Customers  Open  Promo  \\\n",
       "199456    987          2  2015-02-03   7941       1001     1      1   \n",
       "\n",
       "       StateHoliday  SchoolHoliday StoreType Assortment  CompetitionDistance  \\\n",
       "199456            0              1         c          a               1690.0   \n",
       "\n",
       "        CompetitionOpenSinceMonth  CompetitionOpenSinceYear  Promo2  \\\n",
       "199456                        6.0                    2007.0       0   \n",
       "\n",
       "        Promo2SinceWeek  Promo2SinceYear PromoInterval  \n",
       "199456              NaN              NaN           NaN  "
      ]
     },
     "execution_count": 66,
     "metadata": {},
     "output_type": "execute_result"
    }
   ],
   "source": [
    "df_raw.sample()"
   ]
  },
  {
   "cell_type": "markdown",
   "id": "dbe91198",
   "metadata": {
    "heading_collapsed": true
   },
   "source": [
    "# 1.0. Data description:"
   ]
  },
  {
   "cell_type": "code",
   "execution_count": 67,
   "id": "f0f93168",
   "metadata": {
    "ExecuteTime": {
     "end_time": "2021-08-06T01:27:16.772769Z",
     "start_time": "2021-08-06T01:27:16.691983Z"
    },
    "hidden": true
   },
   "outputs": [],
   "source": [
    "df1 = df_raw.copy()"
   ]
  },
  {
   "cell_type": "code",
   "execution_count": 68,
   "id": "943031e9",
   "metadata": {
    "ExecuteTime": {
     "end_time": "2021-08-06T01:27:18.164914Z",
     "start_time": "2021-08-06T01:27:18.135952Z"
    },
    "hidden": true
   },
   "outputs": [
    {
     "data": {
      "text/html": [
       "<div>\n",
       "<style scoped>\n",
       "    .dataframe tbody tr th:only-of-type {\n",
       "        vertical-align: middle;\n",
       "    }\n",
       "\n",
       "    .dataframe tbody tr th {\n",
       "        vertical-align: top;\n",
       "    }\n",
       "\n",
       "    .dataframe thead th {\n",
       "        text-align: right;\n",
       "    }\n",
       "</style>\n",
       "<table border=\"1\" class=\"dataframe\">\n",
       "  <thead>\n",
       "    <tr style=\"text-align: right;\">\n",
       "      <th></th>\n",
       "      <th>Store</th>\n",
       "      <th>DayOfWeek</th>\n",
       "      <th>Date</th>\n",
       "      <th>Sales</th>\n",
       "      <th>Customers</th>\n",
       "      <th>Open</th>\n",
       "      <th>Promo</th>\n",
       "      <th>StateHoliday</th>\n",
       "      <th>SchoolHoliday</th>\n",
       "      <th>StoreType</th>\n",
       "      <th>Assortment</th>\n",
       "      <th>CompetitionDistance</th>\n",
       "      <th>CompetitionOpenSinceMonth</th>\n",
       "      <th>CompetitionOpenSinceYear</th>\n",
       "      <th>Promo2</th>\n",
       "      <th>Promo2SinceWeek</th>\n",
       "      <th>Promo2SinceYear</th>\n",
       "      <th>PromoInterval</th>\n",
       "    </tr>\n",
       "  </thead>\n",
       "  <tbody>\n",
       "    <tr>\n",
       "      <th>0</th>\n",
       "      <td>1</td>\n",
       "      <td>5</td>\n",
       "      <td>2015-07-31</td>\n",
       "      <td>5263</td>\n",
       "      <td>555</td>\n",
       "      <td>1</td>\n",
       "      <td>1</td>\n",
       "      <td>0</td>\n",
       "      <td>1</td>\n",
       "      <td>c</td>\n",
       "      <td>a</td>\n",
       "      <td>1270.0</td>\n",
       "      <td>9.0</td>\n",
       "      <td>2008.0</td>\n",
       "      <td>0</td>\n",
       "      <td>NaN</td>\n",
       "      <td>NaN</td>\n",
       "      <td>NaN</td>\n",
       "    </tr>\n",
       "    <tr>\n",
       "      <th>1</th>\n",
       "      <td>2</td>\n",
       "      <td>5</td>\n",
       "      <td>2015-07-31</td>\n",
       "      <td>6064</td>\n",
       "      <td>625</td>\n",
       "      <td>1</td>\n",
       "      <td>1</td>\n",
       "      <td>0</td>\n",
       "      <td>1</td>\n",
       "      <td>a</td>\n",
       "      <td>a</td>\n",
       "      <td>570.0</td>\n",
       "      <td>11.0</td>\n",
       "      <td>2007.0</td>\n",
       "      <td>1</td>\n",
       "      <td>13.0</td>\n",
       "      <td>2010.0</td>\n",
       "      <td>Jan,Apr,Jul,Oct</td>\n",
       "    </tr>\n",
       "    <tr>\n",
       "      <th>2</th>\n",
       "      <td>3</td>\n",
       "      <td>5</td>\n",
       "      <td>2015-07-31</td>\n",
       "      <td>8314</td>\n",
       "      <td>821</td>\n",
       "      <td>1</td>\n",
       "      <td>1</td>\n",
       "      <td>0</td>\n",
       "      <td>1</td>\n",
       "      <td>a</td>\n",
       "      <td>a</td>\n",
       "      <td>14130.0</td>\n",
       "      <td>12.0</td>\n",
       "      <td>2006.0</td>\n",
       "      <td>1</td>\n",
       "      <td>14.0</td>\n",
       "      <td>2011.0</td>\n",
       "      <td>Jan,Apr,Jul,Oct</td>\n",
       "    </tr>\n",
       "    <tr>\n",
       "      <th>3</th>\n",
       "      <td>4</td>\n",
       "      <td>5</td>\n",
       "      <td>2015-07-31</td>\n",
       "      <td>13995</td>\n",
       "      <td>1498</td>\n",
       "      <td>1</td>\n",
       "      <td>1</td>\n",
       "      <td>0</td>\n",
       "      <td>1</td>\n",
       "      <td>c</td>\n",
       "      <td>c</td>\n",
       "      <td>620.0</td>\n",
       "      <td>9.0</td>\n",
       "      <td>2009.0</td>\n",
       "      <td>0</td>\n",
       "      <td>NaN</td>\n",
       "      <td>NaN</td>\n",
       "      <td>NaN</td>\n",
       "    </tr>\n",
       "    <tr>\n",
       "      <th>4</th>\n",
       "      <td>5</td>\n",
       "      <td>5</td>\n",
       "      <td>2015-07-31</td>\n",
       "      <td>4822</td>\n",
       "      <td>559</td>\n",
       "      <td>1</td>\n",
       "      <td>1</td>\n",
       "      <td>0</td>\n",
       "      <td>1</td>\n",
       "      <td>a</td>\n",
       "      <td>a</td>\n",
       "      <td>29910.0</td>\n",
       "      <td>4.0</td>\n",
       "      <td>2015.0</td>\n",
       "      <td>0</td>\n",
       "      <td>NaN</td>\n",
       "      <td>NaN</td>\n",
       "      <td>NaN</td>\n",
       "    </tr>\n",
       "  </tbody>\n",
       "</table>\n",
       "</div>"
      ],
      "text/plain": [
       "   Store  DayOfWeek        Date  Sales  Customers  Open  Promo StateHoliday  \\\n",
       "0      1          5  2015-07-31   5263        555     1      1            0   \n",
       "1      2          5  2015-07-31   6064        625     1      1            0   \n",
       "2      3          5  2015-07-31   8314        821     1      1            0   \n",
       "3      4          5  2015-07-31  13995       1498     1      1            0   \n",
       "4      5          5  2015-07-31   4822        559     1      1            0   \n",
       "\n",
       "   SchoolHoliday StoreType Assortment  CompetitionDistance  \\\n",
       "0              1         c          a               1270.0   \n",
       "1              1         a          a                570.0   \n",
       "2              1         a          a              14130.0   \n",
       "3              1         c          c                620.0   \n",
       "4              1         a          a              29910.0   \n",
       "\n",
       "   CompetitionOpenSinceMonth  CompetitionOpenSinceYear  Promo2  \\\n",
       "0                        9.0                    2008.0       0   \n",
       "1                       11.0                    2007.0       1   \n",
       "2                       12.0                    2006.0       1   \n",
       "3                        9.0                    2009.0       0   \n",
       "4                        4.0                    2015.0       0   \n",
       "\n",
       "   Promo2SinceWeek  Promo2SinceYear    PromoInterval  \n",
       "0              NaN              NaN              NaN  \n",
       "1             13.0           2010.0  Jan,Apr,Jul,Oct  \n",
       "2             14.0           2011.0  Jan,Apr,Jul,Oct  \n",
       "3              NaN              NaN              NaN  \n",
       "4              NaN              NaN              NaN  "
      ]
     },
     "execution_count": 68,
     "metadata": {},
     "output_type": "execute_result"
    }
   ],
   "source": [
    "df1.head()"
   ]
  },
  {
   "cell_type": "markdown",
   "id": "455ea8c7",
   "metadata": {
    "heading_collapsed": true
   },
   "source": [
    "# 1.1. Rename Columns:"
   ]
  },
  {
   "cell_type": "code",
   "execution_count": 69,
   "id": "6511a342",
   "metadata": {
    "ExecuteTime": {
     "end_time": "2021-08-06T01:27:20.433378Z",
     "start_time": "2021-08-06T01:27:20.414472Z"
    },
    "hidden": true
   },
   "outputs": [
    {
     "data": {
      "text/plain": [
       "Index(['Store', 'DayOfWeek', 'Date', 'Sales', 'Customers', 'Open', 'Promo',\n",
       "       'StateHoliday', 'SchoolHoliday', 'StoreType', 'Assortment',\n",
       "       'CompetitionDistance', 'CompetitionOpenSinceMonth',\n",
       "       'CompetitionOpenSinceYear', 'Promo2', 'Promo2SinceWeek',\n",
       "       'Promo2SinceYear', 'PromoInterval'],\n",
       "      dtype='object')"
      ]
     },
     "execution_count": 69,
     "metadata": {},
     "output_type": "execute_result"
    }
   ],
   "source": [
    "df1.columns"
   ]
  },
  {
   "cell_type": "code",
   "execution_count": 70,
   "id": "a33405e6",
   "metadata": {
    "ExecuteTime": {
     "end_time": "2021-08-06T01:27:21.457600Z",
     "start_time": "2021-08-06T01:27:21.441805Z"
    },
    "hidden": true
   },
   "outputs": [],
   "source": [
    "cols_old = ['Store', 'DayOfWeek', 'Date', 'Sales', 'Customers', 'Open', 'Promo',\n",
    "       'StateHoliday', 'SchoolHoliday', 'StoreType', 'Assortment',\n",
    "       'CompetitionDistance', 'CompetitionOpenSinceMonth',\n",
    "       'CompetitionOpenSinceYear', 'Promo2', 'Promo2SinceWeek',\n",
    "       'Promo2SinceYear', 'PromoInterval']\n",
    "\n",
    "snakecase = lambda x: inflection.underscore( x )\n",
    "\n",
    "cols_new = list( map( snakecase, cols_old ) )\n",
    "\n",
    "# rename\n",
    "df1.columns = cols_new"
   ]
  },
  {
   "cell_type": "code",
   "execution_count": 71,
   "id": "8d6e27ca",
   "metadata": {
    "ExecuteTime": {
     "end_time": "2021-08-06T01:27:22.411854Z",
     "start_time": "2021-08-06T01:27:22.395846Z"
    },
    "hidden": true
   },
   "outputs": [
    {
     "data": {
      "text/plain": [
       "Index(['store', 'day_of_week', 'date', 'sales', 'customers', 'open', 'promo',\n",
       "       'state_holiday', 'school_holiday', 'store_type', 'assortment',\n",
       "       'competition_distance', 'competition_open_since_month',\n",
       "       'competition_open_since_year', 'promo2', 'promo2_since_week',\n",
       "       'promo2_since_year', 'promo_interval'],\n",
       "      dtype='object')"
      ]
     },
     "execution_count": 71,
     "metadata": {},
     "output_type": "execute_result"
    }
   ],
   "source": [
    "df1.columns"
   ]
  },
  {
   "cell_type": "markdown",
   "id": "87cef861",
   "metadata": {
    "heading_collapsed": true
   },
   "source": [
    "# 1.2. Data Dimensions:"
   ]
  },
  {
   "cell_type": "code",
   "execution_count": 72,
   "id": "9b28986c",
   "metadata": {
    "ExecuteTime": {
     "end_time": "2021-08-06T01:27:24.524573Z",
     "start_time": "2021-08-06T01:27:24.510572Z"
    },
    "hidden": true
   },
   "outputs": [
    {
     "name": "stdout",
     "output_type": "stream",
     "text": [
      "Number of Rows: 1017209\n",
      "Number of Cols: 18\n"
     ]
    }
   ],
   "source": [
    "print ( 'Number of Rows: {}'.format( df1.shape[0] ) )\n",
    "print ( 'Number of Cols: {}'.format( df1.shape[1] ) )"
   ]
  },
  {
   "cell_type": "markdown",
   "id": "b70aee56",
   "metadata": {
    "heading_collapsed": true
   },
   "source": [
    "# 1.3. Data Types:"
   ]
  },
  {
   "cell_type": "code",
   "execution_count": 73,
   "id": "c9d92dd2",
   "metadata": {
    "ExecuteTime": {
     "end_time": "2021-08-06T01:27:26.365663Z",
     "start_time": "2021-08-06T01:27:26.345654Z"
    },
    "hidden": true
   },
   "outputs": [
    {
     "data": {
      "text/plain": [
       "store                             int64\n",
       "day_of_week                       int64\n",
       "date                             object\n",
       "sales                             int64\n",
       "customers                         int64\n",
       "open                              int64\n",
       "promo                             int64\n",
       "state_holiday                    object\n",
       "school_holiday                    int64\n",
       "store_type                       object\n",
       "assortment                       object\n",
       "competition_distance            float64\n",
       "competition_open_since_month    float64\n",
       "competition_open_since_year     float64\n",
       "promo2                            int64\n",
       "promo2_since_week               float64\n",
       "promo2_since_year               float64\n",
       "promo_interval                   object\n",
       "dtype: object"
      ]
     },
     "execution_count": 73,
     "metadata": {},
     "output_type": "execute_result"
    }
   ],
   "source": [
    "df1.dtypes"
   ]
  },
  {
   "cell_type": "code",
   "execution_count": 74,
   "id": "f9b256df",
   "metadata": {
    "ExecuteTime": {
     "end_time": "2021-08-06T01:27:27.370814Z",
     "start_time": "2021-08-06T01:27:27.232475Z"
    },
    "hidden": true
   },
   "outputs": [],
   "source": [
    "df1['date'] = pd.to_datetime(df1['date'])"
   ]
  },
  {
   "cell_type": "code",
   "execution_count": 75,
   "id": "ef68f348",
   "metadata": {
    "ExecuteTime": {
     "end_time": "2021-08-06T01:27:28.105510Z",
     "start_time": "2021-08-06T01:27:28.092525Z"
    },
    "hidden": true
   },
   "outputs": [
    {
     "data": {
      "text/plain": [
       "store                                    int64\n",
       "day_of_week                              int64\n",
       "date                            datetime64[ns]\n",
       "sales                                    int64\n",
       "customers                                int64\n",
       "open                                     int64\n",
       "promo                                    int64\n",
       "state_holiday                           object\n",
       "school_holiday                           int64\n",
       "store_type                              object\n",
       "assortment                              object\n",
       "competition_distance                   float64\n",
       "competition_open_since_month           float64\n",
       "competition_open_since_year            float64\n",
       "promo2                                   int64\n",
       "promo2_since_week                      float64\n",
       "promo2_since_year                      float64\n",
       "promo_interval                          object\n",
       "dtype: object"
      ]
     },
     "execution_count": 75,
     "metadata": {},
     "output_type": "execute_result"
    }
   ],
   "source": [
    "df1.dtypes"
   ]
  },
  {
   "cell_type": "markdown",
   "id": "3b29e68a",
   "metadata": {
    "heading_collapsed": true
   },
   "source": [
    "# 1.4. Check 'NAs':"
   ]
  },
  {
   "cell_type": "code",
   "execution_count": 76,
   "id": "9ab26db9",
   "metadata": {
    "ExecuteTime": {
     "end_time": "2021-08-06T01:27:30.200462Z",
     "start_time": "2021-08-06T01:27:30.020947Z"
    },
    "hidden": true
   },
   "outputs": [
    {
     "data": {
      "text/plain": [
       "store                                0\n",
       "day_of_week                          0\n",
       "date                                 0\n",
       "sales                                0\n",
       "customers                            0\n",
       "open                                 0\n",
       "promo                                0\n",
       "state_holiday                        0\n",
       "school_holiday                       0\n",
       "store_type                           0\n",
       "assortment                           0\n",
       "competition_distance              2642\n",
       "competition_open_since_month    323348\n",
       "competition_open_since_year     323348\n",
       "promo2                               0\n",
       "promo2_since_week               508031\n",
       "promo2_since_year               508031\n",
       "promo_interval                  508031\n",
       "dtype: int64"
      ]
     },
     "execution_count": 76,
     "metadata": {},
     "output_type": "execute_result"
    }
   ],
   "source": [
    "df1.isna().sum()"
   ]
  },
  {
   "cell_type": "markdown",
   "id": "656f24c8",
   "metadata": {
    "heading_collapsed": true
   },
   "source": [
    "# 1.5. Fillout 'NA':"
   ]
  },
  {
   "cell_type": "code",
   "execution_count": 77,
   "id": "6900a39d",
   "metadata": {
    "ExecuteTime": {
     "end_time": "2021-08-06T01:27:31.917742Z",
     "start_time": "2021-08-06T01:27:31.898795Z"
    },
    "hidden": true
   },
   "outputs": [],
   "source": [
    "# competition_distance              2642\n",
    "# competition_open_since_month    323348\n",
    "# competition_open_since_year     323348\n",
    "# promo2                               0\n",
    "# promo2_since_week               508031\n",
    "# promo2_since_year               508031\n",
    "# promo_interval                  508031                "
   ]
  },
  {
   "cell_type": "code",
   "execution_count": 78,
   "id": "3c697e83",
   "metadata": {
    "ExecuteTime": {
     "end_time": "2021-08-06T01:27:33.226896Z",
     "start_time": "2021-08-06T01:27:32.922356Z"
    },
    "hidden": true
   },
   "outputs": [],
   "source": [
    "# competition_distance:\n",
    "\n",
    "df1['competition_distance'] = df1['competition_distance'].apply( lambda x: 200000.0 if math.isnan( x ) else x )"
   ]
  },
  {
   "cell_type": "code",
   "execution_count": 79,
   "id": "d222683e",
   "metadata": {
    "ExecuteTime": {
     "end_time": "2021-08-06T01:27:51.860144Z",
     "start_time": "2021-08-06T01:27:33.826549Z"
    },
    "hidden": true
   },
   "outputs": [],
   "source": [
    "# competition_open_since_month:\n",
    "\n",
    "df1['competition_open_since_month'] = df1.apply( lambda x: x['date'].month if math.isnan( x['competition_open_since_month'] ) else x['competition_open_since_month'], axis=1 )"
   ]
  },
  {
   "cell_type": "code",
   "execution_count": 80,
   "id": "37e91eba",
   "metadata": {
    "ExecuteTime": {
     "end_time": "2021-08-06T01:28:10.068568Z",
     "start_time": "2021-08-06T01:27:51.860144Z"
    },
    "hidden": true
   },
   "outputs": [],
   "source": [
    "# competition_open_since_year:\n",
    "\n",
    "df1['competition_open_since_year'] = df1.apply( lambda x: x['date'].year if math.isnan( x['competition_open_since_year'] ) else x['competition_open_since_year'], axis=1 ) "
   ]
  },
  {
   "cell_type": "code",
   "execution_count": 81,
   "id": "5de61563",
   "metadata": {
    "ExecuteTime": {
     "end_time": "2021-08-06T01:28:28.267818Z",
     "start_time": "2021-08-06T01:28:10.068568Z"
    },
    "hidden": true
   },
   "outputs": [],
   "source": [
    "# promo2_since_week:\n",
    "\n",
    "df1['promo2_since_week'] = df1.apply( lambda x: x['date'].week if math.isnan( x['promo2_since_week'] ) else x['promo2_since_week'], axis=1 )"
   ]
  },
  {
   "cell_type": "code",
   "execution_count": 82,
   "id": "05fba8a7",
   "metadata": {
    "ExecuteTime": {
     "end_time": "2021-08-06T01:28:46.510021Z",
     "start_time": "2021-08-06T01:28:28.267818Z"
    },
    "hidden": true
   },
   "outputs": [],
   "source": [
    "# promo2_since_year:\n",
    "\n",
    "df1['promo2_since_year'] = df1.apply( lambda x: x['date'].year if math.isnan( x['promo2_since_year'] ) else x['promo2_since_year'], axis=1 )"
   ]
  },
  {
   "cell_type": "code",
   "execution_count": 83,
   "id": "1f86b99d",
   "metadata": {
    "ExecuteTime": {
     "end_time": "2021-08-06T01:29:03.629863Z",
     "start_time": "2021-08-06T01:28:46.512014Z"
    },
    "hidden": true
   },
   "outputs": [],
   "source": [
    "# promo_interval:\n",
    "\n",
    "month_map = {1: 'Jan', 2: 'Fev', 3: 'Mar', 4: 'Apr', 5: 'May', 6: 'Jun', 7: 'Jul', 8: 'Aug', 9: 'Sep', 10: 'Oct', 11: 'Nov', 12: 'Dec' }\n",
    "\n",
    "df1['promo_interval'].fillna(0, inplace=True )\n",
    "\n",
    "df1['month_map'] = df1['date'].dt.month.map( month_map )\n",
    "\n",
    "df1['is_promo'] = df1[['promo_interval','month_map']].apply( lambda x: 0 if x['promo_interval'] == 0 else 1 if x['month_map'] in x['promo_interval'].split(',') else 0, axis=1 )"
   ]
  },
  {
   "cell_type": "code",
   "execution_count": 84,
   "id": "9fae909e",
   "metadata": {
    "ExecuteTime": {
     "end_time": "2021-08-06T01:29:03.893539Z",
     "start_time": "2021-08-06T01:29:03.632855Z"
    },
    "hidden": true
   },
   "outputs": [
    {
     "data": {
      "text/plain": [
       "store                           0\n",
       "day_of_week                     0\n",
       "date                            0\n",
       "sales                           0\n",
       "customers                       0\n",
       "open                            0\n",
       "promo                           0\n",
       "state_holiday                   0\n",
       "school_holiday                  0\n",
       "store_type                      0\n",
       "assortment                      0\n",
       "competition_distance            0\n",
       "competition_open_since_month    0\n",
       "competition_open_since_year     0\n",
       "promo2                          0\n",
       "promo2_since_week               0\n",
       "promo2_since_year               0\n",
       "promo_interval                  0\n",
       "month_map                       0\n",
       "is_promo                        0\n",
       "dtype: int64"
      ]
     },
     "execution_count": 84,
     "metadata": {},
     "output_type": "execute_result"
    }
   ],
   "source": [
    "df1.isna().sum()"
   ]
  },
  {
   "cell_type": "code",
   "execution_count": 85,
   "id": "3be3437c",
   "metadata": {
    "ExecuteTime": {
     "end_time": "2021-08-06T01:29:04.021198Z",
     "start_time": "2021-08-06T01:29:03.895534Z"
    },
    "hidden": true
   },
   "outputs": [
    {
     "data": {
      "text/html": [
       "<div>\n",
       "<style scoped>\n",
       "    .dataframe tbody tr th:only-of-type {\n",
       "        vertical-align: middle;\n",
       "    }\n",
       "\n",
       "    .dataframe tbody tr th {\n",
       "        vertical-align: top;\n",
       "    }\n",
       "\n",
       "    .dataframe thead th {\n",
       "        text-align: right;\n",
       "    }\n",
       "</style>\n",
       "<table border=\"1\" class=\"dataframe\">\n",
       "  <thead>\n",
       "    <tr style=\"text-align: right;\">\n",
       "      <th></th>\n",
       "      <th>946319</th>\n",
       "      <th>502513</th>\n",
       "      <th>921191</th>\n",
       "      <th>619107</th>\n",
       "      <th>696857</th>\n",
       "    </tr>\n",
       "  </thead>\n",
       "  <tbody>\n",
       "    <tr>\n",
       "      <th>store</th>\n",
       "      <td>470</td>\n",
       "      <td>434</td>\n",
       "      <td>987</td>\n",
       "      <td>1068</td>\n",
       "      <td>768</td>\n",
       "    </tr>\n",
       "    <tr>\n",
       "      <th>day_of_week</th>\n",
       "      <td>2</td>\n",
       "      <td>1</td>\n",
       "      <td>4</td>\n",
       "      <td>2</td>\n",
       "      <td>2</td>\n",
       "    </tr>\n",
       "    <tr>\n",
       "      <th>date</th>\n",
       "      <td>2013-03-05 00:00:00</td>\n",
       "      <td>2014-04-07 00:00:00</td>\n",
       "      <td>2013-03-28 00:00:00</td>\n",
       "      <td>2013-12-24 00:00:00</td>\n",
       "      <td>2013-10-15 00:00:00</td>\n",
       "    </tr>\n",
       "    <tr>\n",
       "      <th>sales</th>\n",
       "      <td>17110</td>\n",
       "      <td>7610</td>\n",
       "      <td>12897</td>\n",
       "      <td>3437</td>\n",
       "      <td>8914</td>\n",
       "    </tr>\n",
       "    <tr>\n",
       "      <th>customers</th>\n",
       "      <td>2201</td>\n",
       "      <td>625</td>\n",
       "      <td>1429</td>\n",
       "      <td>255</td>\n",
       "      <td>1000</td>\n",
       "    </tr>\n",
       "    <tr>\n",
       "      <th>open</th>\n",
       "      <td>1</td>\n",
       "      <td>1</td>\n",
       "      <td>1</td>\n",
       "      <td>1</td>\n",
       "      <td>1</td>\n",
       "    </tr>\n",
       "    <tr>\n",
       "      <th>promo</th>\n",
       "      <td>1</td>\n",
       "      <td>0</td>\n",
       "      <td>1</td>\n",
       "      <td>0</td>\n",
       "      <td>0</td>\n",
       "    </tr>\n",
       "    <tr>\n",
       "      <th>state_holiday</th>\n",
       "      <td>0</td>\n",
       "      <td>0</td>\n",
       "      <td>0</td>\n",
       "      <td>0</td>\n",
       "      <td>0</td>\n",
       "    </tr>\n",
       "    <tr>\n",
       "      <th>school_holiday</th>\n",
       "      <td>0</td>\n",
       "      <td>0</td>\n",
       "      <td>1</td>\n",
       "      <td>1</td>\n",
       "      <td>1</td>\n",
       "    </tr>\n",
       "    <tr>\n",
       "      <th>store_type</th>\n",
       "      <td>a</td>\n",
       "      <td>a</td>\n",
       "      <td>c</td>\n",
       "      <td>d</td>\n",
       "      <td>a</td>\n",
       "    </tr>\n",
       "    <tr>\n",
       "      <th>assortment</th>\n",
       "      <td>c</td>\n",
       "      <td>a</td>\n",
       "      <td>a</td>\n",
       "      <td>c</td>\n",
       "      <td>c</td>\n",
       "    </tr>\n",
       "    <tr>\n",
       "      <th>competition_distance</th>\n",
       "      <td>50.0</td>\n",
       "      <td>13020.0</td>\n",
       "      <td>1690.0</td>\n",
       "      <td>5010.0</td>\n",
       "      <td>2630.0</td>\n",
       "    </tr>\n",
       "    <tr>\n",
       "      <th>competition_open_since_month</th>\n",
       "      <td>3.0</td>\n",
       "      <td>8.0</td>\n",
       "      <td>6.0</td>\n",
       "      <td>12.0</td>\n",
       "      <td>9.0</td>\n",
       "    </tr>\n",
       "    <tr>\n",
       "      <th>competition_open_since_year</th>\n",
       "      <td>2013.0</td>\n",
       "      <td>2003.0</td>\n",
       "      <td>2007.0</td>\n",
       "      <td>2013.0</td>\n",
       "      <td>2012.0</td>\n",
       "    </tr>\n",
       "    <tr>\n",
       "      <th>promo2</th>\n",
       "      <td>0</td>\n",
       "      <td>1</td>\n",
       "      <td>0</td>\n",
       "      <td>1</td>\n",
       "      <td>0</td>\n",
       "    </tr>\n",
       "    <tr>\n",
       "      <th>promo2_since_week</th>\n",
       "      <td>10.0</td>\n",
       "      <td>40.0</td>\n",
       "      <td>13.0</td>\n",
       "      <td>5.0</td>\n",
       "      <td>42.0</td>\n",
       "    </tr>\n",
       "    <tr>\n",
       "      <th>promo2_since_year</th>\n",
       "      <td>2013.0</td>\n",
       "      <td>2014.0</td>\n",
       "      <td>2013.0</td>\n",
       "      <td>2013.0</td>\n",
       "      <td>2013.0</td>\n",
       "    </tr>\n",
       "    <tr>\n",
       "      <th>promo_interval</th>\n",
       "      <td>0</td>\n",
       "      <td>Jan,Apr,Jul,Oct</td>\n",
       "      <td>0</td>\n",
       "      <td>Jan,Apr,Jul,Oct</td>\n",
       "      <td>0</td>\n",
       "    </tr>\n",
       "    <tr>\n",
       "      <th>month_map</th>\n",
       "      <td>Mar</td>\n",
       "      <td>Apr</td>\n",
       "      <td>Mar</td>\n",
       "      <td>Dec</td>\n",
       "      <td>Oct</td>\n",
       "    </tr>\n",
       "    <tr>\n",
       "      <th>is_promo</th>\n",
       "      <td>0</td>\n",
       "      <td>1</td>\n",
       "      <td>0</td>\n",
       "      <td>0</td>\n",
       "      <td>0</td>\n",
       "    </tr>\n",
       "  </tbody>\n",
       "</table>\n",
       "</div>"
      ],
      "text/plain": [
       "                                           946319               502513  \\\n",
       "store                                         470                  434   \n",
       "day_of_week                                     2                    1   \n",
       "date                          2013-03-05 00:00:00  2014-04-07 00:00:00   \n",
       "sales                                       17110                 7610   \n",
       "customers                                    2201                  625   \n",
       "open                                            1                    1   \n",
       "promo                                           1                    0   \n",
       "state_holiday                                   0                    0   \n",
       "school_holiday                                  0                    0   \n",
       "store_type                                      a                    a   \n",
       "assortment                                      c                    a   \n",
       "competition_distance                         50.0              13020.0   \n",
       "competition_open_since_month                  3.0                  8.0   \n",
       "competition_open_since_year                2013.0               2003.0   \n",
       "promo2                                          0                    1   \n",
       "promo2_since_week                            10.0                 40.0   \n",
       "promo2_since_year                          2013.0               2014.0   \n",
       "promo_interval                                  0      Jan,Apr,Jul,Oct   \n",
       "month_map                                     Mar                  Apr   \n",
       "is_promo                                        0                    1   \n",
       "\n",
       "                                           921191               619107  \\\n",
       "store                                         987                 1068   \n",
       "day_of_week                                     4                    2   \n",
       "date                          2013-03-28 00:00:00  2013-12-24 00:00:00   \n",
       "sales                                       12897                 3437   \n",
       "customers                                    1429                  255   \n",
       "open                                            1                    1   \n",
       "promo                                           1                    0   \n",
       "state_holiday                                   0                    0   \n",
       "school_holiday                                  1                    1   \n",
       "store_type                                      c                    d   \n",
       "assortment                                      a                    c   \n",
       "competition_distance                       1690.0               5010.0   \n",
       "competition_open_since_month                  6.0                 12.0   \n",
       "competition_open_since_year                2007.0               2013.0   \n",
       "promo2                                          0                    1   \n",
       "promo2_since_week                            13.0                  5.0   \n",
       "promo2_since_year                          2013.0               2013.0   \n",
       "promo_interval                                  0      Jan,Apr,Jul,Oct   \n",
       "month_map                                     Mar                  Dec   \n",
       "is_promo                                        0                    0   \n",
       "\n",
       "                                           696857  \n",
       "store                                         768  \n",
       "day_of_week                                     2  \n",
       "date                          2013-10-15 00:00:00  \n",
       "sales                                        8914  \n",
       "customers                                    1000  \n",
       "open                                            1  \n",
       "promo                                           0  \n",
       "state_holiday                                   0  \n",
       "school_holiday                                  1  \n",
       "store_type                                      a  \n",
       "assortment                                      c  \n",
       "competition_distance                       2630.0  \n",
       "competition_open_since_month                  9.0  \n",
       "competition_open_since_year                2012.0  \n",
       "promo2                                          0  \n",
       "promo2_since_week                            42.0  \n",
       "promo2_since_year                          2013.0  \n",
       "promo_interval                                  0  \n",
       "month_map                                     Oct  \n",
       "is_promo                                        0  "
      ]
     },
     "execution_count": 85,
     "metadata": {},
     "output_type": "execute_result"
    }
   ],
   "source": [
    "df1.sample(5).T"
   ]
  },
  {
   "cell_type": "markdown",
   "id": "b8274a87",
   "metadata": {
    "heading_collapsed": true
   },
   "source": [
    "# 1.6. Change Types:"
   ]
  },
  {
   "cell_type": "code",
   "execution_count": 86,
   "id": "752baf07",
   "metadata": {
    "ExecuteTime": {
     "end_time": "2021-08-06T01:29:49.333878Z",
     "start_time": "2021-08-06T01:29:49.262143Z"
    },
    "hidden": true
   },
   "outputs": [],
   "source": [
    "df1 = df1.copy()"
   ]
  },
  {
   "cell_type": "code",
   "execution_count": 87,
   "id": "949fd11f",
   "metadata": {
    "ExecuteTime": {
     "end_time": "2021-08-06T01:29:50.512792Z",
     "start_time": "2021-08-06T01:29:50.494839Z"
    },
    "hidden": true
   },
   "outputs": [
    {
     "data": {
      "text/plain": [
       "store                                    int64\n",
       "day_of_week                              int64\n",
       "date                            datetime64[ns]\n",
       "sales                                    int64\n",
       "customers                                int64\n",
       "open                                     int64\n",
       "promo                                    int64\n",
       "state_holiday                           object\n",
       "school_holiday                           int64\n",
       "store_type                              object\n",
       "assortment                              object\n",
       "competition_distance                   float64\n",
       "competition_open_since_month           float64\n",
       "competition_open_since_year            float64\n",
       "promo2                                   int64\n",
       "promo2_since_week                      float64\n",
       "promo2_since_year                      float64\n",
       "promo_interval                          object\n",
       "month_map                               object\n",
       "is_promo                                 int64\n",
       "dtype: object"
      ]
     },
     "execution_count": 87,
     "metadata": {},
     "output_type": "execute_result"
    }
   ],
   "source": [
    "df1.dtypes"
   ]
  },
  {
   "cell_type": "code",
   "execution_count": 88,
   "id": "1993e7be",
   "metadata": {
    "ExecuteTime": {
     "end_time": "2021-08-06T01:29:51.452840Z",
     "start_time": "2021-08-06T01:29:51.422923Z"
    },
    "hidden": true
   },
   "outputs": [],
   "source": [
    "df1['competition_open_since_month'] = df1['competition_open_since_month'].astype('int64')"
   ]
  },
  {
   "cell_type": "code",
   "execution_count": 89,
   "id": "ec44bae6",
   "metadata": {
    "ExecuteTime": {
     "end_time": "2021-08-06T01:29:52.075748Z",
     "start_time": "2021-08-06T01:29:52.053810Z"
    },
    "hidden": true
   },
   "outputs": [],
   "source": [
    "df1['competition_open_since_year'] = df1['competition_open_since_year'].astype( 'int64' ) "
   ]
  },
  {
   "cell_type": "code",
   "execution_count": 90,
   "id": "e2697b51",
   "metadata": {
    "ExecuteTime": {
     "end_time": "2021-08-06T01:29:52.595695Z",
     "start_time": "2021-08-06T01:29:52.561785Z"
    },
    "hidden": true
   },
   "outputs": [],
   "source": [
    "df1['promo2_since_week'] = df1['promo2_since_week'].astype( 'int64' ) "
   ]
  },
  {
   "cell_type": "code",
   "execution_count": 91,
   "id": "7b0e9930",
   "metadata": {
    "ExecuteTime": {
     "end_time": "2021-08-06T01:29:54.374188Z",
     "start_time": "2021-08-06T01:29:54.346263Z"
    },
    "hidden": true
   },
   "outputs": [],
   "source": [
    "df1['promo2_since_year'] = df1['promo2_since_year'].astype( 'int64' )  "
   ]
  },
  {
   "cell_type": "code",
   "execution_count": 92,
   "id": "42a6e799",
   "metadata": {
    "ExecuteTime": {
     "end_time": "2021-08-06T01:29:55.002401Z",
     "start_time": "2021-08-06T01:29:54.982457Z"
    },
    "hidden": true
   },
   "outputs": [
    {
     "data": {
      "text/plain": [
       "store                                    int64\n",
       "day_of_week                              int64\n",
       "date                            datetime64[ns]\n",
       "sales                                    int64\n",
       "customers                                int64\n",
       "open                                     int64\n",
       "promo                                    int64\n",
       "state_holiday                           object\n",
       "school_holiday                           int64\n",
       "store_type                              object\n",
       "assortment                              object\n",
       "competition_distance                   float64\n",
       "competition_open_since_month             int64\n",
       "competition_open_since_year              int64\n",
       "promo2                                   int64\n",
       "promo2_since_week                        int64\n",
       "promo2_since_year                        int64\n",
       "promo_interval                          object\n",
       "month_map                               object\n",
       "is_promo                                 int64\n",
       "dtype: object"
      ]
     },
     "execution_count": 92,
     "metadata": {},
     "output_type": "execute_result"
    }
   ],
   "source": [
    "df1.dtypes"
   ]
  },
  {
   "cell_type": "markdown",
   "id": "b6125b81",
   "metadata": {
    "heading_collapsed": true
   },
   "source": [
    "# 1.7. Descriptive Statistical:"
   ]
  },
  {
   "cell_type": "code",
   "execution_count": 93,
   "id": "6c2e7410",
   "metadata": {
    "ExecuteTime": {
     "end_time": "2021-08-06T01:29:56.041787Z",
     "start_time": "2021-08-06T01:29:55.844485Z"
    },
    "hidden": true
   },
   "outputs": [],
   "source": [
    "num_attributes = df1.select_dtypes( include = ['int64', 'float64'] )\n",
    "\n",
    "cat_attributes = df1.select_dtypes( exclude = ['int64', 'float64', 'datetime64[ns]'] )"
   ]
  },
  {
   "cell_type": "code",
   "execution_count": 94,
   "id": "076ed86e",
   "metadata": {
    "ExecuteTime": {
     "end_time": "2021-08-06T01:29:56.291964Z",
     "start_time": "2021-08-06T01:29:56.236858Z"
    },
    "hidden": true
   },
   "outputs": [
    {
     "data": {
      "text/html": [
       "<div>\n",
       "<style scoped>\n",
       "    .dataframe tbody tr th:only-of-type {\n",
       "        vertical-align: middle;\n",
       "    }\n",
       "\n",
       "    .dataframe tbody tr th {\n",
       "        vertical-align: top;\n",
       "    }\n",
       "\n",
       "    .dataframe thead th {\n",
       "        text-align: right;\n",
       "    }\n",
       "</style>\n",
       "<table border=\"1\" class=\"dataframe\">\n",
       "  <thead>\n",
       "    <tr style=\"text-align: right;\">\n",
       "      <th></th>\n",
       "      <th>store</th>\n",
       "      <th>day_of_week</th>\n",
       "      <th>sales</th>\n",
       "      <th>customers</th>\n",
       "      <th>open</th>\n",
       "      <th>promo</th>\n",
       "      <th>school_holiday</th>\n",
       "      <th>competition_distance</th>\n",
       "      <th>competition_open_since_month</th>\n",
       "      <th>competition_open_since_year</th>\n",
       "      <th>promo2</th>\n",
       "      <th>promo2_since_week</th>\n",
       "      <th>promo2_since_year</th>\n",
       "      <th>is_promo</th>\n",
       "    </tr>\n",
       "  </thead>\n",
       "  <tbody>\n",
       "    <tr>\n",
       "      <th>331943</th>\n",
       "      <td>238</td>\n",
       "      <td>6</td>\n",
       "      <td>4999</td>\n",
       "      <td>812</td>\n",
       "      <td>1</td>\n",
       "      <td>0</td>\n",
       "      <td>0</td>\n",
       "      <td>320.0</td>\n",
       "      <td>9</td>\n",
       "      <td>2014</td>\n",
       "      <td>1</td>\n",
       "      <td>45</td>\n",
       "      <td>2009</td>\n",
       "      <td>0</td>\n",
       "    </tr>\n",
       "    <tr>\n",
       "      <th>1010732</th>\n",
       "      <td>213</td>\n",
       "      <td>7</td>\n",
       "      <td>0</td>\n",
       "      <td>0</td>\n",
       "      <td>0</td>\n",
       "      <td>0</td>\n",
       "      <td>0</td>\n",
       "      <td>4030.0</td>\n",
       "      <td>3</td>\n",
       "      <td>2014</td>\n",
       "      <td>1</td>\n",
       "      <td>1</td>\n",
       "      <td>2014</td>\n",
       "      <td>1</td>\n",
       "    </tr>\n",
       "  </tbody>\n",
       "</table>\n",
       "</div>"
      ],
      "text/plain": [
       "         store  day_of_week  sales  customers  open  promo  school_holiday  \\\n",
       "331943     238            6   4999        812     1      0               0   \n",
       "1010732    213            7      0          0     0      0               0   \n",
       "\n",
       "         competition_distance  competition_open_since_month  \\\n",
       "331943                  320.0                             9   \n",
       "1010732                4030.0                             3   \n",
       "\n",
       "         competition_open_since_year  promo2  promo2_since_week  \\\n",
       "331943                          2014       1                 45   \n",
       "1010732                         2014       1                  1   \n",
       "\n",
       "         promo2_since_year  is_promo  \n",
       "331943                2009         0  \n",
       "1010732               2014         1  "
      ]
     },
     "execution_count": 94,
     "metadata": {},
     "output_type": "execute_result"
    }
   ],
   "source": [
    "num_attributes.sample(2)"
   ]
  },
  {
   "cell_type": "code",
   "execution_count": 95,
   "id": "1462d6ae",
   "metadata": {
    "ExecuteTime": {
     "end_time": "2021-08-06T01:29:56.792054Z",
     "start_time": "2021-08-06T01:29:56.736205Z"
    },
    "hidden": true
   },
   "outputs": [
    {
     "data": {
      "text/html": [
       "<div>\n",
       "<style scoped>\n",
       "    .dataframe tbody tr th:only-of-type {\n",
       "        vertical-align: middle;\n",
       "    }\n",
       "\n",
       "    .dataframe tbody tr th {\n",
       "        vertical-align: top;\n",
       "    }\n",
       "\n",
       "    .dataframe thead th {\n",
       "        text-align: right;\n",
       "    }\n",
       "</style>\n",
       "<table border=\"1\" class=\"dataframe\">\n",
       "  <thead>\n",
       "    <tr style=\"text-align: right;\">\n",
       "      <th></th>\n",
       "      <th>state_holiday</th>\n",
       "      <th>store_type</th>\n",
       "      <th>assortment</th>\n",
       "      <th>promo_interval</th>\n",
       "      <th>month_map</th>\n",
       "    </tr>\n",
       "  </thead>\n",
       "  <tbody>\n",
       "    <tr>\n",
       "      <th>763914</th>\n",
       "      <td>0</td>\n",
       "      <td>c</td>\n",
       "      <td>a</td>\n",
       "      <td>Jan,Apr,Jul,Oct</td>\n",
       "      <td>Aug</td>\n",
       "    </tr>\n",
       "    <tr>\n",
       "      <th>522221</th>\n",
       "      <td>0</td>\n",
       "      <td>a</td>\n",
       "      <td>a</td>\n",
       "      <td>Jan,Apr,Jul,Oct</td>\n",
       "      <td>Mar</td>\n",
       "    </tr>\n",
       "  </tbody>\n",
       "</table>\n",
       "</div>"
      ],
      "text/plain": [
       "       state_holiday store_type assortment   promo_interval month_map\n",
       "763914             0          c          a  Jan,Apr,Jul,Oct       Aug\n",
       "522221             0          a          a  Jan,Apr,Jul,Oct       Mar"
      ]
     },
     "execution_count": 95,
     "metadata": {},
     "output_type": "execute_result"
    }
   ],
   "source": [
    "cat_attributes.sample(2)"
   ]
  },
  {
   "cell_type": "markdown",
   "id": "4dc17637",
   "metadata": {
    "heading_collapsed": true
   },
   "source": [
    "# 1.7.1. Numerical Attributes:"
   ]
  },
  {
   "cell_type": "code",
   "execution_count": 96,
   "id": "9fad0c53",
   "metadata": {
    "ExecuteTime": {
     "end_time": "2021-08-06T01:29:57.925035Z",
     "start_time": "2021-08-06T01:29:57.914065Z"
    },
    "hidden": true
   },
   "outputs": [],
   "source": [
    "import numpy as np"
   ]
  },
  {
   "cell_type": "code",
   "execution_count": 97,
   "id": "3ad90e2c",
   "metadata": {
    "ExecuteTime": {
     "end_time": "2021-08-06T01:30:02.378381Z",
     "start_time": "2021-08-06T01:29:58.194907Z"
    },
    "hidden": true
   },
   "outputs": [],
   "source": [
    "# Central Tendency - mean, median:\n",
    "\n",
    "ct1 = pd.DataFrame( num_attributes.apply( np.mean ) ).T\n",
    "ct2 = pd.DataFrame( num_attributes.apply( np.median ) ).T\n",
    "\n",
    "# Dispersion - std, min, max, range, skew, kurtosis:\n",
    "\n",
    "d1 = pd.DataFrame( num_attributes.apply(  np.std ) ).T\n",
    "d2 = pd.DataFrame( num_attributes.apply(  min ) ).T\n",
    "d3 = pd.DataFrame( num_attributes.apply( max ) ).T\n",
    "d4 = pd.DataFrame( num_attributes.apply( lambda x: x.max() - x.min() ) ).T\n",
    "d5 = pd.DataFrame( num_attributes.apply( lambda x: x.skew() ) ).T\n",
    "d6 = pd.DataFrame( num_attributes.apply( lambda x: x.kurtosis() ) ).T \n",
    "\n",
    "# Concatenate:\n",
    "m = pd.concat( [d2, d3, d4, ct1, ct2, d1, d5, d6] ).T.reset_index()\n",
    "m.columns =  [ 'attributes', 'min', 'max', 'range', 'mean', 'median', 'std', 'skew', 'kurtosis' ] "
   ]
  },
  {
   "cell_type": "code",
   "execution_count": 98,
   "id": "8063c812",
   "metadata": {
    "ExecuteTime": {
     "end_time": "2021-08-06T01:30:02.408972Z",
     "start_time": "2021-08-06T01:30:02.380089Z"
    },
    "hidden": true
   },
   "outputs": [
    {
     "data": {
      "text/html": [
       "<div>\n",
       "<style scoped>\n",
       "    .dataframe tbody tr th:only-of-type {\n",
       "        vertical-align: middle;\n",
       "    }\n",
       "\n",
       "    .dataframe tbody tr th {\n",
       "        vertical-align: top;\n",
       "    }\n",
       "\n",
       "    .dataframe thead th {\n",
       "        text-align: right;\n",
       "    }\n",
       "</style>\n",
       "<table border=\"1\" class=\"dataframe\">\n",
       "  <thead>\n",
       "    <tr style=\"text-align: right;\">\n",
       "      <th></th>\n",
       "      <th>attributes</th>\n",
       "      <th>min</th>\n",
       "      <th>max</th>\n",
       "      <th>range</th>\n",
       "      <th>mean</th>\n",
       "      <th>median</th>\n",
       "      <th>std</th>\n",
       "      <th>skew</th>\n",
       "      <th>kurtosis</th>\n",
       "    </tr>\n",
       "  </thead>\n",
       "  <tbody>\n",
       "    <tr>\n",
       "      <th>0</th>\n",
       "      <td>store</td>\n",
       "      <td>1.0</td>\n",
       "      <td>1115.0</td>\n",
       "      <td>1114.0</td>\n",
       "      <td>558.429727</td>\n",
       "      <td>558.0</td>\n",
       "      <td>321.908493</td>\n",
       "      <td>-0.000955</td>\n",
       "      <td>-1.200524</td>\n",
       "    </tr>\n",
       "    <tr>\n",
       "      <th>1</th>\n",
       "      <td>day_of_week</td>\n",
       "      <td>1.0</td>\n",
       "      <td>7.0</td>\n",
       "      <td>6.0</td>\n",
       "      <td>3.998341</td>\n",
       "      <td>4.0</td>\n",
       "      <td>1.997390</td>\n",
       "      <td>0.001593</td>\n",
       "      <td>-1.246873</td>\n",
       "    </tr>\n",
       "    <tr>\n",
       "      <th>2</th>\n",
       "      <td>sales</td>\n",
       "      <td>0.0</td>\n",
       "      <td>41551.0</td>\n",
       "      <td>41551.0</td>\n",
       "      <td>5773.818972</td>\n",
       "      <td>5744.0</td>\n",
       "      <td>3849.924283</td>\n",
       "      <td>0.641460</td>\n",
       "      <td>1.778375</td>\n",
       "    </tr>\n",
       "    <tr>\n",
       "      <th>3</th>\n",
       "      <td>customers</td>\n",
       "      <td>0.0</td>\n",
       "      <td>7388.0</td>\n",
       "      <td>7388.0</td>\n",
       "      <td>633.145946</td>\n",
       "      <td>609.0</td>\n",
       "      <td>464.411506</td>\n",
       "      <td>1.598650</td>\n",
       "      <td>7.091773</td>\n",
       "    </tr>\n",
       "    <tr>\n",
       "      <th>4</th>\n",
       "      <td>open</td>\n",
       "      <td>0.0</td>\n",
       "      <td>1.0</td>\n",
       "      <td>1.0</td>\n",
       "      <td>0.830107</td>\n",
       "      <td>1.0</td>\n",
       "      <td>0.375539</td>\n",
       "      <td>-1.758045</td>\n",
       "      <td>1.090723</td>\n",
       "    </tr>\n",
       "    <tr>\n",
       "      <th>5</th>\n",
       "      <td>promo</td>\n",
       "      <td>0.0</td>\n",
       "      <td>1.0</td>\n",
       "      <td>1.0</td>\n",
       "      <td>0.381515</td>\n",
       "      <td>0.0</td>\n",
       "      <td>0.485758</td>\n",
       "      <td>0.487838</td>\n",
       "      <td>-1.762018</td>\n",
       "    </tr>\n",
       "    <tr>\n",
       "      <th>6</th>\n",
       "      <td>school_holiday</td>\n",
       "      <td>0.0</td>\n",
       "      <td>1.0</td>\n",
       "      <td>1.0</td>\n",
       "      <td>0.178647</td>\n",
       "      <td>0.0</td>\n",
       "      <td>0.383056</td>\n",
       "      <td>1.677842</td>\n",
       "      <td>0.815154</td>\n",
       "    </tr>\n",
       "    <tr>\n",
       "      <th>7</th>\n",
       "      <td>competition_distance</td>\n",
       "      <td>20.0</td>\n",
       "      <td>200000.0</td>\n",
       "      <td>199980.0</td>\n",
       "      <td>5935.442677</td>\n",
       "      <td>2330.0</td>\n",
       "      <td>12547.646829</td>\n",
       "      <td>10.242344</td>\n",
       "      <td>147.789712</td>\n",
       "    </tr>\n",
       "    <tr>\n",
       "      <th>8</th>\n",
       "      <td>competition_open_since_month</td>\n",
       "      <td>1.0</td>\n",
       "      <td>12.0</td>\n",
       "      <td>11.0</td>\n",
       "      <td>6.786849</td>\n",
       "      <td>7.0</td>\n",
       "      <td>3.311085</td>\n",
       "      <td>-0.042076</td>\n",
       "      <td>-1.232607</td>\n",
       "    </tr>\n",
       "    <tr>\n",
       "      <th>9</th>\n",
       "      <td>competition_open_since_year</td>\n",
       "      <td>1900.0</td>\n",
       "      <td>2015.0</td>\n",
       "      <td>115.0</td>\n",
       "      <td>2010.324840</td>\n",
       "      <td>2012.0</td>\n",
       "      <td>5.515591</td>\n",
       "      <td>-7.235657</td>\n",
       "      <td>124.071304</td>\n",
       "    </tr>\n",
       "    <tr>\n",
       "      <th>10</th>\n",
       "      <td>promo2</td>\n",
       "      <td>0.0</td>\n",
       "      <td>1.0</td>\n",
       "      <td>1.0</td>\n",
       "      <td>0.500564</td>\n",
       "      <td>1.0</td>\n",
       "      <td>0.500000</td>\n",
       "      <td>-0.002255</td>\n",
       "      <td>-1.999999</td>\n",
       "    </tr>\n",
       "    <tr>\n",
       "      <th>11</th>\n",
       "      <td>promo2_since_week</td>\n",
       "      <td>1.0</td>\n",
       "      <td>52.0</td>\n",
       "      <td>51.0</td>\n",
       "      <td>23.619033</td>\n",
       "      <td>22.0</td>\n",
       "      <td>14.310057</td>\n",
       "      <td>0.178723</td>\n",
       "      <td>-1.184046</td>\n",
       "    </tr>\n",
       "    <tr>\n",
       "      <th>12</th>\n",
       "      <td>promo2_since_year</td>\n",
       "      <td>2009.0</td>\n",
       "      <td>2015.0</td>\n",
       "      <td>6.0</td>\n",
       "      <td>2012.793297</td>\n",
       "      <td>2013.0</td>\n",
       "      <td>1.662657</td>\n",
       "      <td>-0.784436</td>\n",
       "      <td>-0.210075</td>\n",
       "    </tr>\n",
       "    <tr>\n",
       "      <th>13</th>\n",
       "      <td>is_promo</td>\n",
       "      <td>0.0</td>\n",
       "      <td>1.0</td>\n",
       "      <td>1.0</td>\n",
       "      <td>0.155231</td>\n",
       "      <td>0.0</td>\n",
       "      <td>0.362124</td>\n",
       "      <td>1.904152</td>\n",
       "      <td>1.625796</td>\n",
       "    </tr>\n",
       "  </tbody>\n",
       "</table>\n",
       "</div>"
      ],
      "text/plain": [
       "                      attributes     min       max     range         mean  \\\n",
       "0                          store     1.0    1115.0    1114.0   558.429727   \n",
       "1                    day_of_week     1.0       7.0       6.0     3.998341   \n",
       "2                          sales     0.0   41551.0   41551.0  5773.818972   \n",
       "3                      customers     0.0    7388.0    7388.0   633.145946   \n",
       "4                           open     0.0       1.0       1.0     0.830107   \n",
       "5                          promo     0.0       1.0       1.0     0.381515   \n",
       "6                 school_holiday     0.0       1.0       1.0     0.178647   \n",
       "7           competition_distance    20.0  200000.0  199980.0  5935.442677   \n",
       "8   competition_open_since_month     1.0      12.0      11.0     6.786849   \n",
       "9    competition_open_since_year  1900.0    2015.0     115.0  2010.324840   \n",
       "10                        promo2     0.0       1.0       1.0     0.500564   \n",
       "11             promo2_since_week     1.0      52.0      51.0    23.619033   \n",
       "12             promo2_since_year  2009.0    2015.0       6.0  2012.793297   \n",
       "13                      is_promo     0.0       1.0       1.0     0.155231   \n",
       "\n",
       "    median           std       skew    kurtosis  \n",
       "0    558.0    321.908493  -0.000955   -1.200524  \n",
       "1      4.0      1.997390   0.001593   -1.246873  \n",
       "2   5744.0   3849.924283   0.641460    1.778375  \n",
       "3    609.0    464.411506   1.598650    7.091773  \n",
       "4      1.0      0.375539  -1.758045    1.090723  \n",
       "5      0.0      0.485758   0.487838   -1.762018  \n",
       "6      0.0      0.383056   1.677842    0.815154  \n",
       "7   2330.0  12547.646829  10.242344  147.789712  \n",
       "8      7.0      3.311085  -0.042076   -1.232607  \n",
       "9   2012.0      5.515591  -7.235657  124.071304  \n",
       "10     1.0      0.500000  -0.002255   -1.999999  \n",
       "11    22.0     14.310057   0.178723   -1.184046  \n",
       "12  2013.0      1.662657  -0.784436   -0.210075  \n",
       "13     0.0      0.362124   1.904152    1.625796  "
      ]
     },
     "execution_count": 98,
     "metadata": {},
     "output_type": "execute_result"
    }
   ],
   "source": [
    "m"
   ]
  },
  {
   "cell_type": "code",
   "execution_count": 99,
   "id": "96a9aa5f",
   "metadata": {
    "ExecuteTime": {
     "end_time": "2021-08-06T01:30:11.233737Z",
     "start_time": "2021-08-06T01:30:02.416960Z"
    },
    "hidden": true,
    "hide_input": false
   },
   "outputs": [
    {
     "name": "stderr",
     "output_type": "stream",
     "text": [
      "C:\\Users\\eduardo\\anaconda3\\envs\\Rossmann_Stores_Sales\\lib\\site-packages\\seaborn\\distributions.py:2557: FutureWarning: `distplot` is a deprecated function and will be removed in a future version. Please adapt your code to use either `displot` (a figure-level function with similar flexibility) or `histplot` (an axes-level function for histograms).\n",
      "  warnings.warn(msg, FutureWarning)\n"
     ]
    },
    {
     "data": {
      "text/plain": [
       "<AxesSubplot:xlabel='sales', ylabel='Density'>"
      ]
     },
     "execution_count": 99,
     "metadata": {},
     "output_type": "execute_result"
    },
    {
     "data": {
      "image/png": "[encoded data removed]",
      "text/plain": [
       "<Figure size 432x288 with 1 Axes>"
      ]
     },
     "metadata": {
      "needs_background": "light"
     },
     "output_type": "display_data"
    }
   ],
   "source": [
    "sns.distplot( df1['sales'] )\n",
    "#plt.rcParams['figure.figsize'] = (20, 10)"
   ]
  },
  {
   "cell_type": "code",
   "execution_count": 100,
   "id": "0533d0b2",
   "metadata": {
    "ExecuteTime": {
     "end_time": "2021-08-06T01:30:20.971384Z",
     "start_time": "2021-08-06T01:30:11.236730Z"
    },
    "hidden": true,
    "hide_input": false
   },
   "outputs": [
    {
     "name": "stderr",
     "output_type": "stream",
     "text": [
      "C:\\Users\\eduardo\\anaconda3\\envs\\Rossmann_Stores_Sales\\lib\\site-packages\\seaborn\\distributions.py:2557: FutureWarning: `distplot` is a deprecated function and will be removed in a future version. Please adapt your code to use either `displot` (a figure-level function with similar flexibility) or `histplot` (an axes-level function for histograms).\n",
      "  warnings.warn(msg, FutureWarning)\n"
     ]
    },
    {
     "data": {
      "text/plain": [
       "<AxesSubplot:xlabel='competition_distance', ylabel='Density'>"
      ]
     },
     "execution_count": 100,
     "metadata": {},
     "output_type": "execute_result"
    },
    {
     "data": {
      "image/png": "[encoded data removed]",
      "text/plain": [
       "<Figure size 432x288 with 1 Axes>"
      ]
     },
     "metadata": {
      "needs_background": "light"
     },
     "output_type": "display_data"
    }
   ],
   "source": [
    "sns.distplot( df1['competition_distance'] )\n",
    "#plt.rcParams['figure.size']=(20,10)"
   ]
  },
  {
   "cell_type": "markdown",
   "id": "580d22ff",
   "metadata": {
    "heading_collapsed": true
   },
   "source": [
    "# 1.7.2. Categorical Attributes:"
   ]
  },
  {
   "cell_type": "code",
   "execution_count": 101,
   "id": "c97f0a30",
   "metadata": {
    "ExecuteTime": {
     "end_time": "2021-08-06T01:30:21.191249Z",
     "start_time": "2021-08-06T01:30:20.973421Z"
    },
    "hidden": true
   },
   "outputs": [
    {
     "data": {
      "text/plain": [
       "state_holiday      4\n",
       "store_type         4\n",
       "assortment         3\n",
       "promo_interval     4\n",
       "month_map         12\n",
       "dtype: int64"
      ]
     },
     "execution_count": 101,
     "metadata": {},
     "output_type": "execute_result"
    }
   ],
   "source": [
    "cat_attributes.apply( lambda x: x.unique().shape[0] )"
   ]
  },
  {
   "cell_type": "code",
   "execution_count": 102,
   "id": "42ff8f44",
   "metadata": {
    "ExecuteTime": {
     "end_time": "2021-08-06T01:30:21.740765Z",
     "start_time": "2021-08-06T01:30:21.192903Z"
    },
    "hidden": true,
    "hide_input": true
   },
   "outputs": [
    {
     "data": {
      "text/plain": [
       "<AxesSubplot:xlabel='state_holiday', ylabel='sales'>"
      ]
     },
     "execution_count": 102,
     "metadata": {},
     "output_type": "execute_result"
    },
    {
     "data": {
      "image/png": "[encoded data removed]",
      "text/plain": [
       "<Figure size 432x288 with 1 Axes>"
      ]
     },
     "metadata": {
      "needs_background": "light"
     },
     "output_type": "display_data"
    }
   ],
   "source": [
    "# state_holiday => 4\n",
    "\n",
    "sns.boxplot( x ='state_holiday' , y ='sales', data = df1)"
   ]
  },
  {
   "cell_type": "code",
   "execution_count": 103,
   "id": "e01f9f1b",
   "metadata": {
    "ExecuteTime": {
     "end_time": "2021-08-06T01:30:22.291666Z",
     "start_time": "2021-08-06T01:30:21.741766Z"
    },
    "hidden": true,
    "hide_input": false
   },
   "outputs": [
    {
     "data": {
      "text/plain": [
       "<AxesSubplot:xlabel='store_type', ylabel='sales'>"
      ]
     },
     "execution_count": 103,
     "metadata": {},
     "output_type": "execute_result"
    },
    {
     "data": {
      "image/png": "[encoded data removed]",
      "text/plain": [
       "<Figure size 432x288 with 1 Axes>"
      ]
     },
     "metadata": {
      "needs_background": "light"
     },
     "output_type": "display_data"
    }
   ],
   "source": [
    "# store_type => 4\n",
    "\n",
    "sns.boxplot( x='store_type', y='sales', data=df1)\n",
    "#plt.rcParams[\"figure.size\"]=(20,10)"
   ]
  },
  {
   "cell_type": "code",
   "execution_count": 104,
   "id": "141b4afe",
   "metadata": {
    "ExecuteTime": {
     "end_time": "2021-08-06T01:30:22.839452Z",
     "start_time": "2021-08-06T01:30:22.295365Z"
    },
    "hidden": true,
    "hide_input": false
   },
   "outputs": [
    {
     "data": {
      "text/plain": [
       "<AxesSubplot:xlabel='assortment', ylabel='sales'>"
      ]
     },
     "execution_count": 104,
     "metadata": {},
     "output_type": "execute_result"
    },
    {
     "data": {
      "image/png": "[encoded data removed]",
      "text/plain": [
       "<Figure size 432x288 with 1 Axes>"
      ]
     },
     "metadata": {
      "needs_background": "light"
     },
     "output_type": "display_data"
    }
   ],
   "source": [
    "# assortment => 3\n",
    "\n",
    "sns.boxplot( x='assortment', y='sales', data=df1)\n",
    "#plt.rcParams[\"figure.size\"]=(20,10)"
   ]
  },
  {
   "cell_type": "code",
   "execution_count": 105,
   "id": "d48fc174",
   "metadata": {
    "ExecuteTime": {
     "end_time": "2021-08-06T01:30:23.397495Z",
     "start_time": "2021-08-06T01:30:22.841451Z"
    },
    "hidden": true,
    "hide_input": false
   },
   "outputs": [
    {
     "data": {
      "text/plain": [
       "<AxesSubplot:xlabel='promo_interval', ylabel='sales'>"
      ]
     },
     "execution_count": 105,
     "metadata": {},
     "output_type": "execute_result"
    },
    {
     "data": {
      "image/png": "[encoded data removed]",
      "text/plain": [
       "<Figure size 432x288 with 1 Axes>"
      ]
     },
     "metadata": {
      "needs_background": "light"
     },
     "output_type": "display_data"
    }
   ],
   "source": [
    "# promo_interval => 4\n",
    "\n",
    "sns.boxplot(x='promo_interval', y='sales', data=df1)\n",
    "#plt.rcParams[\"figure.size\"]=(20,10)"
   ]
  },
  {
   "cell_type": "code",
   "execution_count": 106,
   "id": "15131582",
   "metadata": {
    "ExecuteTime": {
     "end_time": "2021-08-06T01:30:24.059320Z",
     "start_time": "2021-08-06T01:30:23.398535Z"
    },
    "hidden": true,
    "hide_input": false
   },
   "outputs": [
    {
     "data": {
      "text/plain": [
       "<AxesSubplot:xlabel='month_map', ylabel='sales'>"
      ]
     },
     "execution_count": 106,
     "metadata": {},
     "output_type": "execute_result"
    },
    {
     "data": {
      "image/png": "[encoded data removed]",
      "text/plain": [
       "<Figure size 432x288 with 1 Axes>"
      ]
     },
     "metadata": {
      "needs_background": "light"
     },
     "output_type": "display_data"
    }
   ],
   "source": [
    "# month_map =>  12\n",
    "\n",
    "sns.boxplot(x='month_map', y='sales', data=df1)\n",
    "#plt.rcParams[\"figure.size\"]=(20,10)"
   ]
  },
  {
   "cell_type": "code",
   "execution_count": 107,
   "id": "1b20cac0",
   "metadata": {
    "ExecuteTime": {
     "end_time": "2021-08-06T01:30:24.262230Z",
     "start_time": "2021-08-06T01:30:24.061316Z"
    },
    "hidden": true,
    "hide_input": false
   },
   "outputs": [
    {
     "data": {
      "text/plain": [
       "<AxesSubplot:xlabel='state_holiday', ylabel='sales'>"
      ]
     },
     "execution_count": 107,
     "metadata": {},
     "output_type": "execute_result"
    },
    {
     "data": {
      "image/png": "[encoded data removed]",
      "text/plain": [
       "<Figure size 432x288 with 1 Axes>"
      ]
     },
     "metadata": {
      "needs_background": "light"
     },
     "output_type": "display_data"
    }
   ],
   "source": [
    "aux1 = df1[( df1['state_holiday' ] != '0' ) & (df1[ 'sales' ] > 0 ) ]\n",
    "\n",
    "sns.boxplot( x = 'state_holiday', y = 'sales', data = aux1 )\n",
    "#plt.rcParams[\"figure.size\"]=(20,10)"
   ]
  },
  {
   "cell_type": "code",
   "execution_count": 108,
   "id": "3a13f8e9",
   "metadata": {
    "ExecuteTime": {
     "end_time": "2021-08-06T01:30:24.939594Z",
     "start_time": "2021-08-06T01:30:24.264224Z"
    },
    "hidden": true,
    "hide_input": false
   },
   "outputs": [
    {
     "data": {
      "text/plain": [
       "<AxesSubplot:xlabel='store_type', ylabel='sales'>"
      ]
     },
     "execution_count": 108,
     "metadata": {},
     "output_type": "execute_result"
    },
    {
     "data": {
      "image/png": "[encoded data removed]",
      "text/plain": [
       "<Figure size 432x288 with 1 Axes>"
      ]
     },
     "metadata": {
      "needs_background": "light"
     },
     "output_type": "display_data"
    }
   ],
   "source": [
    "aux1 = df1[( df1[ 'store_type' ] != '0' ) & (df1[ 'sales' ] > 0 ) ]\n",
    "\n",
    "sns.boxplot( x = 'store_type', y = 'sales', data = aux1 )\n",
    "#plt.rcParams[\"figure.size\"]=(20,10)"
   ]
  },
  {
   "cell_type": "code",
   "execution_count": 109,
   "id": "c80c77d9",
   "metadata": {
    "ExecuteTime": {
     "end_time": "2021-08-06T01:30:25.711882Z",
     "start_time": "2021-08-06T01:30:24.941627Z"
    },
    "hidden": true,
    "hide_input": false
   },
   "outputs": [
    {
     "data": {
      "text/plain": [
       "<AxesSubplot:xlabel='assortment', ylabel='sales'>"
      ]
     },
     "execution_count": 109,
     "metadata": {},
     "output_type": "execute_result"
    },
    {
     "data": {
      "image/png": "[encoded data removed]",
      "text/plain": [
       "<Figure size 432x288 with 1 Axes>"
      ]
     },
     "metadata": {
      "needs_background": "light"
     },
     "output_type": "display_data"
    }
   ],
   "source": [
    "aux1 = df1[( df1[ 'assortment' ] != '0' ) & (df1[ 'sales' ] > 0 ) ]\n",
    "\n",
    "sns.boxplot( x = 'assortment', y = 'sales', data = aux1 )\n",
    "#plt.rcParams[\"figure.size\"]=(20,10)"
   ]
  },
  {
   "cell_type": "code",
   "execution_count": 110,
   "id": "9edb3ad3",
   "metadata": {
    "ExecuteTime": {
     "end_time": "2021-08-06T01:30:26.199532Z",
     "start_time": "2021-08-06T01:30:25.712880Z"
    },
    "hidden": true,
    "hide_input": false
   },
   "outputs": [
    {
     "data": {
      "text/plain": [
       "<AxesSubplot:xlabel='assortment', ylabel='sales'>"
      ]
     },
     "execution_count": 110,
     "metadata": {},
     "output_type": "execute_result"
    },
    {
     "data": {
      "image/png": "[encoded data removed]",
      "text/plain": [
       "<Figure size 432x288 with 3 Axes>"
      ]
     },
     "metadata": {
      "needs_background": "light"
     },
     "output_type": "display_data"
    }
   ],
   "source": [
    "aux1 = df1[ ( df1['state_holiday'] !='0' ) & ( df1['sales'] > 0 ) ]\n",
    "\n",
    "plt.subplot( 1, 3, 1 )\n",
    "sns.boxplot( x='state_holiday', y='sales', data=aux1 )\n",
    "\n",
    "plt.subplot( 1, 3, 2 )\n",
    "sns.boxplot( x='store_type', y='sales', data=aux1 )\n",
    "\n",
    "plt.subplot( 1, 3, 3 )\n",
    "sns.boxplot( x='assortment', y='sales', data=aux1 )\n",
    "#plt.rcParams[\"figure.size\"]=(20,10)"
   ]
  },
  {
   "cell_type": "markdown",
   "id": "29d63fca",
   "metadata": {
    "heading_collapsed": true
   },
   "source": [
    "# 2.0. FEATURE ENGINEERING:"
   ]
  },
  {
   "cell_type": "code",
   "execution_count": 111,
   "id": "a497cfd5",
   "metadata": {
    "ExecuteTime": {
     "end_time": "2021-08-06T01:30:26.292154Z",
     "start_time": "2021-08-06T01:30:26.200533Z"
    },
    "hidden": true
   },
   "outputs": [],
   "source": [
    "df2 = df1.copy()"
   ]
  },
  {
   "cell_type": "markdown",
   "id": "9ab85f5b",
   "metadata": {
    "heading_collapsed": true
   },
   "source": [
    "# 2.1. Mapa mental de hipóteses:"
   ]
  },
  {
   "cell_type": "code",
   "execution_count": 112,
   "id": "567e9e9b",
   "metadata": {
    "ExecuteTime": {
     "end_time": "2021-08-06T01:30:26.308160Z",
     "start_time": "2021-08-06T01:30:26.294154Z"
    },
    "hidden": true
   },
   "outputs": [
    {
     "data": {
      "image/png": "[encoded data removed]",
      "text/plain": [
       "<IPython.core.display.Image object>"
      ]
     },
     "execution_count": 112,
     "metadata": {},
     "output_type": "execute_result"
    }
   ],
   "source": [
    "Image ( 'daily_store_map_image.png' )"
   ]
  },
  {
   "cell_type": "markdown",
   "id": "0ff66e80",
   "metadata": {
    "heading_collapsed": true
   },
   "source": [
    "# 2.2. Criação de hipóteses:"
   ]
  },
  {
   "cell_type": "markdown",
   "id": "a377e4ff",
   "metadata": {
    "heading_collapsed": true
   },
   "source": [
    "# 2.3. Lista final de hipóteses:"
   ]
  },
  {
   "cell_type": "markdown",
   "id": "161bd1c5",
   "metadata": {
    "heading_collapsed": true,
    "hidden": true
   },
   "source": [
    "### 1) Lojas com maior sortimentos deveriam vender mais.\n",
    "### 2) Lojas com competidores mais próximos deveriam vender menos.\n",
    "### 3) Lojas com competidores à mais tempo deveriam vender mais.\n",
    "### 4) Lojas com promoções ativas por amis tempo deveriam vender mais.\n",
    "### 5) Lojas com mais dias de promoção deveriam vender mais.\n",
    "### 6) Lojas com mais promoções consecutivas deveriam vender mais.\n",
    "### 7) Lojas abertas durante o feriado de Natal deveriam vender mais.\n",
    "### 8) Lojas deveriam vender mais ao longo dos anos.\n",
    "### 9) Lojas deveriam vender mais no segundo semestre do ano.\n",
    "### 10) Lojas deveriam vender mais depoois do dia 10 de cada mês.\n",
    "### 11) Lojas deveriam ver menos aos finais de semana.\n",
    "### 12) Lojas deveriam vender menos durante os feriados escolares.\n",
    "\n",
    "\n",
    "\n",
    "\n",
    "\n",
    "\n",
    "\n",
    "\n",
    "\n",
    "\n",
    "\n"
   ]
  },
  {
   "cell_type": "code",
   "execution_count": 113,
   "id": "3d266737",
   "metadata": {
    "ExecuteTime": {
     "end_time": "2021-08-06T01:31:33.877645Z",
     "start_time": "2021-08-06T01:30:26.310110Z"
    },
    "hidden": true
   },
   "outputs": [
    {
     "name": "stderr",
     "output_type": "stream",
     "text": [
      "<ipython-input-113-0c83ee3cec32>:8: FutureWarning: Series.dt.weekofyear and Series.dt.week have been deprecated.  Please use Series.dt.isocalendar().week instead.\n",
      "  df2['week_of_year'] = df2['date'].dt.weekofyear\n"
     ]
    }
   ],
   "source": [
    "# year:\n",
    "df2['year'] = df2['date'].dt.year\n",
    "\n",
    "# month:\n",
    "df2['month'] = df2['date'].dt.month\n",
    "\n",
    "# week of year:\n",
    "df2['week_of_year'] = df2['date'].dt.weekofyear\n",
    "\n",
    "# day\n",
    "df2['day'] = df2['date'].dt.day\n",
    "\n",
    "# year week:\n",
    "df2['year_week'] = df2['date'].dt.strftime( '%Y-%W' )\n",
    "\n",
    "# competition since:\n",
    "df2['competition_since'] = df2.apply( lambda x: datetime.datetime( year= x['competition_open_since_year'], month= x['competition_open_since_month'], day= 1 ), axis= 1 )\n",
    "\n",
    "df2['competition_time_month'] = ( ( df2['date'] - df2['competition_since'] )/30 ).apply( lambda x: x.days ).astype( int )\n",
    "\n",
    "# promo since:\n",
    "df2['promo_since'] = df2['promo2_since_year'].astype( str ) + '-' + df2['promo2_since_week'].astype( str )\n",
    "\n",
    "df2['promo_since'] = df2['promo_since'].apply( lambda x: datetime.datetime.strptime( x + '-1', '%Y-%W-%w' ) - datetime.timedelta( days=7 ) )\n",
    "\n",
    "df2['promo_time_week'] = ( ( df2['date'] - df2['promo_since'] )/7 ).apply( lambda x: x.days ).astype( int )\n",
    "\n",
    "# assortment:\n",
    "# a = basic, b = extra, c = extendend\n",
    "\n",
    "df2['assortment'] = df2['assortment'].apply( lambda x: 'basic' if x == 'a' else 'extra' if x =='b' else 'extendend' )\n",
    "\n",
    "# state holiday:\n",
    "# a = public holiday, b = Easter holiday, c = Christmas \n",
    "\n",
    "df2['state_holiday'] = df2['state_holiday'].apply( lambda x: 'public_holiday' if x == 'a' else 'easter_holiday' if x == 'b' else 'christmas' if x == 'c' else 'regular_day' )\n"
   ]
  },
  {
   "cell_type": "code",
   "execution_count": 114,
   "id": "45dd9556",
   "metadata": {
    "ExecuteTime": {
     "end_time": "2021-08-06T01:31:33.908566Z",
     "start_time": "2021-08-06T01:31:33.879643Z"
    },
    "hidden": true,
    "hide_input": false
   },
   "outputs": [
    {
     "data": {
      "text/html": [
       "<div>\n",
       "<style scoped>\n",
       "    .dataframe tbody tr th:only-of-type {\n",
       "        vertical-align: middle;\n",
       "    }\n",
       "\n",
       "    .dataframe tbody tr th {\n",
       "        vertical-align: top;\n",
       "    }\n",
       "\n",
       "    .dataframe thead th {\n",
       "        text-align: right;\n",
       "    }\n",
       "</style>\n",
       "<table border=\"1\" class=\"dataframe\">\n",
       "  <thead>\n",
       "    <tr style=\"text-align: right;\">\n",
       "      <th></th>\n",
       "      <th>0</th>\n",
       "      <th>1</th>\n",
       "      <th>2</th>\n",
       "      <th>3</th>\n",
       "      <th>4</th>\n",
       "    </tr>\n",
       "  </thead>\n",
       "  <tbody>\n",
       "    <tr>\n",
       "      <th>store</th>\n",
       "      <td>1</td>\n",
       "      <td>2</td>\n",
       "      <td>3</td>\n",
       "      <td>4</td>\n",
       "      <td>5</td>\n",
       "    </tr>\n",
       "    <tr>\n",
       "      <th>day_of_week</th>\n",
       "      <td>5</td>\n",
       "      <td>5</td>\n",
       "      <td>5</td>\n",
       "      <td>5</td>\n",
       "      <td>5</td>\n",
       "    </tr>\n",
       "    <tr>\n",
       "      <th>date</th>\n",
       "      <td>2015-07-31 00:00:00</td>\n",
       "      <td>2015-07-31 00:00:00</td>\n",
       "      <td>2015-07-31 00:00:00</td>\n",
       "      <td>2015-07-31 00:00:00</td>\n",
       "      <td>2015-07-31 00:00:00</td>\n",
       "    </tr>\n",
       "    <tr>\n",
       "      <th>sales</th>\n",
       "      <td>5263</td>\n",
       "      <td>6064</td>\n",
       "      <td>8314</td>\n",
       "      <td>13995</td>\n",
       "      <td>4822</td>\n",
       "    </tr>\n",
       "    <tr>\n",
       "      <th>customers</th>\n",
       "      <td>555</td>\n",
       "      <td>625</td>\n",
       "      <td>821</td>\n",
       "      <td>1498</td>\n",
       "      <td>559</td>\n",
       "    </tr>\n",
       "    <tr>\n",
       "      <th>open</th>\n",
       "      <td>1</td>\n",
       "      <td>1</td>\n",
       "      <td>1</td>\n",
       "      <td>1</td>\n",
       "      <td>1</td>\n",
       "    </tr>\n",
       "    <tr>\n",
       "      <th>promo</th>\n",
       "      <td>1</td>\n",
       "      <td>1</td>\n",
       "      <td>1</td>\n",
       "      <td>1</td>\n",
       "      <td>1</td>\n",
       "    </tr>\n",
       "    <tr>\n",
       "      <th>state_holiday</th>\n",
       "      <td>regular_day</td>\n",
       "      <td>regular_day</td>\n",
       "      <td>regular_day</td>\n",
       "      <td>regular_day</td>\n",
       "      <td>regular_day</td>\n",
       "    </tr>\n",
       "    <tr>\n",
       "      <th>school_holiday</th>\n",
       "      <td>1</td>\n",
       "      <td>1</td>\n",
       "      <td>1</td>\n",
       "      <td>1</td>\n",
       "      <td>1</td>\n",
       "    </tr>\n",
       "    <tr>\n",
       "      <th>store_type</th>\n",
       "      <td>c</td>\n",
       "      <td>a</td>\n",
       "      <td>a</td>\n",
       "      <td>c</td>\n",
       "      <td>a</td>\n",
       "    </tr>\n",
       "    <tr>\n",
       "      <th>assortment</th>\n",
       "      <td>basic</td>\n",
       "      <td>basic</td>\n",
       "      <td>basic</td>\n",
       "      <td>extendend</td>\n",
       "      <td>basic</td>\n",
       "    </tr>\n",
       "    <tr>\n",
       "      <th>competition_distance</th>\n",
       "      <td>1270.0</td>\n",
       "      <td>570.0</td>\n",
       "      <td>14130.0</td>\n",
       "      <td>620.0</td>\n",
       "      <td>29910.0</td>\n",
       "    </tr>\n",
       "    <tr>\n",
       "      <th>competition_open_since_month</th>\n",
       "      <td>9</td>\n",
       "      <td>11</td>\n",
       "      <td>12</td>\n",
       "      <td>9</td>\n",
       "      <td>4</td>\n",
       "    </tr>\n",
       "    <tr>\n",
       "      <th>competition_open_since_year</th>\n",
       "      <td>2008</td>\n",
       "      <td>2007</td>\n",
       "      <td>2006</td>\n",
       "      <td>2009</td>\n",
       "      <td>2015</td>\n",
       "    </tr>\n",
       "    <tr>\n",
       "      <th>promo2</th>\n",
       "      <td>0</td>\n",
       "      <td>1</td>\n",
       "      <td>1</td>\n",
       "      <td>0</td>\n",
       "      <td>0</td>\n",
       "    </tr>\n",
       "    <tr>\n",
       "      <th>promo2_since_week</th>\n",
       "      <td>31</td>\n",
       "      <td>13</td>\n",
       "      <td>14</td>\n",
       "      <td>31</td>\n",
       "      <td>31</td>\n",
       "    </tr>\n",
       "    <tr>\n",
       "      <th>promo2_since_year</th>\n",
       "      <td>2015</td>\n",
       "      <td>2010</td>\n",
       "      <td>2011</td>\n",
       "      <td>2015</td>\n",
       "      <td>2015</td>\n",
       "    </tr>\n",
       "    <tr>\n",
       "      <th>promo_interval</th>\n",
       "      <td>0</td>\n",
       "      <td>Jan,Apr,Jul,Oct</td>\n",
       "      <td>Jan,Apr,Jul,Oct</td>\n",
       "      <td>0</td>\n",
       "      <td>0</td>\n",
       "    </tr>\n",
       "    <tr>\n",
       "      <th>month_map</th>\n",
       "      <td>Jul</td>\n",
       "      <td>Jul</td>\n",
       "      <td>Jul</td>\n",
       "      <td>Jul</td>\n",
       "      <td>Jul</td>\n",
       "    </tr>\n",
       "    <tr>\n",
       "      <th>is_promo</th>\n",
       "      <td>0</td>\n",
       "      <td>1</td>\n",
       "      <td>1</td>\n",
       "      <td>0</td>\n",
       "      <td>0</td>\n",
       "    </tr>\n",
       "    <tr>\n",
       "      <th>year</th>\n",
       "      <td>2015</td>\n",
       "      <td>2015</td>\n",
       "      <td>2015</td>\n",
       "      <td>2015</td>\n",
       "      <td>2015</td>\n",
       "    </tr>\n",
       "    <tr>\n",
       "      <th>month</th>\n",
       "      <td>7</td>\n",
       "      <td>7</td>\n",
       "      <td>7</td>\n",
       "      <td>7</td>\n",
       "      <td>7</td>\n",
       "    </tr>\n",
       "    <tr>\n",
       "      <th>week_of_year</th>\n",
       "      <td>31</td>\n",
       "      <td>31</td>\n",
       "      <td>31</td>\n",
       "      <td>31</td>\n",
       "      <td>31</td>\n",
       "    </tr>\n",
       "    <tr>\n",
       "      <th>day</th>\n",
       "      <td>31</td>\n",
       "      <td>31</td>\n",
       "      <td>31</td>\n",
       "      <td>31</td>\n",
       "      <td>31</td>\n",
       "    </tr>\n",
       "    <tr>\n",
       "      <th>year_week</th>\n",
       "      <td>2015-30</td>\n",
       "      <td>2015-30</td>\n",
       "      <td>2015-30</td>\n",
       "      <td>2015-30</td>\n",
       "      <td>2015-30</td>\n",
       "    </tr>\n",
       "    <tr>\n",
       "      <th>competition_since</th>\n",
       "      <td>2008-09-01 00:00:00</td>\n",
       "      <td>2007-11-01 00:00:00</td>\n",
       "      <td>2006-12-01 00:00:00</td>\n",
       "      <td>2009-09-01 00:00:00</td>\n",
       "      <td>2015-04-01 00:00:00</td>\n",
       "    </tr>\n",
       "    <tr>\n",
       "      <th>competition_time_month</th>\n",
       "      <td>84</td>\n",
       "      <td>94</td>\n",
       "      <td>105</td>\n",
       "      <td>71</td>\n",
       "      <td>4</td>\n",
       "    </tr>\n",
       "    <tr>\n",
       "      <th>promo_since</th>\n",
       "      <td>2015-07-27 00:00:00</td>\n",
       "      <td>2010-03-22 00:00:00</td>\n",
       "      <td>2011-03-28 00:00:00</td>\n",
       "      <td>2015-07-27 00:00:00</td>\n",
       "      <td>2015-07-27 00:00:00</td>\n",
       "    </tr>\n",
       "    <tr>\n",
       "      <th>promo_time_week</th>\n",
       "      <td>0</td>\n",
       "      <td>279</td>\n",
       "      <td>226</td>\n",
       "      <td>0</td>\n",
       "      <td>0</td>\n",
       "    </tr>\n",
       "  </tbody>\n",
       "</table>\n",
       "</div>"
      ],
      "text/plain": [
       "                                                0                    1  \\\n",
       "store                                           1                    2   \n",
       "day_of_week                                     5                    5   \n",
       "date                          2015-07-31 00:00:00  2015-07-31 00:00:00   \n",
       "sales                                        5263                 6064   \n",
       "customers                                     555                  625   \n",
       "open                                            1                    1   \n",
       "promo                                           1                    1   \n",
       "state_holiday                         regular_day          regular_day   \n",
       "school_holiday                                  1                    1   \n",
       "store_type                                      c                    a   \n",
       "assortment                                  basic                basic   \n",
       "competition_distance                       1270.0                570.0   \n",
       "competition_open_since_month                    9                   11   \n",
       "competition_open_since_year                  2008                 2007   \n",
       "promo2                                          0                    1   \n",
       "promo2_since_week                              31                   13   \n",
       "promo2_since_year                            2015                 2010   \n",
       "promo_interval                                  0      Jan,Apr,Jul,Oct   \n",
       "month_map                                     Jul                  Jul   \n",
       "is_promo                                        0                    1   \n",
       "year                                         2015                 2015   \n",
       "month                                           7                    7   \n",
       "week_of_year                                   31                   31   \n",
       "day                                            31                   31   \n",
       "year_week                                 2015-30              2015-30   \n",
       "competition_since             2008-09-01 00:00:00  2007-11-01 00:00:00   \n",
       "competition_time_month                         84                   94   \n",
       "promo_since                   2015-07-27 00:00:00  2010-03-22 00:00:00   \n",
       "promo_time_week                                 0                  279   \n",
       "\n",
       "                                                2                    3  \\\n",
       "store                                           3                    4   \n",
       "day_of_week                                     5                    5   \n",
       "date                          2015-07-31 00:00:00  2015-07-31 00:00:00   \n",
       "sales                                        8314                13995   \n",
       "customers                                     821                 1498   \n",
       "open                                            1                    1   \n",
       "promo                                           1                    1   \n",
       "state_holiday                         regular_day          regular_day   \n",
       "school_holiday                                  1                    1   \n",
       "store_type                                      a                    c   \n",
       "assortment                                  basic            extendend   \n",
       "competition_distance                      14130.0                620.0   \n",
       "competition_open_since_month                   12                    9   \n",
       "competition_open_since_year                  2006                 2009   \n",
       "promo2                                          1                    0   \n",
       "promo2_since_week                              14                   31   \n",
       "promo2_since_year                            2011                 2015   \n",
       "promo_interval                    Jan,Apr,Jul,Oct                    0   \n",
       "month_map                                     Jul                  Jul   \n",
       "is_promo                                        1                    0   \n",
       "year                                         2015                 2015   \n",
       "month                                           7                    7   \n",
       "week_of_year                                   31                   31   \n",
       "day                                            31                   31   \n",
       "year_week                                 2015-30              2015-30   \n",
       "competition_since             2006-12-01 00:00:00  2009-09-01 00:00:00   \n",
       "competition_time_month                        105                   71   \n",
       "promo_since                   2011-03-28 00:00:00  2015-07-27 00:00:00   \n",
       "promo_time_week                               226                    0   \n",
       "\n",
       "                                                4  \n",
       "store                                           5  \n",
       "day_of_week                                     5  \n",
       "date                          2015-07-31 00:00:00  \n",
       "sales                                        4822  \n",
       "customers                                     559  \n",
       "open                                            1  \n",
       "promo                                           1  \n",
       "state_holiday                         regular_day  \n",
       "school_holiday                                  1  \n",
       "store_type                                      a  \n",
       "assortment                                  basic  \n",
       "competition_distance                      29910.0  \n",
       "competition_open_since_month                    4  \n",
       "competition_open_since_year                  2015  \n",
       "promo2                                          0  \n",
       "promo2_since_week                              31  \n",
       "promo2_since_year                            2015  \n",
       "promo_interval                                  0  \n",
       "month_map                                     Jul  \n",
       "is_promo                                        0  \n",
       "year                                         2015  \n",
       "month                                           7  \n",
       "week_of_year                                   31  \n",
       "day                                            31  \n",
       "year_week                                 2015-30  \n",
       "competition_since             2015-04-01 00:00:00  \n",
       "competition_time_month                          4  \n",
       "promo_since                   2015-07-27 00:00:00  \n",
       "promo_time_week                                 0  "
      ]
     },
     "execution_count": 114,
     "metadata": {},
     "output_type": "execute_result"
    }
   ],
   "source": [
    "df2.head().T"
   ]
  },
  {
   "cell_type": "markdown",
   "id": "18c0a6c6",
   "metadata": {
    "heading_collapsed": true
   },
   "source": [
    "# 3.0. FILTRAGEM DE DADOS:"
   ]
  },
  {
   "cell_type": "code",
   "execution_count": 115,
   "id": "7f8d9c0b",
   "metadata": {
    "ExecuteTime": {
     "end_time": "2021-08-06T01:31:34.032041Z",
     "start_time": "2021-08-06T01:31:33.911557Z"
    },
    "hidden": true
   },
   "outputs": [],
   "source": [
    "df3 = df2.copy()"
   ]
  },
  {
   "cell_type": "code",
   "execution_count": 116,
   "id": "e7876263",
   "metadata": {
    "ExecuteTime": {
     "end_time": "2021-08-06T01:31:34.079917Z",
     "start_time": "2021-08-06T01:31:34.034040Z"
    },
    "hidden": true
   },
   "outputs": [
    {
     "data": {
      "text/html": [
       "<div>\n",
       "<style scoped>\n",
       "    .dataframe tbody tr th:only-of-type {\n",
       "        vertical-align: middle;\n",
       "    }\n",
       "\n",
       "    .dataframe tbody tr th {\n",
       "        vertical-align: top;\n",
       "    }\n",
       "\n",
       "    .dataframe thead th {\n",
       "        text-align: right;\n",
       "    }\n",
       "</style>\n",
       "<table border=\"1\" class=\"dataframe\">\n",
       "  <thead>\n",
       "    <tr style=\"text-align: right;\">\n",
       "      <th></th>\n",
       "      <th>store</th>\n",
       "      <th>day_of_week</th>\n",
       "      <th>date</th>\n",
       "      <th>sales</th>\n",
       "      <th>customers</th>\n",
       "      <th>open</th>\n",
       "      <th>promo</th>\n",
       "      <th>state_holiday</th>\n",
       "      <th>school_holiday</th>\n",
       "      <th>store_type</th>\n",
       "      <th>...</th>\n",
       "      <th>is_promo</th>\n",
       "      <th>year</th>\n",
       "      <th>month</th>\n",
       "      <th>week_of_year</th>\n",
       "      <th>day</th>\n",
       "      <th>year_week</th>\n",
       "      <th>competition_since</th>\n",
       "      <th>competition_time_month</th>\n",
       "      <th>promo_since</th>\n",
       "      <th>promo_time_week</th>\n",
       "    </tr>\n",
       "  </thead>\n",
       "  <tbody>\n",
       "    <tr>\n",
       "      <th>0</th>\n",
       "      <td>1</td>\n",
       "      <td>5</td>\n",
       "      <td>2015-07-31</td>\n",
       "      <td>5263</td>\n",
       "      <td>555</td>\n",
       "      <td>1</td>\n",
       "      <td>1</td>\n",
       "      <td>regular_day</td>\n",
       "      <td>1</td>\n",
       "      <td>c</td>\n",
       "      <td>...</td>\n",
       "      <td>0</td>\n",
       "      <td>2015</td>\n",
       "      <td>7</td>\n",
       "      <td>31</td>\n",
       "      <td>31</td>\n",
       "      <td>2015-30</td>\n",
       "      <td>2008-09-01</td>\n",
       "      <td>84</td>\n",
       "      <td>2015-07-27</td>\n",
       "      <td>0</td>\n",
       "    </tr>\n",
       "    <tr>\n",
       "      <th>1</th>\n",
       "      <td>2</td>\n",
       "      <td>5</td>\n",
       "      <td>2015-07-31</td>\n",
       "      <td>6064</td>\n",
       "      <td>625</td>\n",
       "      <td>1</td>\n",
       "      <td>1</td>\n",
       "      <td>regular_day</td>\n",
       "      <td>1</td>\n",
       "      <td>a</td>\n",
       "      <td>...</td>\n",
       "      <td>1</td>\n",
       "      <td>2015</td>\n",
       "      <td>7</td>\n",
       "      <td>31</td>\n",
       "      <td>31</td>\n",
       "      <td>2015-30</td>\n",
       "      <td>2007-11-01</td>\n",
       "      <td>94</td>\n",
       "      <td>2010-03-22</td>\n",
       "      <td>279</td>\n",
       "    </tr>\n",
       "    <tr>\n",
       "      <th>2</th>\n",
       "      <td>3</td>\n",
       "      <td>5</td>\n",
       "      <td>2015-07-31</td>\n",
       "      <td>8314</td>\n",
       "      <td>821</td>\n",
       "      <td>1</td>\n",
       "      <td>1</td>\n",
       "      <td>regular_day</td>\n",
       "      <td>1</td>\n",
       "      <td>a</td>\n",
       "      <td>...</td>\n",
       "      <td>1</td>\n",
       "      <td>2015</td>\n",
       "      <td>7</td>\n",
       "      <td>31</td>\n",
       "      <td>31</td>\n",
       "      <td>2015-30</td>\n",
       "      <td>2006-12-01</td>\n",
       "      <td>105</td>\n",
       "      <td>2011-03-28</td>\n",
       "      <td>226</td>\n",
       "    </tr>\n",
       "    <tr>\n",
       "      <th>3</th>\n",
       "      <td>4</td>\n",
       "      <td>5</td>\n",
       "      <td>2015-07-31</td>\n",
       "      <td>13995</td>\n",
       "      <td>1498</td>\n",
       "      <td>1</td>\n",
       "      <td>1</td>\n",
       "      <td>regular_day</td>\n",
       "      <td>1</td>\n",
       "      <td>c</td>\n",
       "      <td>...</td>\n",
       "      <td>0</td>\n",
       "      <td>2015</td>\n",
       "      <td>7</td>\n",
       "      <td>31</td>\n",
       "      <td>31</td>\n",
       "      <td>2015-30</td>\n",
       "      <td>2009-09-01</td>\n",
       "      <td>71</td>\n",
       "      <td>2015-07-27</td>\n",
       "      <td>0</td>\n",
       "    </tr>\n",
       "    <tr>\n",
       "      <th>4</th>\n",
       "      <td>5</td>\n",
       "      <td>5</td>\n",
       "      <td>2015-07-31</td>\n",
       "      <td>4822</td>\n",
       "      <td>559</td>\n",
       "      <td>1</td>\n",
       "      <td>1</td>\n",
       "      <td>regular_day</td>\n",
       "      <td>1</td>\n",
       "      <td>a</td>\n",
       "      <td>...</td>\n",
       "      <td>0</td>\n",
       "      <td>2015</td>\n",
       "      <td>7</td>\n",
       "      <td>31</td>\n",
       "      <td>31</td>\n",
       "      <td>2015-30</td>\n",
       "      <td>2015-04-01</td>\n",
       "      <td>4</td>\n",
       "      <td>2015-07-27</td>\n",
       "      <td>0</td>\n",
       "    </tr>\n",
       "  </tbody>\n",
       "</table>\n",
       "<p>5 rows × 29 columns</p>\n",
       "</div>"
      ],
      "text/plain": [
       "   store  day_of_week       date  sales  customers  open  promo state_holiday  \\\n",
       "0      1            5 2015-07-31   5263        555     1      1   regular_day   \n",
       "1      2            5 2015-07-31   6064        625     1      1   regular_day   \n",
       "2      3            5 2015-07-31   8314        821     1      1   regular_day   \n",
       "3      4            5 2015-07-31  13995       1498     1      1   regular_day   \n",
       "4      5            5 2015-07-31   4822        559     1      1   regular_day   \n",
       "\n",
       "   school_holiday store_type  ... is_promo  year  month  week_of_year  day  \\\n",
       "0               1          c  ...        0  2015      7            31   31   \n",
       "1               1          a  ...        1  2015      7            31   31   \n",
       "2               1          a  ...        1  2015      7            31   31   \n",
       "3               1          c  ...        0  2015      7            31   31   \n",
       "4               1          a  ...        0  2015      7            31   31   \n",
       "\n",
       "   year_week  competition_since competition_time_month promo_since  \\\n",
       "0    2015-30         2008-09-01                     84  2015-07-27   \n",
       "1    2015-30         2007-11-01                     94  2010-03-22   \n",
       "2    2015-30         2006-12-01                    105  2011-03-28   \n",
       "3    2015-30         2009-09-01                     71  2015-07-27   \n",
       "4    2015-30         2015-04-01                      4  2015-07-27   \n",
       "\n",
       "   promo_time_week  \n",
       "0                0  \n",
       "1              279  \n",
       "2              226  \n",
       "3                0  \n",
       "4                0  \n",
       "\n",
       "[5 rows x 29 columns]"
      ]
     },
     "execution_count": 116,
     "metadata": {},
     "output_type": "execute_result"
    }
   ],
   "source": [
    "df3.head()"
   ]
  },
  {
   "cell_type": "markdown",
   "id": "8080f6ed",
   "metadata": {
    "heading_collapsed": true
   },
   "source": [
    "# 3.1. Filtragem de linhas:"
   ]
  },
  {
   "cell_type": "code",
   "execution_count": 117,
   "id": "acc2d6a3",
   "metadata": {
    "ExecuteTime": {
     "end_time": "2021-08-06T01:31:34.298332Z",
     "start_time": "2021-08-06T01:31:34.081913Z"
    },
    "hidden": true
   },
   "outputs": [],
   "source": [
    "df3 = df3[( df3['open'] != 0 ) & ( df3['sales'] > 0 )]"
   ]
  },
  {
   "cell_type": "markdown",
   "id": "61bfe580",
   "metadata": {
    "heading_collapsed": true
   },
   "source": [
    "# 3.2. Seleção das colunas:"
   ]
  },
  {
   "cell_type": "code",
   "execution_count": 118,
   "id": "dbac27e0",
   "metadata": {
    "ExecuteTime": {
     "end_time": "2021-08-06T01:31:34.470871Z",
     "start_time": "2021-08-06T01:31:34.300327Z"
    },
    "hidden": true
   },
   "outputs": [],
   "source": [
    "cols_drop = ['customers', 'open','promo_interval','month_map']\n",
    "df3 = df3.drop( cols_drop, axis=1 )"
   ]
  },
  {
   "cell_type": "code",
   "execution_count": 119,
   "id": "04b7a50d",
   "metadata": {
    "ExecuteTime": {
     "end_time": "2021-08-06T01:31:34.485832Z",
     "start_time": "2021-08-06T01:31:34.474860Z"
    },
    "hidden": true
   },
   "outputs": [
    {
     "data": {
      "text/plain": [
       "Index(['store', 'day_of_week', 'date', 'sales', 'promo', 'state_holiday',\n",
       "       'school_holiday', 'store_type', 'assortment', 'competition_distance',\n",
       "       'competition_open_since_month', 'competition_open_since_year', 'promo2',\n",
       "       'promo2_since_week', 'promo2_since_year', 'is_promo', 'year', 'month',\n",
       "       'week_of_year', 'day', 'year_week', 'competition_since',\n",
       "       'competition_time_month', 'promo_since', 'promo_time_week'],\n",
       "      dtype='object')"
      ]
     },
     "execution_count": 119,
     "metadata": {},
     "output_type": "execute_result"
    }
   ],
   "source": [
    "df3.columns"
   ]
  },
  {
   "cell_type": "markdown",
   "id": "ab20b090",
   "metadata": {
    "heading_collapsed": true
   },
   "source": [
    "# 4.0. ANALISE EXPLORATORIA DE DADOS:"
   ]
  },
  {
   "cell_type": "code",
   "execution_count": 123,
   "id": "b8a0bea4",
   "metadata": {
    "ExecuteTime": {
     "end_time": "2021-08-06T01:32:38.301435Z",
     "start_time": "2021-08-06T01:32:38.231623Z"
    },
    "hidden": true
   },
   "outputs": [],
   "source": [
    "df4 = df3.copy()"
   ]
  },
  {
   "cell_type": "code",
   "execution_count": 124,
   "id": "f222fed8",
   "metadata": {
    "ExecuteTime": {
     "end_time": "2021-08-06T01:32:40.546818Z",
     "start_time": "2021-08-06T01:32:40.137790Z"
    },
    "hidden": true
   },
   "outputs": [
    {
     "data": {
      "text/html": [
       "<div>\n",
       "<style scoped>\n",
       "    .dataframe tbody tr th:only-of-type {\n",
       "        vertical-align: middle;\n",
       "    }\n",
       "\n",
       "    .dataframe tbody tr th {\n",
       "        vertical-align: top;\n",
       "    }\n",
       "\n",
       "    .dataframe thead th {\n",
       "        text-align: right;\n",
       "    }\n",
       "</style>\n",
       "<table border=\"1\" class=\"dataframe\">\n",
       "  <thead>\n",
       "    <tr style=\"text-align: right;\">\n",
       "      <th></th>\n",
       "      <th>store</th>\n",
       "      <th>day_of_week</th>\n",
       "      <th>date</th>\n",
       "      <th>sales</th>\n",
       "      <th>promo</th>\n",
       "      <th>state_holiday</th>\n",
       "      <th>school_holiday</th>\n",
       "      <th>store_type</th>\n",
       "      <th>assortment</th>\n",
       "      <th>competition_distance</th>\n",
       "      <th>...</th>\n",
       "      <th>is_promo</th>\n",
       "      <th>year</th>\n",
       "      <th>month</th>\n",
       "      <th>week_of_year</th>\n",
       "      <th>day</th>\n",
       "      <th>year_week</th>\n",
       "      <th>competition_since</th>\n",
       "      <th>competition_time_month</th>\n",
       "      <th>promo_since</th>\n",
       "      <th>promo_time_week</th>\n",
       "    </tr>\n",
       "  </thead>\n",
       "  <tbody>\n",
       "    <tr>\n",
       "      <th>0</th>\n",
       "      <td>1</td>\n",
       "      <td>5</td>\n",
       "      <td>2015-07-31</td>\n",
       "      <td>5263</td>\n",
       "      <td>1</td>\n",
       "      <td>regular_day</td>\n",
       "      <td>1</td>\n",
       "      <td>c</td>\n",
       "      <td>basic</td>\n",
       "      <td>1270.0</td>\n",
       "      <td>...</td>\n",
       "      <td>0</td>\n",
       "      <td>2015</td>\n",
       "      <td>7</td>\n",
       "      <td>31</td>\n",
       "      <td>31</td>\n",
       "      <td>2015-30</td>\n",
       "      <td>2008-09-01</td>\n",
       "      <td>84</td>\n",
       "      <td>2015-07-27</td>\n",
       "      <td>0</td>\n",
       "    </tr>\n",
       "    <tr>\n",
       "      <th>1</th>\n",
       "      <td>2</td>\n",
       "      <td>5</td>\n",
       "      <td>2015-07-31</td>\n",
       "      <td>6064</td>\n",
       "      <td>1</td>\n",
       "      <td>regular_day</td>\n",
       "      <td>1</td>\n",
       "      <td>a</td>\n",
       "      <td>basic</td>\n",
       "      <td>570.0</td>\n",
       "      <td>...</td>\n",
       "      <td>1</td>\n",
       "      <td>2015</td>\n",
       "      <td>7</td>\n",
       "      <td>31</td>\n",
       "      <td>31</td>\n",
       "      <td>2015-30</td>\n",
       "      <td>2007-11-01</td>\n",
       "      <td>94</td>\n",
       "      <td>2010-03-22</td>\n",
       "      <td>279</td>\n",
       "    </tr>\n",
       "    <tr>\n",
       "      <th>2</th>\n",
       "      <td>3</td>\n",
       "      <td>5</td>\n",
       "      <td>2015-07-31</td>\n",
       "      <td>8314</td>\n",
       "      <td>1</td>\n",
       "      <td>regular_day</td>\n",
       "      <td>1</td>\n",
       "      <td>a</td>\n",
       "      <td>basic</td>\n",
       "      <td>14130.0</td>\n",
       "      <td>...</td>\n",
       "      <td>1</td>\n",
       "      <td>2015</td>\n",
       "      <td>7</td>\n",
       "      <td>31</td>\n",
       "      <td>31</td>\n",
       "      <td>2015-30</td>\n",
       "      <td>2006-12-01</td>\n",
       "      <td>105</td>\n",
       "      <td>2011-03-28</td>\n",
       "      <td>226</td>\n",
       "    </tr>\n",
       "    <tr>\n",
       "      <th>3</th>\n",
       "      <td>4</td>\n",
       "      <td>5</td>\n",
       "      <td>2015-07-31</td>\n",
       "      <td>13995</td>\n",
       "      <td>1</td>\n",
       "      <td>regular_day</td>\n",
       "      <td>1</td>\n",
       "      <td>c</td>\n",
       "      <td>extendend</td>\n",
       "      <td>620.0</td>\n",
       "      <td>...</td>\n",
       "      <td>0</td>\n",
       "      <td>2015</td>\n",
       "      <td>7</td>\n",
       "      <td>31</td>\n",
       "      <td>31</td>\n",
       "      <td>2015-30</td>\n",
       "      <td>2009-09-01</td>\n",
       "      <td>71</td>\n",
       "      <td>2015-07-27</td>\n",
       "      <td>0</td>\n",
       "    </tr>\n",
       "    <tr>\n",
       "      <th>4</th>\n",
       "      <td>5</td>\n",
       "      <td>5</td>\n",
       "      <td>2015-07-31</td>\n",
       "      <td>4822</td>\n",
       "      <td>1</td>\n",
       "      <td>regular_day</td>\n",
       "      <td>1</td>\n",
       "      <td>a</td>\n",
       "      <td>basic</td>\n",
       "      <td>29910.0</td>\n",
       "      <td>...</td>\n",
       "      <td>0</td>\n",
       "      <td>2015</td>\n",
       "      <td>7</td>\n",
       "      <td>31</td>\n",
       "      <td>31</td>\n",
       "      <td>2015-30</td>\n",
       "      <td>2015-04-01</td>\n",
       "      <td>4</td>\n",
       "      <td>2015-07-27</td>\n",
       "      <td>0</td>\n",
       "    </tr>\n",
       "    <tr>\n",
       "      <th>...</th>\n",
       "      <td>...</td>\n",
       "      <td>...</td>\n",
       "      <td>...</td>\n",
       "      <td>...</td>\n",
       "      <td>...</td>\n",
       "      <td>...</td>\n",
       "      <td>...</td>\n",
       "      <td>...</td>\n",
       "      <td>...</td>\n",
       "      <td>...</td>\n",
       "      <td>...</td>\n",
       "      <td>...</td>\n",
       "      <td>...</td>\n",
       "      <td>...</td>\n",
       "      <td>...</td>\n",
       "      <td>...</td>\n",
       "      <td>...</td>\n",
       "      <td>...</td>\n",
       "      <td>...</td>\n",
       "      <td>...</td>\n",
       "      <td>...</td>\n",
       "    </tr>\n",
       "    <tr>\n",
       "      <th>1016776</th>\n",
       "      <td>682</td>\n",
       "      <td>2</td>\n",
       "      <td>2013-01-01</td>\n",
       "      <td>3375</td>\n",
       "      <td>0</td>\n",
       "      <td>public_holiday</td>\n",
       "      <td>1</td>\n",
       "      <td>b</td>\n",
       "      <td>basic</td>\n",
       "      <td>150.0</td>\n",
       "      <td>...</td>\n",
       "      <td>0</td>\n",
       "      <td>2013</td>\n",
       "      <td>1</td>\n",
       "      <td>1</td>\n",
       "      <td>1</td>\n",
       "      <td>2013-00</td>\n",
       "      <td>2006-09-01</td>\n",
       "      <td>77</td>\n",
       "      <td>2012-12-31</td>\n",
       "      <td>0</td>\n",
       "    </tr>\n",
       "    <tr>\n",
       "      <th>1016827</th>\n",
       "      <td>733</td>\n",
       "      <td>2</td>\n",
       "      <td>2013-01-01</td>\n",
       "      <td>10765</td>\n",
       "      <td>0</td>\n",
       "      <td>public_holiday</td>\n",
       "      <td>1</td>\n",
       "      <td>b</td>\n",
       "      <td>extra</td>\n",
       "      <td>860.0</td>\n",
       "      <td>...</td>\n",
       "      <td>0</td>\n",
       "      <td>2013</td>\n",
       "      <td>1</td>\n",
       "      <td>1</td>\n",
       "      <td>1</td>\n",
       "      <td>2013-00</td>\n",
       "      <td>1999-10-01</td>\n",
       "      <td>161</td>\n",
       "      <td>2012-12-31</td>\n",
       "      <td>0</td>\n",
       "    </tr>\n",
       "    <tr>\n",
       "      <th>1016863</th>\n",
       "      <td>769</td>\n",
       "      <td>2</td>\n",
       "      <td>2013-01-01</td>\n",
       "      <td>5035</td>\n",
       "      <td>0</td>\n",
       "      <td>public_holiday</td>\n",
       "      <td>1</td>\n",
       "      <td>b</td>\n",
       "      <td>extra</td>\n",
       "      <td>840.0</td>\n",
       "      <td>...</td>\n",
       "      <td>1</td>\n",
       "      <td>2013</td>\n",
       "      <td>1</td>\n",
       "      <td>1</td>\n",
       "      <td>1</td>\n",
       "      <td>2013-00</td>\n",
       "      <td>2013-01-01</td>\n",
       "      <td>0</td>\n",
       "      <td>2012-11-19</td>\n",
       "      <td>6</td>\n",
       "    </tr>\n",
       "    <tr>\n",
       "      <th>1017042</th>\n",
       "      <td>948</td>\n",
       "      <td>2</td>\n",
       "      <td>2013-01-01</td>\n",
       "      <td>4491</td>\n",
       "      <td>0</td>\n",
       "      <td>public_holiday</td>\n",
       "      <td>1</td>\n",
       "      <td>b</td>\n",
       "      <td>extra</td>\n",
       "      <td>1430.0</td>\n",
       "      <td>...</td>\n",
       "      <td>0</td>\n",
       "      <td>2013</td>\n",
       "      <td>1</td>\n",
       "      <td>1</td>\n",
       "      <td>1</td>\n",
       "      <td>2013-00</td>\n",
       "      <td>2013-01-01</td>\n",
       "      <td>0</td>\n",
       "      <td>2012-12-31</td>\n",
       "      <td>0</td>\n",
       "    </tr>\n",
       "    <tr>\n",
       "      <th>1017190</th>\n",
       "      <td>1097</td>\n",
       "      <td>2</td>\n",
       "      <td>2013-01-01</td>\n",
       "      <td>5961</td>\n",
       "      <td>0</td>\n",
       "      <td>public_holiday</td>\n",
       "      <td>1</td>\n",
       "      <td>b</td>\n",
       "      <td>extra</td>\n",
       "      <td>720.0</td>\n",
       "      <td>...</td>\n",
       "      <td>0</td>\n",
       "      <td>2013</td>\n",
       "      <td>1</td>\n",
       "      <td>1</td>\n",
       "      <td>1</td>\n",
       "      <td>2013-00</td>\n",
       "      <td>2002-03-01</td>\n",
       "      <td>131</td>\n",
       "      <td>2012-12-31</td>\n",
       "      <td>0</td>\n",
       "    </tr>\n",
       "  </tbody>\n",
       "</table>\n",
       "<p>844338 rows × 25 columns</p>\n",
       "</div>"
      ],
      "text/plain": [
       "         store  day_of_week       date  sales  promo   state_holiday  \\\n",
       "0            1            5 2015-07-31   5263      1     regular_day   \n",
       "1            2            5 2015-07-31   6064      1     regular_day   \n",
       "2            3            5 2015-07-31   8314      1     regular_day   \n",
       "3            4            5 2015-07-31  13995      1     regular_day   \n",
       "4            5            5 2015-07-31   4822      1     regular_day   \n",
       "...        ...          ...        ...    ...    ...             ...   \n",
       "1016776    682            2 2013-01-01   3375      0  public_holiday   \n",
       "1016827    733            2 2013-01-01  10765      0  public_holiday   \n",
       "1016863    769            2 2013-01-01   5035      0  public_holiday   \n",
       "1017042    948            2 2013-01-01   4491      0  public_holiday   \n",
       "1017190   1097            2 2013-01-01   5961      0  public_holiday   \n",
       "\n",
       "         school_holiday store_type assortment  competition_distance  ...  \\\n",
       "0                     1          c      basic                1270.0  ...   \n",
       "1                     1          a      basic                 570.0  ...   \n",
       "2                     1          a      basic               14130.0  ...   \n",
       "3                     1          c  extendend                 620.0  ...   \n",
       "4                     1          a      basic               29910.0  ...   \n",
       "...                 ...        ...        ...                   ...  ...   \n",
       "1016776               1          b      basic                 150.0  ...   \n",
       "1016827               1          b      extra                 860.0  ...   \n",
       "1016863               1          b      extra                 840.0  ...   \n",
       "1017042               1          b      extra                1430.0  ...   \n",
       "1017190               1          b      extra                 720.0  ...   \n",
       "\n",
       "         is_promo  year  month  week_of_year  day  year_week  \\\n",
       "0               0  2015      7            31   31    2015-30   \n",
       "1               1  2015      7            31   31    2015-30   \n",
       "2               1  2015      7            31   31    2015-30   \n",
       "3               0  2015      7            31   31    2015-30   \n",
       "4               0  2015      7            31   31    2015-30   \n",
       "...           ...   ...    ...           ...  ...        ...   \n",
       "1016776         0  2013      1             1    1    2013-00   \n",
       "1016827         0  2013      1             1    1    2013-00   \n",
       "1016863         1  2013      1             1    1    2013-00   \n",
       "1017042         0  2013      1             1    1    2013-00   \n",
       "1017190         0  2013      1             1    1    2013-00   \n",
       "\n",
       "         competition_since  competition_time_month  promo_since  \\\n",
       "0               2008-09-01                      84   2015-07-27   \n",
       "1               2007-11-01                      94   2010-03-22   \n",
       "2               2006-12-01                     105   2011-03-28   \n",
       "3               2009-09-01                      71   2015-07-27   \n",
       "4               2015-04-01                       4   2015-07-27   \n",
       "...                    ...                     ...          ...   \n",
       "1016776         2006-09-01                      77   2012-12-31   \n",
       "1016827         1999-10-01                     161   2012-12-31   \n",
       "1016863         2013-01-01                       0   2012-11-19   \n",
       "1017042         2013-01-01                       0   2012-12-31   \n",
       "1017190         2002-03-01                     131   2012-12-31   \n",
       "\n",
       "         promo_time_week  \n",
       "0                      0  \n",
       "1                    279  \n",
       "2                    226  \n",
       "3                      0  \n",
       "4                      0  \n",
       "...                  ...  \n",
       "1016776                0  \n",
       "1016827                0  \n",
       "1016863                6  \n",
       "1017042                0  \n",
       "1017190                0  \n",
       "\n",
       "[844338 rows x 25 columns]"
      ]
     },
     "execution_count": 124,
     "metadata": {},
     "output_type": "execute_result"
    }
   ],
   "source": [
    "df4"
   ]
  },
  {
   "cell_type": "markdown",
   "id": "b8009500",
   "metadata": {
    "heading_collapsed": true
   },
   "source": [
    "# 4.1. Analise Univariada:"
   ]
  },
  {
   "cell_type": "markdown",
   "id": "696168d2",
   "metadata": {
    "hidden": true
   },
   "source": [
    "## 4.1.1. Response Variable:"
   ]
  },
  {
   "cell_type": "code",
   "execution_count": 125,
   "id": "65fe225a",
   "metadata": {
    "ExecuteTime": {
     "end_time": "2021-08-06T01:32:58.027165Z",
     "start_time": "2021-08-06T01:32:50.825257Z"
    },
    "hidden": true,
    "hide_input": false
   },
   "outputs": [
    {
     "name": "stderr",
     "output_type": "stream",
     "text": [
      "C:\\Users\\eduardo\\anaconda3\\envs\\Rossmann_Stores_Sales\\lib\\site-packages\\seaborn\\distributions.py:2557: FutureWarning: `distplot` is a deprecated function and will be removed in a future version. Please adapt your code to use either `displot` (a figure-level function with similar flexibility) or `histplot` (an axes-level function for histograms).\n",
      "  warnings.warn(msg, FutureWarning)\n"
     ]
    },
    {
     "data": {
      "text/plain": [
       "<AxesSubplot:xlabel='sales', ylabel='Density'>"
      ]
     },
     "execution_count": 125,
     "metadata": {},
     "output_type": "execute_result"
    },
    {
     "data": {
      "image/png": "[encoded data removed]",
      "text/plain": [
       "<Figure size 432x288 with 1 Axes>"
      ]
     },
     "metadata": {
      "needs_background": "light"
     },
     "output_type": "display_data"
    }
   ],
   "source": [
    "sns.distplot( df4['sales'], kde = True )\n",
    "#plt.rcParams[\"figure.size\"]=(20,10)"
   ]
  },
  {
   "cell_type": "markdown",
   "id": "d183e73a",
   "metadata": {
    "heading_collapsed": true,
    "hidden": true
   },
   "source": [
    "## 4.1.2. Numerical Variable:"
   ]
  },
  {
   "cell_type": "code",
   "execution_count": 61,
   "id": "22eb9b54",
   "metadata": {
    "ExecuteTime": {
     "end_time": "2021-08-06T01:21:44.665367Z",
     "start_time": "2021-08-06T01:21:42.948269Z"
    },
    "hidden": true
   },
   "outputs": [
    {
     "data": {
      "image/png": "[encoded data removed]",
      "text/plain": [
       "<Figure size 432x288 with 16 Axes>"
      ]
     },
     "metadata": {
      "needs_background": "light"
     },
     "output_type": "display_data"
    }
   ],
   "source": [
    "num_attributes.hist(bins=20);\n",
    "#plt.rcParams[\"figure.size\"]=(10,10)\n"
   ]
  },
  {
   "cell_type": "markdown",
   "id": "b59e3316",
   "metadata": {
    "heading_collapsed": true,
    "hidden": true
   },
   "source": [
    "## 4.1.3. Categorical Variable:"
   ]
  },
  {
   "cell_type": "code",
   "execution_count": 62,
   "id": "6be25f9e",
   "metadata": {
    "ExecuteTime": {
     "end_time": "2021-08-06T01:21:44.680371Z",
     "start_time": "2021-08-06T01:21:44.666368Z"
    },
    "hidden": true
   },
   "outputs": [
    {
     "data": {
      "text/html": [
       "<div>\n",
       "<style scoped>\n",
       "    .dataframe tbody tr th:only-of-type {\n",
       "        vertical-align: middle;\n",
       "    }\n",
       "\n",
       "    .dataframe tbody tr th {\n",
       "        vertical-align: top;\n",
       "    }\n",
       "\n",
       "    .dataframe thead th {\n",
       "        text-align: right;\n",
       "    }\n",
       "</style>\n",
       "<table border=\"1\" class=\"dataframe\">\n",
       "  <thead>\n",
       "    <tr style=\"text-align: right;\">\n",
       "      <th></th>\n",
       "      <th>state_holiday</th>\n",
       "      <th>store_type</th>\n",
       "      <th>assortment</th>\n",
       "      <th>promo_interval</th>\n",
       "      <th>month_map</th>\n",
       "    </tr>\n",
       "  </thead>\n",
       "  <tbody>\n",
       "    <tr>\n",
       "      <th>0</th>\n",
       "      <td>0</td>\n",
       "      <td>c</td>\n",
       "      <td>a</td>\n",
       "      <td>0</td>\n",
       "      <td>Jul</td>\n",
       "    </tr>\n",
       "    <tr>\n",
       "      <th>1</th>\n",
       "      <td>0</td>\n",
       "      <td>a</td>\n",
       "      <td>a</td>\n",
       "      <td>Jan,Apr,Jul,Oct</td>\n",
       "      <td>Jul</td>\n",
       "    </tr>\n",
       "    <tr>\n",
       "      <th>2</th>\n",
       "      <td>0</td>\n",
       "      <td>a</td>\n",
       "      <td>a</td>\n",
       "      <td>Jan,Apr,Jul,Oct</td>\n",
       "      <td>Jul</td>\n",
       "    </tr>\n",
       "    <tr>\n",
       "      <th>3</th>\n",
       "      <td>0</td>\n",
       "      <td>c</td>\n",
       "      <td>c</td>\n",
       "      <td>0</td>\n",
       "      <td>Jul</td>\n",
       "    </tr>\n",
       "    <tr>\n",
       "      <th>4</th>\n",
       "      <td>0</td>\n",
       "      <td>a</td>\n",
       "      <td>a</td>\n",
       "      <td>0</td>\n",
       "      <td>Jul</td>\n",
       "    </tr>\n",
       "  </tbody>\n",
       "</table>\n",
       "</div>"
      ],
      "text/plain": [
       "  state_holiday store_type assortment   promo_interval month_map\n",
       "0             0          c          a                0       Jul\n",
       "1             0          a          a  Jan,Apr,Jul,Oct       Jul\n",
       "2             0          a          a  Jan,Apr,Jul,Oct       Jul\n",
       "3             0          c          c                0       Jul\n",
       "4             0          a          a                0       Jul"
      ]
     },
     "execution_count": 62,
     "metadata": {},
     "output_type": "execute_result"
    }
   ],
   "source": [
    "cat_attributes.head()"
   ]
  },
  {
   "cell_type": "code",
   "execution_count": 63,
   "id": "75292241",
   "metadata": {
    "ExecuteTime": {
     "end_time": "2021-08-06T01:21:53.739601Z",
     "start_time": "2021-08-06T01:21:44.681329Z"
    },
    "hidden": true
   },
   "outputs": [
    {
     "name": "stderr",
     "output_type": "stream",
     "text": [
      "C:\\Users\\eduardo\\anaconda3\\envs\\Rossmann_Stores_Sales\\lib\\site-packages\\seaborn\\_decorators.py:36: FutureWarning: Pass the following variable as a keyword arg: x. From version 0.12, the only valid positional argument will be `data`, and passing other arguments without an explicit keyword will result in an error or misinterpretation.\n",
      "  warnings.warn(\n",
      "C:\\Users\\eduardo\\anaconda3\\envs\\Rossmann_Stores_Sales\\lib\\site-packages\\seaborn\\_decorators.py:36: FutureWarning: Pass the following variable as a keyword arg: x. From version 0.12, the only valid positional argument will be `data`, and passing other arguments without an explicit keyword will result in an error or misinterpretation.\n",
      "  warnings.warn(\n",
      "C:\\Users\\eduardo\\anaconda3\\envs\\Rossmann_Stores_Sales\\lib\\site-packages\\seaborn\\_decorators.py:36: FutureWarning: Pass the following variable as a keyword arg: x. From version 0.12, the only valid positional argument will be `data`, and passing other arguments without an explicit keyword will result in an error or misinterpretation.\n",
      "  warnings.warn(\n"
     ]
    },
    {
     "ename": "ValueError",
     "evalue": "num must be 1 <= num <= 4, not 6",
     "output_type": "error",
     "traceback": [
      "\u001b[1;31m---------------------------------------------------------------------------\u001b[0m",
      "\u001b[1;31mValueError\u001b[0m                                Traceback (most recent call last)",
      "\u001b[1;32m<ipython-input-63-78bba2667ef2>\u001b[0m in \u001b[0;36m<module>\u001b[1;34m\u001b[0m\n\u001b[0;32m     30\u001b[0m \u001b[0msns\u001b[0m\u001b[1;33m.\u001b[0m\u001b[0mcountplot\u001b[0m\u001b[1;33m(\u001b[0m \u001b[0mdf4\u001b[0m\u001b[1;33m[\u001b[0m\u001b[1;34m'assortment'\u001b[0m\u001b[1;33m]\u001b[0m\u001b[1;33m)\u001b[0m\u001b[1;33m\u001b[0m\u001b[1;33m\u001b[0m\u001b[0m\n\u001b[0;32m     31\u001b[0m \u001b[1;33m\u001b[0m\u001b[0m\n\u001b[1;32m---> 32\u001b[1;33m \u001b[0mplt\u001b[0m\u001b[1;33m.\u001b[0m\u001b[0msubplot\u001b[0m\u001b[1;33m(\u001b[0m \u001b[1;36m2\u001b[0m\u001b[1;33m,\u001b[0m \u001b[1;36m2\u001b[0m\u001b[1;33m,\u001b[0m \u001b[1;36m6\u001b[0m \u001b[1;33m)\u001b[0m\u001b[1;33m\u001b[0m\u001b[1;33m\u001b[0m\u001b[0m\n\u001b[0m\u001b[0;32m     33\u001b[0m \u001b[0msns\u001b[0m\u001b[1;33m.\u001b[0m\u001b[0mkdeplot\u001b[0m\u001b[1;33m(\u001b[0m \u001b[0mdf4\u001b[0m\u001b[1;33m[\u001b[0m \u001b[0mdf4\u001b[0m\u001b[1;33m[\u001b[0m\u001b[1;34m'assortment'\u001b[0m\u001b[1;33m]\u001b[0m \u001b[1;33m==\u001b[0m \u001b[1;34m'a'\u001b[0m\u001b[1;33m]\u001b[0m\u001b[1;33m[\u001b[0m\u001b[1;34m'sales'\u001b[0m\u001b[1;33m]\u001b[0m\u001b[1;33m,\u001b[0m \u001b[0mlabel\u001b[0m\u001b[1;33m=\u001b[0m\u001b[1;34m'extended'\u001b[0m\u001b[1;33m,\u001b[0m \u001b[0mshade\u001b[0m\u001b[1;33m=\u001b[0m\u001b[1;32mTrue\u001b[0m \u001b[1;33m)\u001b[0m\u001b[1;33m\u001b[0m\u001b[1;33m\u001b[0m\u001b[0m\n\u001b[0;32m     34\u001b[0m \u001b[0msns\u001b[0m\u001b[1;33m.\u001b[0m\u001b[0mkdeplot\u001b[0m\u001b[1;33m(\u001b[0m \u001b[0mdf4\u001b[0m\u001b[1;33m[\u001b[0m \u001b[0mdf4\u001b[0m\u001b[1;33m[\u001b[0m\u001b[1;34m'assortment'\u001b[0m\u001b[1;33m]\u001b[0m \u001b[1;33m==\u001b[0m \u001b[1;34m'b'\u001b[0m\u001b[1;33m]\u001b[0m\u001b[1;33m[\u001b[0m\u001b[1;34m'sales'\u001b[0m\u001b[1;33m]\u001b[0m\u001b[1;33m,\u001b[0m \u001b[0mlabel\u001b[0m\u001b[1;33m=\u001b[0m\u001b[1;34m'basic'\u001b[0m\u001b[1;33m,\u001b[0m    \u001b[0mshade\u001b[0m\u001b[1;33m=\u001b[0m\u001b[1;32mTrue\u001b[0m \u001b[1;33m)\u001b[0m\u001b[1;33m\u001b[0m\u001b[1;33m\u001b[0m\u001b[0m\n",
      "\u001b[1;32m~\\anaconda3\\envs\\Rossmann_Stores_Sales\\lib\\site-packages\\matplotlib\\pyplot.py\u001b[0m in \u001b[0;36msubplot\u001b[1;34m(*args, **kwargs)\u001b[0m\n\u001b[0;32m   1270\u001b[0m \u001b[1;33m\u001b[0m\u001b[0m\n\u001b[0;32m   1271\u001b[0m     \u001b[1;31m# First, search for an existing subplot with a matching spec.\u001b[0m\u001b[1;33m\u001b[0m\u001b[1;33m\u001b[0m\u001b[1;33m\u001b[0m\u001b[0m\n\u001b[1;32m-> 1272\u001b[1;33m     \u001b[0mkey\u001b[0m \u001b[1;33m=\u001b[0m \u001b[0mSubplotSpec\u001b[0m\u001b[1;33m.\u001b[0m\u001b[0m_from_subplot_args\u001b[0m\u001b[1;33m(\u001b[0m\u001b[0mfig\u001b[0m\u001b[1;33m,\u001b[0m \u001b[0margs\u001b[0m\u001b[1;33m)\u001b[0m\u001b[1;33m\u001b[0m\u001b[1;33m\u001b[0m\u001b[0m\n\u001b[0m\u001b[0;32m   1273\u001b[0m \u001b[1;33m\u001b[0m\u001b[0m\n\u001b[0;32m   1274\u001b[0m     \u001b[1;32mfor\u001b[0m \u001b[0max\u001b[0m \u001b[1;32min\u001b[0m \u001b[0mfig\u001b[0m\u001b[1;33m.\u001b[0m\u001b[0maxes\u001b[0m\u001b[1;33m:\u001b[0m\u001b[1;33m\u001b[0m\u001b[1;33m\u001b[0m\u001b[0m\n",
      "\u001b[1;32m~\\anaconda3\\envs\\Rossmann_Stores_Sales\\lib\\site-packages\\matplotlib\\gridspec.py\u001b[0m in \u001b[0;36m_from_subplot_args\u001b[1;34m(figure, args)\u001b[0m\n\u001b[0;32m    651\u001b[0m                     \u001b[0mnum\u001b[0m \u001b[1;33m=\u001b[0m \u001b[0mint\u001b[0m\u001b[1;33m(\u001b[0m\u001b[0mnum\u001b[0m\u001b[1;33m)\u001b[0m\u001b[1;33m\u001b[0m\u001b[1;33m\u001b[0m\u001b[0m\n\u001b[0;32m    652\u001b[0m                 \u001b[1;32mif\u001b[0m \u001b[0mnum\u001b[0m \u001b[1;33m<\u001b[0m \u001b[1;36m1\u001b[0m \u001b[1;32mor\u001b[0m \u001b[0mnum\u001b[0m \u001b[1;33m>\u001b[0m \u001b[0mrows\u001b[0m\u001b[1;33m*\u001b[0m\u001b[0mcols\u001b[0m\u001b[1;33m:\u001b[0m\u001b[1;33m\u001b[0m\u001b[1;33m\u001b[0m\u001b[0m\n\u001b[1;32m--> 653\u001b[1;33m                     raise ValueError(\n\u001b[0m\u001b[0;32m    654\u001b[0m                         f\"num must be 1 <= num <= {rows*cols}, not {num}\")\n\u001b[0;32m    655\u001b[0m                 \u001b[0mi\u001b[0m \u001b[1;33m=\u001b[0m \u001b[0mj\u001b[0m \u001b[1;33m=\u001b[0m \u001b[0mnum\u001b[0m\u001b[1;33m\u001b[0m\u001b[1;33m\u001b[0m\u001b[0m\n",
      "\u001b[1;31mValueError\u001b[0m: num must be 1 <= num <= 4, not 6"
     ]
    },
    {
     "data": {
      "image/png": "[encoded data removed]",
      "text/plain": [
       "<Figure size 432x288 with 5 Axes>"
      ]
     },
     "metadata": {
      "needs_background": "light"
     },
     "output_type": "display_data"
    }
   ],
   "source": [
    "df4['state_holiday'].drop_duplicates()\n",
    "\n",
    "# state holiday:\n",
    "\n",
    "plt.subplot( 3, 2, 1 )\n",
    "a = df4[ df4['state_holiday'] != 'regular_day' ]\n",
    "sns.countplot( a['state_holiday'] )\n",
    "\n",
    "plt.subplot( 3, 2, 2 )\n",
    "sns.kdeplot( df4[ df4['state_holiday'] == 'public_holiday']   ['sales'], label='public_holiday',    shade=True )\n",
    "sns.kdeplot( df4[ df4['state_holiday'] == 'easter_holiday']   ['sales'], label='easter_holiday',    shade=True )\n",
    "sns.kdeplot( df4[ df4['state_holiday'] == 'chrstimas_holiday']['sales'], label='chrstimas_holiday', shade=True )\n",
    "\n",
    "\n",
    "# story type:\n",
    "\n",
    "plt.subplot( 3, 2, 3 )\n",
    "sns.countplot( df4['store_type'])\n",
    "\n",
    "plt.subplot( 3, 2, 4 )\n",
    "sns.kdeplot( df4[ df4['store_type'] == 'a']['sales'], label='a', shade=True )\n",
    "sns.kdeplot( df4[ df4['store_type'] == 'b']['sales'], label='b', shade=True )\n",
    "sns.kdeplot( df4[ df4['store_type'] == 'c']['sales'], label='c', shade=True )\n",
    "sns.kdeplot( df4[ df4['store_type'] == 'd']['sales'], label='d', shade=True )\n",
    "\n",
    "\n",
    "# assortment:\n",
    "\n",
    "plt.subplot( 3, 2, 5 )\n",
    "sns.countplot( df4['assortment'])\n",
    "\n",
    "plt.subplot( 2, 2, 6 )\n",
    "sns.kdeplot( df4[ df4['assortment'] == 'a']['sales'], label='extended', shade=True )\n",
    "sns.kdeplot( df4[ df4['assortment'] == 'b']['sales'], label='basic',    shade=True )\n",
    "sns.kdeplot( df4[ df4['assortment'] == 'c']['sales'], label='extra',    shade=True )\n",
    "#plt.rcParams[\"figure.size\"]=(1,5)\n",
    "\n"
   ]
  },
  {
   "cell_type": "markdown",
   "id": "dffabd68",
   "metadata": {
    "heading_collapsed": true
   },
   "source": [
    "# 4.2. Analise Bivariada:"
   ]
  },
  {
   "cell_type": "markdown",
   "id": "c18518ce",
   "metadata": {
    "heading_collapsed": true,
    "hidden": true
   },
   "source": [
    "### H1. Lojas com maior sortimentos deveriam vender mais:\n",
    "**FALSA** Lojas com MAIOR SORTMENTO vendem MENOS."
   ]
  },
  {
   "cell_type": "code",
   "execution_count": null,
   "id": "dee30a4f",
   "metadata": {
    "ExecuteTime": {
     "end_time": "2021-08-06T01:21:53.753520Z",
     "start_time": "2021-08-06T01:18:20.123Z"
    },
    "hidden": true
   },
   "outputs": [],
   "source": [
    "aux1 = df4[['assortment', 'sales']].groupby( 'assortment' ).sum().reset_index()\n",
    "sns.barplot( x = 'assortment', y='sales', data = aux1 );"
   ]
  },
  {
   "cell_type": "code",
   "execution_count": null,
   "id": "87156d80",
   "metadata": {
    "ExecuteTime": {
     "end_time": "2021-08-06T01:21:53.755482Z",
     "start_time": "2021-08-06T01:18:20.128Z"
    },
    "hidden": true
   },
   "outputs": [],
   "source": [
    "aux2 = df4[['assortment', 'sales', 'year_week']].groupby( [ 'year_week', 'assortment' ] ).sum().reset_index()\n",
    "aux2.pivot( index = 'year_week', columns ='assortment', values ='sales' ).plot()"
   ]
  },
  {
   "cell_type": "code",
   "execution_count": null,
   "id": "e9c24b2d",
   "metadata": {
    "ExecuteTime": {
     "end_time": "2021-08-06T00:57:31.672836Z",
     "start_time": "2021-08-06T00:57:26.164Z"
    },
    "deletable": false,
    "editable": false,
    "hidden": true,
    "run_control": {
     "frozen": true
    }
   },
   "outputs": [],
   "source": [
    "aux3 =  aux2[ aux2['assortment'] == 'extra' ]\n",
    "aux3.pivot( index = 'year_week', columns ='assortment', values = 'sales' ).plot()"
   ]
  },
  {
   "cell_type": "markdown",
   "id": "0f427c55",
   "metadata": {
    "hidden": true
   },
   "source": [
    "### H2. Lojas com competidores mais próximos deveriam vender menos.\n",
    "**FALSA** Lojas com COMPETIDORES MAIS PRÓXIMOS vendem MAIS."
   ]
  },
  {
   "cell_type": "code",
   "execution_count": null,
   "id": "fb093603",
   "metadata": {
    "ExecuteTime": {
     "end_time": "2021-08-06T01:21:53.756477Z",
     "start_time": "2021-08-06T01:18:20.258Z"
    },
    "hidden": true
   },
   "outputs": [],
   "source": [
    "aux1 = df4[['competition_distance', 'sales']].groupby( 'competition_distance' ).sum().reset_index()\n",
    "sns.barplot( x = 'competition_distance', y = 'sales', data = aux1 );"
   ]
  },
  {
   "cell_type": "code",
   "execution_count": null,
   "id": "b8c435ce",
   "metadata": {
    "ExecuteTime": {
     "end_time": "2021-08-06T01:21:53.758472Z",
     "start_time": "2021-08-06T01:18:20.262Z"
    },
    "hidden": true
   },
   "outputs": [],
   "source": [
    "aux1.sample(4)"
   ]
  },
  {
   "cell_type": "code",
   "execution_count": null,
   "id": "d9f6ba65",
   "metadata": {
    "ExecuteTime": {
     "end_time": "2021-08-06T01:21:53.760505Z",
     "start_time": "2021-08-06T01:18:20.266Z"
    },
    "hidden": true
   },
   "outputs": [],
   "source": [
    "aux1 = df4[['competition_distance', 'sales']].groupby( 'competition_distance' ).sum().reset_index()\n",
    "\n",
    "bins = list( np.arange(0, 20000, 1000) )\n",
    "\n",
    "aux1['competition_distance_binned'] = pd.cut( aux1['competition_distance'], bins=bins )\n",
    "aux2 = aux1[['competition_distance_binned','sales']].groupby('competition_distance_binned' ).sum().reset_index()\n",
    "\n",
    "sns.barplot( x='competition_distance_binned', y='sales', data=aux2 );"
   ]
  },
  {
   "cell_type": "code",
   "execution_count": null,
   "id": "1cfcae2f",
   "metadata": {
    "ExecuteTime": {
     "end_time": "2021-08-06T01:21:53.761464Z",
     "start_time": "2021-08-06T01:18:20.270Z"
    },
    "hidden": true
   },
   "outputs": [],
   "source": [
    "aux1 = df4[['competition_distance', 'sales']].groupby( 'competition_distance' ).sum().reset_index()\n",
    "\n",
    "sns.scatterplot( x ='competition_distance', y='sales', data=aux1 );"
   ]
  },
  {
   "cell_type": "code",
   "execution_count": null,
   "id": "605da8a2",
   "metadata": {
    "ExecuteTime": {
     "end_time": "2021-08-06T01:21:53.762462Z",
     "start_time": "2021-08-06T01:18:20.274Z"
    },
    "hidden": true
   },
   "outputs": [],
   "source": [
    "aux1 = df4[['competition_distance', 'sales']].groupby( 'competition_distance' ).sum().reset_index()\n",
    "\n",
    "plt.subplot( 1, 3, 1)\n",
    "sns.scatterplot( x ='competition_distance', y='sales', data=aux1 )\n",
    "\n",
    "plt.subplot( 1, 3, 2)\n",
    "sns.scatterplot( x ='competition_distance', y='sales', data=aux1 )\n",
    "bins = list( np.arange(0, 20000, 1000) )\n",
    "aux1['competition_distance_binned'] = pd.cut( aux1['competition_distance'], bins=bins )\n",
    "aux2 = aux1[['competition_distance_binned','sales']].groupby('competition_distance_binned' ).sum().reset_index()\n",
    "sns.barplot( x='competition_distance_binned', y='sales', data=aux2 );\n",
    "plt.xticks( rotation=90 );\n",
    "\n",
    "plt.subplot( 1, 3, 3)\n",
    "sns.heatmap( aux1.corr( method='pearson' ), annot=True );"
   ]
  },
  {
   "cell_type": "markdown",
   "id": "7cc8fb21",
   "metadata": {
    "hidden": true
   },
   "source": [
    "\n",
    "\n",
    "\n",
    "### H3. Lojas com competidores á mais tempo deveriam vender  mais.\n",
    "**FALSA** Lojas com COMPETIDORES A MAIS TEMPO vendem MENOS."
   ]
  },
  {
   "cell_type": "code",
   "execution_count": null,
   "id": "35e8c200",
   "metadata": {
    "ExecuteTime": {
     "end_time": "2021-08-06T01:21:53.763459Z",
     "start_time": "2021-08-06T01:18:20.395Z"
    },
    "hidden": true
   },
   "outputs": [],
   "source": [
    "aux1 = df4[['competition_time_month', 'sales']].groupby( 'competition_time_month' ).sum().reset_index()\n",
    "aux2 = aux1[( aux1['competition_time_month'] < 120 ) & ( aux1['competition_time_month'] != 0 )]\n",
    "\n",
    "sns.barplot( x='competition_time_month', y='sales', data=aux2 );\n",
    "plt.xticks( rotation=90);"
   ]
  },
  {
   "cell_type": "code",
   "execution_count": null,
   "id": "56188eb1",
   "metadata": {
    "ExecuteTime": {
     "end_time": "2021-08-06T01:21:53.764455Z",
     "start_time": "2021-08-06T01:18:20.398Z"
    },
    "hidden": true
   },
   "outputs": [],
   "source": [
    "plt.subplot( 1, 3, 1 )\n",
    "aux1 = df4[['competition_time_month', 'sales']].groupby( 'competition_time_month' ).sum().reset_index()\n",
    "aux2 = aux1[( aux1['competition_time_month'] < 120 ) & ( aux1['competition_time_month'] != 0 )]\n",
    "\n",
    "sns.barplot( x='competition_time_month', y='sales', data=aux2 );\n",
    "plt.xticks( rotation=90);\n",
    "\n",
    "plt.subplot( 1, 3, 2 )\n",
    "sns.regplot( x='competition_time_month', y='sales', data=aux2 );\n",
    "\n",
    "plt.subplot( 1, 3, 3 )\n",
    "sns.heatmap( aux1.corr( method='pearson'), annot=True );"
   ]
  },
  {
   "cell_type": "markdown",
   "id": "61b11553",
   "metadata": {
    "heading_collapsed": true,
    "hidden": true
   },
   "source": [
    "### H4. Lojas com promoções ativas por mais tempo deveriam vender mais.\n",
    "**FALSA** Lojas com promoçoes ativas por mais tempo vendem menos, depois de um certo período."
   ]
  },
  {
   "cell_type": "code",
   "execution_count": null,
   "id": "e2e6a379",
   "metadata": {
    "ExecuteTime": {
     "end_time": "2021-08-06T01:21:53.765453Z",
     "start_time": "2021-08-06T01:18:20.524Z"
    },
    "hidden": true
   },
   "outputs": [],
   "source": [
    "aux1 = df4[['promo_time_week','sales']].groupby('promo_time_week').sum().reset_index()\n",
    "\n",
    "sns.barplot( x='promo_time_week', y='sales', data=aux1 );\n",
    "\n",
    "plt.subplot(2, 1, 1)\n",
    "aux2 = aux1[aux1['promo_time_week'] > 0 ] # promo extendido\n",
    "sns.barplot( x='promo_time_week', y='sales', data=aux2 );\n",
    "plt.xticks( rotation=90 );\n",
    "\n",
    "plt.subplot(2, 1, 2)\n",
    "aux3 = aux1[aux1['promo_time_week'] < 0 ] # promo regular\n",
    "sns.barplot( x='promo_time_week', y='sales', data=aux3 );\n",
    "plt.xticks( rotation=90 );"
   ]
  },
  {
   "cell_type": "code",
   "execution_count": null,
   "id": "92c410b5",
   "metadata": {
    "ExecuteTime": {
     "end_time": "2021-08-06T01:21:53.766450Z",
     "start_time": "2021-08-06T01:18:20.528Z"
    },
    "hidden": true
   },
   "outputs": [],
   "source": [
    "aux1 = df4[['promo_time_week','sales']].groupby('promo_time_week').sum().reset_index()\n",
    "\n",
    "sns.barplot( x='promo_time_week', y='sales', data=aux1 );\n",
    "\n",
    "plt.subplot( 2, 2, 1)\n",
    "aux2 = aux1[aux1['promo_time_week'] > 0 ] # promo extendido\n",
    "sns.barplot( x='promo_time_week', y='sales', data=aux2 );\n",
    "plt.xticks( rotation=90 );\n",
    "\n",
    "plt.subplot( 2, 2, 2 )\n",
    "sns.regplot(x='promo_time_week', y='sales', data=aux2);\n",
    "\n",
    "plt.subplot(2, 2, 3 )\n",
    "aux3 = aux1[aux1['promo_time_week'] < 0 ] # promo regular\n",
    "sns.barplot( x='promo_time_week', y='sales', data=aux3 );\n",
    "plt.xticks( rotation=90 );\n",
    "\n",
    "plt.subplot( 2, 2, 4 )\n",
    "sns.regplot( x='promo_time_week', y='sales', data=aux3 );"
   ]
  },
  {
   "cell_type": "code",
   "execution_count": null,
   "id": "635401ec",
   "metadata": {
    "ExecuteTime": {
     "end_time": "2021-08-06T01:21:53.767447Z",
     "start_time": "2021-08-06T01:18:20.531Z"
    },
    "hidden": true
   },
   "outputs": [],
   "source": [
    "import matplotlib.gridspec as gridspec"
   ]
  },
  {
   "cell_type": "code",
   "execution_count": null,
   "id": "a122048b",
   "metadata": {
    "ExecuteTime": {
     "end_time": "2021-08-06T01:21:53.768444Z",
     "start_time": "2021-08-06T01:18:20.535Z"
    },
    "hidden": true
   },
   "outputs": [],
   "source": [
    "aux1 = df4[['promo_time_week','sales']].groupby('promo_time_week').sum().reset_index()\n",
    "\n",
    "grid = gridSpec(2,3)\n",
    "\n",
    "plt.subplot(grid[0,0] )\n",
    "aux2 = aux1[aux1['promo_time_week'] > 0 ] # promo extendido\n",
    "sns.barplot( x='promo_time_week', y='sales', data=aux2 );\n",
    "plt.xticks( rotation=90 );\n",
    "\n",
    "plt.subplot( grid[0,1] )\n",
    "sns.regplot(x='promo_time_week', y='sales', data=aux2);\n",
    "\n",
    "plt.subplot( grid[1,0] )\n",
    "aux3 = aux1[aux1['promo_time_week'] < 0 ] # promo regular\n",
    "sns.barplot( x='promo_time_week', y='sales', data=aux3 );\n",
    "plt.xticks( rotation=90 );\n",
    "\n",
    "plt.subplot(grid[1,1] )\n",
    "sns.regplot(x='promo_time_week', y='sales', data=aux3)\n",
    "\n",
    "plt.subplot( grid[:,2] )\n",
    "sns.heatmap( aux1.corr(method='person' ), annot=True );"
   ]
  },
  {
   "cell_type": "markdown",
   "id": "b8a0fefa",
   "metadata": {
    "heading_collapsed": true,
    "hidden": true
   },
   "source": [
    "### H6 Lojas com mais promoções consecutivas deveriam vender mais.\n",
    "**FALSA Lojas com promoções consecutivas vendem menos.**"
   ]
  },
  {
   "cell_type": "code",
   "execution_count": null,
   "id": "cd73163c",
   "metadata": {
    "ExecuteTime": {
     "end_time": "2021-08-06T01:21:53.769442Z",
     "start_time": "2021-08-06T01:18:20.661Z"
    },
    "hidden": true
   },
   "outputs": [],
   "source": [
    "df4[['promo', 'promo2', 'sales']].groupby(['promo', 'promo2']).sum().reset_index()"
   ]
  },
  {
   "cell_type": "code",
   "execution_count": null,
   "id": "bb833fbb",
   "metadata": {
    "ExecuteTime": {
     "end_time": "2021-08-06T01:21:53.770439Z",
     "start_time": "2021-08-06T01:18:20.665Z"
    },
    "hidden": true
   },
   "outputs": [],
   "source": [
    "aux1 = df4[( df4['promo'] == 1 ) & ( df4['promo2'] == 1)][['year_week', 'sales']].groupby('year_week').sum().reset_index()\n",
    "ax = aux1.plot()\n",
    "\n",
    "aux2 = df4[( df4['promo'] == 0 ) & ( df4['promo2'] == 1)][['year_week', 'sales']].groupby('year_week').sum().reset_index()\n",
    "aux2.plot(ax = ax)\n",
    "ax.legend(labels=['Tradicional & Extendida', 'Extendida']);"
   ]
  },
  {
   "cell_type": "code",
   "execution_count": null,
   "id": "9948f9f9",
   "metadata": {
    "ExecuteTime": {
     "end_time": "2021-08-06T01:21:53.771436Z",
     "start_time": "2021-08-06T01:18:20.668Z"
    },
    "hidden": true
   },
   "outputs": [],
   "source": [
    "aux1 = df4[( df4['promo'] == 1 ) & ( df4['promo2'] == 1)][['year_week', 'sales']].groupby('year_week').sum().reset_index()\n",
    "ax = aux1.plot()\n",
    "\n",
    "aux2 = df4[( df4['promo'] == 1 ) & ( df4['promo2'] == 0)][['year_week', 'sales']].groupby('year_week').sum().reset_index()\n",
    "aux2.plot(ax = ax)\n",
    "ax.legend( labels = ['Tradicional & Extendida', 'Extendida']);"
   ]
  },
  {
   "cell_type": "markdown",
   "id": "64fb074f",
   "metadata": {
    "heading_collapsed": true,
    "hidden": true
   },
   "source": [
    "### H7 Lojas abertas durante o feriado de Natal deveriam vender mais.\n",
    "**FALSA Lojas abertas durante o feriado de Natal vendem menos."
   ]
  },
  {
   "cell_type": "code",
   "execution_count": null,
   "id": "1a409c1c",
   "metadata": {
    "ExecuteTime": {
     "end_time": "2021-08-06T01:21:53.772435Z",
     "start_time": "2021-08-06T01:18:20.795Z"
    },
    "hidden": true
   },
   "outputs": [],
   "source": [
    "aux = df4[df4['state_holiday']!= 'regular_day']\n",
    "\n",
    "plt.subplot( 1, 2, 1 )\n",
    "aux1 = aux[['state_holiday', 'sales']].groupby( 'state_holiday' ).sum().reset_index()\n",
    "sns.barplot( x='state_holiday', y='sales', data=aux1);\n",
    "\n",
    "plt.subplot( 1, 2, 2 )\n",
    "aux2 = aux[['year','state_holiday','sales']].groupby( ['year','state_holiday'] ).sum().reset_index()\n",
    "sns.barplot( x='year', y='sales', hue='state_holiday',data=aux2);"
   ]
  },
  {
   "cell_type": "markdown",
   "id": "65ffed3e",
   "metadata": {
    "heading_collapsed": true,
    "hidden": true
   },
   "source": [
    "### H8 Lojas deveriam vender mais ao longo dos anos.\n",
    "**FALSALojas vendem menos ao longo dos anos."
   ]
  },
  {
   "cell_type": "code",
   "execution_count": null,
   "id": "d6849d34",
   "metadata": {
    "ExecuteTime": {
     "end_time": "2021-08-06T01:21:53.773432Z",
     "start_time": "2021-08-06T01:18:20.933Z"
    },
    "hidden": true
   },
   "outputs": [],
   "source": [
    "plt.subplot( 1, 3, 1)\n",
    "aux1 = df4[['year', 'sales']].groupby('year').sum().reset_index()\n",
    "sns.barplot( x='year', y='sales', data=aux1);\n",
    "\n",
    "plt.subplot( 1, 3, 2)\n",
    "sns.regplot(x='year', y='sales', data=aux1);\n",
    "\n",
    "plt.subplot( 1, 3, 3)\n",
    "sns.heatmap( aux1.corr(method='pearson'), annot=True);"
   ]
  },
  {
   "cell_type": "markdown",
   "id": "f8cddb65",
   "metadata": {
    "heading_collapsed": true,
    "hidden": true
   },
   "source": [
    "### H9 Lojas deveriam vender mais no segundo semestre do ano.\n",
    "**FALSA Lojas vendem menos no segundo semestre.**"
   ]
  },
  {
   "cell_type": "code",
   "execution_count": null,
   "id": "471792c0",
   "metadata": {
    "ExecuteTime": {
     "end_time": "2021-08-06T01:21:53.774430Z",
     "start_time": "2021-08-06T01:18:21.072Z"
    },
    "hidden": true
   },
   "outputs": [],
   "source": [
    "plt.subplot( 1, 3, 1 )\n",
    "aux1 = df4[['month', 'sales']].groupby('month').sum().reset_index()\n",
    "sns.barplot(x='month', y='sales', data=aux1);\n",
    "\n",
    "plt.subplot( 1, 3, 2 )\n",
    "sns.regplot(x='month', y='sales', data=aux1);\n",
    "\n",
    "plt.subplot( 1, 3, 3 )\n",
    "sns.heatmap(aux1.corr(method='pearson'), annot=True );"
   ]
  },
  {
   "cell_type": "markdown",
   "id": "4407b1c8",
   "metadata": {
    "heading_collapsed": true,
    "hidden": true
   },
   "source": [
    "### H10 Lojas deveriam vender mais depois do dia 10 de cada mês.\n",
    "**VERDADEIRA** Lojas vendem mais após 10 primeiros dias de cada mês.\n"
   ]
  },
  {
   "cell_type": "code",
   "execution_count": null,
   "id": "09cbe544",
   "metadata": {
    "ExecuteTime": {
     "end_time": "2021-08-06T01:21:53.775427Z",
     "start_time": "2021-08-06T01:18:21.206Z"
    },
    "hidden": true
   },
   "outputs": [],
   "source": [
    "plt.subplot( 2, 2, 1 )\n",
    "aux1 = df4[['day', 'sales']].groupby('day').sum().reset_index()\n",
    "sns.barplot( x='day', y='sales', data= aux1 );\n",
    "\n",
    "plt.subplot( 2, 2, 2 )\n",
    "sns.regplot( x='day', y='sales', data= aux1 );\n",
    "\n",
    "plt.subplot( 2, 2, 3 )\n",
    "sns.heatmap( aux1.corr(method ='pearson'), annot=True )\n",
    "\n",
    "plt.subplot( 2, 2, 4 )\n",
    "aux1['before_after'] = aux1['day'].apply( lambda x: 'before_10days' if x<= 10 else 'after_10_days' )\n",
    "aux2 = aux1[['before_after', 'sales']].groupby( 'before_after' ).sum().reset_index()\n",
    "sns.barplot(x='before_after', y='sales', data=aux2)"
   ]
  },
  {
   "cell_type": "markdown",
   "id": "4913a506",
   "metadata": {
    "heading_collapsed": true,
    "hidden": true
   },
   "source": [
    "### H11 Lojas deveriam ver menos aos finais de semana.\n",
    "**VERDADEIRA Lojas vendem menos aos finais de semana."
   ]
  },
  {
   "cell_type": "code",
   "execution_count": null,
   "id": "db5a9e58",
   "metadata": {
    "ExecuteTime": {
     "end_time": "2021-08-06T01:21:53.787393Z",
     "start_time": "2021-08-06T01:18:21.355Z"
    },
    "hidden": true
   },
   "outputs": [],
   "source": [
    "plt.subplot( 1, 3, 1 )\n",
    "aux1 = df4[['day_of_week', 'sales']].groupby('day_of_week').sum().reset_index()\n",
    "sns.barplot( x='day_of_week', y='sales', data=aux1 )\n",
    "\n",
    "plt.subplot( 1, 3, 2 )\n",
    "sns.regplot( x='day_of_week', y='sales', data=aux1 )\n",
    "\n",
    "plt.subplot( 1, 3, 3)\n",
    "sns.heatmap(aux1.corr(method='pearson'), annot=True )"
   ]
  },
  {
   "cell_type": "markdown",
   "id": "5b633995",
   "metadata": {
    "hidden": true
   },
   "source": [
    "### H12 Lojas deveriam vender menos durante os feriados escolares.\n",
    "**"
   ]
  },
  {
   "cell_type": "code",
   "execution_count": null,
   "id": "71167487",
   "metadata": {
    "ExecuteTime": {
     "end_time": "2021-08-06T01:21:53.789388Z",
     "start_time": "2021-08-06T01:18:21.490Z"
    },
    "hidden": true
   },
   "outputs": [],
   "source": [
    "aux1 = df4[['school_holiday', 'sales']].groupby('school_holiday').sum().reset_index()\n",
    "\n",
    "plt.subplot( 2, 1, 1 )\n",
    "sns.barplot( x='school_holiday', y='sales', data=aux1 )\n",
    "\n",
    "\n",
    "aux2 = df4[['month', 'school_holiday', 'sales']].groupby(['month', 'school_holiday']).sum().reset_index()\n",
    "plt.subplot( 2, 1, 2 )\n",
    "sns.barplot( x='month', y='sales', hue='school_holiday', data=aux2 )                                                   "
   ]
  },
  {
   "cell_type": "code",
   "execution_count": null,
   "id": "3551f4e2",
   "metadata": {
    "ExecuteTime": {
     "end_time": "2021-08-06T01:21:53.790385Z",
     "start_time": "2021-08-06T01:18:21.493Z"
    },
    "hidden": true
   },
   "outputs": [],
   "source": [
    "from tabulate import tabulate"
   ]
  },
  {
   "cell_type": "code",
   "execution_count": null,
   "id": "3e088889",
   "metadata": {
    "ExecuteTime": {
     "end_time": "2021-08-06T01:21:53.792382Z",
     "start_time": "2021-08-06T01:18:21.497Z"
    },
    "hidden": true
   },
   "outputs": [],
   "source": [
    "tab = [['Hipoteses', 'Conclusao', 'Relevancia'], \n",
    "      ['H1', 'Falsa', 'Baixa'],\n",
    "      ['H2', 'Falsa', 'Media'],\n",
    "      ['H3', 'Falsa', 'Media'],\n",
    "      ['H4', 'Falsa', 'Baixa'],\n",
    "      ['H5', '-','-'],\n",
    "      ['H6', 'Falsa', 'Baixa'],\n",
    "      ['H7', 'Falsa', 'Baixa'],\n",
    "      ['H8', 'Falsa', 'Media'],\n",
    "      ['H9', 'Falsa', 'Media'],\n",
    "      ['H10', 'Falsa', 'Alta'],\n",
    "      ['H11', 'Verdadeira', 'Alta'],\n",
    "      ['H12', 'Verdadeira', 'Alta'],\n",
    "      ['H13', 'Verdadeira', 'Alta'],\n",
    "      ]\n",
    "print( tabulate(tab, headers='firstrow') )"
   ]
  },
  {
   "cell_type": "markdown",
   "id": "125d70bf",
   "metadata": {},
   "source": [
    "# 4.3. Analise Multivariada:"
   ]
  },
  {
   "cell_type": "markdown",
   "id": "8b941f26",
   "metadata": {
    "heading_collapsed": true
   },
   "source": [
    "## 4.3.1. Numerical Attributes"
   ]
  },
  {
   "cell_type": "code",
   "execution_count": null,
   "id": "6f3be12b",
   "metadata": {
    "ExecuteTime": {
     "end_time": "2021-08-06T01:21:53.794375Z",
     "start_time": "2021-08-06T01:18:21.805Z"
    },
    "hidden": true
   },
   "outputs": [],
   "source": [
    "num_attributes.head()"
   ]
  },
  {
   "cell_type": "code",
   "execution_count": null,
   "id": "5ddd269e",
   "metadata": {
    "ExecuteTime": {
     "end_time": "2021-08-06T01:21:53.796369Z",
     "start_time": "2021-08-06T01:18:21.808Z"
    },
    "hidden": true
   },
   "outputs": [],
   "source": [
    "correlation = num_attributes.corr( method='pearson' )\n",
    "sns.heatmap( correlation, annot=True )"
   ]
  },
  {
   "cell_type": "markdown",
   "id": "517d5c5c",
   "metadata": {
    "heading_collapsed": true
   },
   "source": [
    "## 4.3.2. Categorical Attributes"
   ]
  },
  {
   "cell_type": "code",
   "execution_count": null,
   "id": "26695c23",
   "metadata": {
    "ExecuteTime": {
     "end_time": "2021-08-06T01:21:53.797368Z",
     "start_time": "2021-08-06T01:18:21.967Z"
    },
    "hidden": true
   },
   "outputs": [],
   "source": [
    "a = df4.select_dtypes( include='object')"
   ]
  },
  {
   "cell_type": "code",
   "execution_count": null,
   "id": "1def153f",
   "metadata": {
    "ExecuteTime": {
     "end_time": "2021-08-06T01:21:53.799363Z",
     "start_time": "2021-08-06T01:18:21.971Z"
    },
    "hidden": true
   },
   "outputs": [],
   "source": [
    "a.head()"
   ]
  },
  {
   "cell_type": "code",
   "execution_count": null,
   "id": "24c2d7f0",
   "metadata": {
    "ExecuteTime": {
     "end_time": "2021-08-06T01:21:53.799363Z",
     "start_time": "2021-08-06T01:18:21.975Z"
    },
    "hidden": true
   },
   "outputs": [],
   "source": [
    "pd.crosstab( a['state_holiday'], a['store_type'] )"
   ]
  },
  {
   "cell_type": "code",
   "execution_count": null,
   "id": "faac14ba",
   "metadata": {
    "ExecuteTime": {
     "end_time": "2021-08-06T01:21:53.801358Z",
     "start_time": "2021-08-06T01:18:21.978Z"
    },
    "hidden": true
   },
   "outputs": [],
   "source": [
    "cm = pd.crosstab( a['state_holiday'], a['store_type'] ).values"
   ]
  },
  {
   "cell_type": "code",
   "execution_count": null,
   "id": "cec0802c",
   "metadata": {
    "ExecuteTime": {
     "end_time": "2021-08-06T01:21:53.802355Z",
     "start_time": "2021-08-06T01:18:21.982Z"
    },
    "hidden": true
   },
   "outputs": [],
   "source": [
    "chi2 = ss.chi2_contingency( cm )[0]"
   ]
  },
  {
   "cell_type": "code",
   "execution_count": null,
   "id": "cf1a8f62",
   "metadata": {
    "ExecuteTime": {
     "end_time": "2021-08-06T01:21:53.803353Z",
     "start_time": "2021-08-06T01:18:21.986Z"
    },
    "hidden": true
   },
   "outputs": [],
   "source": [
    "chi2"
   ]
  },
  {
   "cell_type": "code",
   "execution_count": null,
   "id": "12f4e424",
   "metadata": {
    "ExecuteTime": {
     "end_time": "2021-08-06T01:21:53.804350Z",
     "start_time": "2021-08-06T01:18:21.990Z"
    },
    "hidden": true
   },
   "outputs": [],
   "source": [
    "n = cm.sum()\n",
    "\n",
    "r, k = cm.shape"
   ]
  },
  {
   "cell_type": "code",
   "execution_count": null,
   "id": "a80b646e",
   "metadata": {
    "ExecuteTime": {
     "end_time": "2021-08-06T01:21:53.805348Z",
     "start_time": "2021-08-06T01:18:21.995Z"
    },
    "hidden": true
   },
   "outputs": [],
   "source": [
    "v = np.sqrt( (chi2/n) / ( min( k-1,r-1 ) ) ) "
   ]
  },
  {
   "cell_type": "code",
   "execution_count": null,
   "id": "711e0c86",
   "metadata": {
    "ExecuteTime": {
     "end_time": "2021-08-06T01:21:53.806345Z",
     "start_time": "2021-08-06T01:18:22.000Z"
    },
    "hidden": true
   },
   "outputs": [],
   "source": [
    "v"
   ]
  },
  {
   "cell_type": "code",
   "execution_count": null,
   "id": "ecac3cd3",
   "metadata": {
    "ExecuteTime": {
     "end_time": "2021-08-06T01:21:53.808339Z",
     "start_time": "2021-08-06T01:18:22.004Z"
    },
    "hidden": true
   },
   "outputs": [],
   "source": [
    "def cramer_v( x, y ):\n",
    "    cm = pd.crosstab( x, y ).values\n",
    "    n = cm.sum()\n",
    "    r, k = cm.shape\n",
    "    \n",
    "    chi2 = ss.chi2_contingency( cm )[0]\n",
    "    \n",
    "    return np.sqrt( (chi2/n) / ( min( k-1, r-1 ) ) )"
   ]
  },
  {
   "cell_type": "code",
   "execution_count": null,
   "id": "63ba6e53",
   "metadata": {
    "ExecuteTime": {
     "end_time": "2021-08-06T01:21:53.809336Z",
     "start_time": "2021-08-06T01:18:22.008Z"
    },
    "hidden": true
   },
   "outputs": [],
   "source": [
    "cramer_v( a['state_holiday'], a['store_type'] )"
   ]
  },
  {
   "cell_type": "code",
   "execution_count": null,
   "id": "c3c5c693",
   "metadata": {
    "ExecuteTime": {
     "end_time": "2021-08-06T01:21:53.810334Z",
     "start_time": "2021-08-06T01:18:22.013Z"
    },
    "hidden": true
   },
   "outputs": [],
   "source": [
    "def cramer_v(x, y):\n",
    "    cm = pd.crosstab(x, y).values\n",
    "    n = cm.sum()\n",
    "    r, k= cm.shape\n",
    "    \n",
    "    chi2 = ss.chi2_contingency( cm )[0]\n",
    "    chi2corr = max( 0, chi2 - (k-1)*(r-1)/(n-1) )\n",
    "    \n",
    "    kcorr = k - (k-1)**2/(n-1)\n",
    "    rcorr = r - (r-1)**2/(n-1)\n",
    "    \n",
    "    return np.sqrt( (chi2corr/n) / ( min(kcorr-1, rcorr-1 ) ) )"
   ]
  },
  {
   "cell_type": "code",
   "execution_count": null,
   "id": "eabf6a71",
   "metadata": {
    "ExecuteTime": {
     "end_time": "2021-08-06T01:21:53.811332Z",
     "start_time": "2021-08-06T01:18:22.016Z"
    },
    "hidden": true
   },
   "outputs": [],
   "source": [
    "cramer_v( a['state_holiday'], a['store_type'] )"
   ]
  },
  {
   "cell_type": "code",
   "execution_count": null,
   "id": "385d2f3e",
   "metadata": {
    "ExecuteTime": {
     "end_time": "2021-08-06T01:21:53.812329Z",
     "start_time": "2021-08-06T01:18:22.020Z"
    },
    "hidden": true
   },
   "outputs": [],
   "source": [
    "a1 = cramer_v( a['state_holiday'], a['state_holiday'] )\n",
    "a2 = cramer_v( a['state_holiday'], a['store_type'] )\n",
    "a3 = cramer_v( a['state_holiday'], a['assortment'] )\n",
    "\n",
    "a4 = cramer_v( a['store_type'], a['state_holiday'] )\n",
    "a5 = cramer_v( a['store_type'], a['store_type'] )\n",
    "a6 = cramer_v( a['store_type'], a['assortment'] )\n",
    "\n",
    "a7 = cramer_v( a['assortment'], a['state_holiday'] )\n",
    "a8 = cramer_v( a['assortment'], a['store_type'] )\n",
    "a9 = cramer_v( a['assortment'], a['assortment'] )\n",
    "\n",
    "d = pd.DataFrame( {'state_holiday': [a1,a2,a3],\n",
    "                    'store_type': [a4,a5,a6],\n",
    "                    'assortment': [a7,a8,a9] })\n",
    "\n",
    "d = d.set_index( d.columns )"
   ]
  },
  {
   "cell_type": "code",
   "execution_count": null,
   "id": "106b2e51",
   "metadata": {
    "ExecuteTime": {
     "end_time": "2021-08-06T01:21:53.813323Z",
     "start_time": "2021-08-06T01:18:22.025Z"
    },
    "hidden": true
   },
   "outputs": [],
   "source": [
    "d"
   ]
  },
  {
   "cell_type": "code",
   "execution_count": null,
   "id": "9ef4ef7c",
   "metadata": {
    "ExecuteTime": {
     "end_time": "2021-08-06T01:21:53.815321Z",
     "start_time": "2021-08-06T01:18:22.029Z"
    },
    "hidden": true
   },
   "outputs": [],
   "source": [
    "sns.heatmap( d, annot=True )"
   ]
  },
  {
   "cell_type": "markdown",
   "id": "abd4bbe5",
   "metadata": {
    "heading_collapsed": true
   },
   "source": [
    "# 5.0. PASSO 05 - DATA PREPARATION"
   ]
  },
  {
   "cell_type": "markdown",
   "id": "a864760d",
   "metadata": {
    "hidden": true
   },
   "source": [
    "## 5.1. Normalização:"
   ]
  },
  {
   "cell_type": "markdown",
   "id": "110424a6",
   "metadata": {
    "heading_collapsed": true,
    "hidden": true
   },
   "source": [
    "## 5.2. Rescaling:"
   ]
  },
  {
   "cell_type": "code",
   "execution_count": 126,
   "id": "33e244e7",
   "metadata": {
    "ExecuteTime": {
     "end_time": "2021-08-06T01:33:15.159386Z",
     "start_time": "2021-08-06T01:33:15.101501Z"
    },
    "hidden": true
   },
   "outputs": [],
   "source": [
    "df5 = df4.copy()"
   ]
  },
  {
   "cell_type": "code",
   "execution_count": 127,
   "id": "1531044a",
   "metadata": {
    "ExecuteTime": {
     "end_time": "2021-08-06T01:33:16.438807Z",
     "start_time": "2021-08-06T01:33:16.376136Z"
    },
    "hidden": true
   },
   "outputs": [],
   "source": [
    "a = df5.select_dtypes( include=['int64','float64'] )"
   ]
  },
  {
   "cell_type": "code",
   "execution_count": 128,
   "id": "b91aaa78",
   "metadata": {
    "ExecuteTime": {
     "end_time": "2021-08-06T01:33:17.457352Z",
     "start_time": "2021-08-06T01:33:17.436418Z"
    },
    "hidden": true
   },
   "outputs": [
    {
     "data": {
      "text/html": [
       "<div>\n",
       "<style scoped>\n",
       "    .dataframe tbody tr th:only-of-type {\n",
       "        vertical-align: middle;\n",
       "    }\n",
       "\n",
       "    .dataframe tbody tr th {\n",
       "        vertical-align: top;\n",
       "    }\n",
       "\n",
       "    .dataframe thead th {\n",
       "        text-align: right;\n",
       "    }\n",
       "</style>\n",
       "<table border=\"1\" class=\"dataframe\">\n",
       "  <thead>\n",
       "    <tr style=\"text-align: right;\">\n",
       "      <th></th>\n",
       "      <th>store</th>\n",
       "      <th>day_of_week</th>\n",
       "      <th>sales</th>\n",
       "      <th>promo</th>\n",
       "      <th>school_holiday</th>\n",
       "      <th>competition_distance</th>\n",
       "      <th>competition_open_since_month</th>\n",
       "      <th>competition_open_since_year</th>\n",
       "      <th>promo2</th>\n",
       "      <th>promo2_since_week</th>\n",
       "      <th>promo2_since_year</th>\n",
       "      <th>is_promo</th>\n",
       "      <th>year</th>\n",
       "      <th>month</th>\n",
       "      <th>week_of_year</th>\n",
       "      <th>day</th>\n",
       "    </tr>\n",
       "  </thead>\n",
       "  <tbody>\n",
       "    <tr>\n",
       "      <th>0</th>\n",
       "      <td>1</td>\n",
       "      <td>5</td>\n",
       "      <td>5263</td>\n",
       "      <td>1</td>\n",
       "      <td>1</td>\n",
       "      <td>1270.0</td>\n",
       "      <td>9</td>\n",
       "      <td>2008</td>\n",
       "      <td>0</td>\n",
       "      <td>31</td>\n",
       "      <td>2015</td>\n",
       "      <td>0</td>\n",
       "      <td>2015</td>\n",
       "      <td>7</td>\n",
       "      <td>31</td>\n",
       "      <td>31</td>\n",
       "    </tr>\n",
       "    <tr>\n",
       "      <th>1</th>\n",
       "      <td>2</td>\n",
       "      <td>5</td>\n",
       "      <td>6064</td>\n",
       "      <td>1</td>\n",
       "      <td>1</td>\n",
       "      <td>570.0</td>\n",
       "      <td>11</td>\n",
       "      <td>2007</td>\n",
       "      <td>1</td>\n",
       "      <td>13</td>\n",
       "      <td>2010</td>\n",
       "      <td>1</td>\n",
       "      <td>2015</td>\n",
       "      <td>7</td>\n",
       "      <td>31</td>\n",
       "      <td>31</td>\n",
       "    </tr>\n",
       "    <tr>\n",
       "      <th>2</th>\n",
       "      <td>3</td>\n",
       "      <td>5</td>\n",
       "      <td>8314</td>\n",
       "      <td>1</td>\n",
       "      <td>1</td>\n",
       "      <td>14130.0</td>\n",
       "      <td>12</td>\n",
       "      <td>2006</td>\n",
       "      <td>1</td>\n",
       "      <td>14</td>\n",
       "      <td>2011</td>\n",
       "      <td>1</td>\n",
       "      <td>2015</td>\n",
       "      <td>7</td>\n",
       "      <td>31</td>\n",
       "      <td>31</td>\n",
       "    </tr>\n",
       "    <tr>\n",
       "      <th>3</th>\n",
       "      <td>4</td>\n",
       "      <td>5</td>\n",
       "      <td>13995</td>\n",
       "      <td>1</td>\n",
       "      <td>1</td>\n",
       "      <td>620.0</td>\n",
       "      <td>9</td>\n",
       "      <td>2009</td>\n",
       "      <td>0</td>\n",
       "      <td>31</td>\n",
       "      <td>2015</td>\n",
       "      <td>0</td>\n",
       "      <td>2015</td>\n",
       "      <td>7</td>\n",
       "      <td>31</td>\n",
       "      <td>31</td>\n",
       "    </tr>\n",
       "    <tr>\n",
       "      <th>4</th>\n",
       "      <td>5</td>\n",
       "      <td>5</td>\n",
       "      <td>4822</td>\n",
       "      <td>1</td>\n",
       "      <td>1</td>\n",
       "      <td>29910.0</td>\n",
       "      <td>4</td>\n",
       "      <td>2015</td>\n",
       "      <td>0</td>\n",
       "      <td>31</td>\n",
       "      <td>2015</td>\n",
       "      <td>0</td>\n",
       "      <td>2015</td>\n",
       "      <td>7</td>\n",
       "      <td>31</td>\n",
       "      <td>31</td>\n",
       "    </tr>\n",
       "  </tbody>\n",
       "</table>\n",
       "</div>"
      ],
      "text/plain": [
       "   store  day_of_week  sales  promo  school_holiday  competition_distance  \\\n",
       "0      1            5   5263      1               1                1270.0   \n",
       "1      2            5   6064      1               1                 570.0   \n",
       "2      3            5   8314      1               1               14130.0   \n",
       "3      4            5  13995      1               1                 620.0   \n",
       "4      5            5   4822      1               1               29910.0   \n",
       "\n",
       "   competition_open_since_month  competition_open_since_year  promo2  \\\n",
       "0                             9                         2008       0   \n",
       "1                            11                         2007       1   \n",
       "2                            12                         2006       1   \n",
       "3                             9                         2009       0   \n",
       "4                             4                         2015       0   \n",
       "\n",
       "   promo2_since_week  promo2_since_year  is_promo  year  month  week_of_year  \\\n",
       "0                 31               2015         0  2015      7            31   \n",
       "1                 13               2010         1  2015      7            31   \n",
       "2                 14               2011         1  2015      7            31   \n",
       "3                 31               2015         0  2015      7            31   \n",
       "4                 31               2015         0  2015      7            31   \n",
       "\n",
       "   day  \n",
       "0   31  \n",
       "1   31  \n",
       "2   31  \n",
       "3   31  \n",
       "4   31  "
      ]
     },
     "execution_count": 128,
     "metadata": {},
     "output_type": "execute_result"
    }
   ],
   "source": [
    "a.head()"
   ]
  },
  {
   "cell_type": "code",
   "execution_count": 129,
   "id": "a73ab6d0",
   "metadata": {
    "ExecuteTime": {
     "end_time": "2021-08-06T01:33:18.565890Z",
     "start_time": "2021-08-06T01:33:18.282559Z"
    },
    "hidden": true
   },
   "outputs": [
    {
     "name": "stderr",
     "output_type": "stream",
     "text": [
      "C:\\Users\\eduardo\\anaconda3\\envs\\Rossmann_Stores_Sales\\lib\\site-packages\\seaborn\\_decorators.py:36: FutureWarning: Pass the following variable as a keyword arg: x. From version 0.12, the only valid positional argument will be `data`, and passing other arguments without an explicit keyword will result in an error or misinterpretation.\n",
      "  warnings.warn(\n"
     ]
    },
    {
     "ename": "KeyError",
     "evalue": "'figure.size is not a valid rc parameter (see rcParams.keys() for a list of valid parameters)'",
     "output_type": "error",
     "traceback": [
      "\u001b[1;31m---------------------------------------------------------------------------\u001b[0m",
      "\u001b[1;31mKeyError\u001b[0m                                  Traceback (most recent call last)",
      "\u001b[1;32m~\\anaconda3\\envs\\Rossmann_Stores_Sales\\lib\\site-packages\\matplotlib\\__init__.py\u001b[0m in \u001b[0;36m__setitem__\u001b[1;34m(self, key, val)\u001b[0m\n\u001b[0;32m    594\u001b[0m             \u001b[1;32mtry\u001b[0m\u001b[1;33m:\u001b[0m\u001b[1;33m\u001b[0m\u001b[1;33m\u001b[0m\u001b[0m\n\u001b[1;32m--> 595\u001b[1;33m                 \u001b[0mcval\u001b[0m \u001b[1;33m=\u001b[0m \u001b[0mself\u001b[0m\u001b[1;33m.\u001b[0m\u001b[0mvalidate\u001b[0m\u001b[1;33m[\u001b[0m\u001b[0mkey\u001b[0m\u001b[1;33m]\u001b[0m\u001b[1;33m(\u001b[0m\u001b[0mval\u001b[0m\u001b[1;33m)\u001b[0m\u001b[1;33m\u001b[0m\u001b[1;33m\u001b[0m\u001b[0m\n\u001b[0m\u001b[0;32m    596\u001b[0m             \u001b[1;32mexcept\u001b[0m \u001b[0mValueError\u001b[0m \u001b[1;32mas\u001b[0m \u001b[0mve\u001b[0m\u001b[1;33m:\u001b[0m\u001b[1;33m\u001b[0m\u001b[1;33m\u001b[0m\u001b[0m\n",
      "\u001b[1;31mKeyError\u001b[0m: 'figure.size'",
      "\nThe above exception was the direct cause of the following exception:\n",
      "\u001b[1;31mKeyError\u001b[0m                                  Traceback (most recent call last)",
      "\u001b[1;32m<ipython-input-129-a4775ed5c241>\u001b[0m in \u001b[0;36m<module>\u001b[1;34m\u001b[0m\n\u001b[0;32m      2\u001b[0m \u001b[1;33m\u001b[0m\u001b[0m\n\u001b[0;32m      3\u001b[0m \u001b[0msns\u001b[0m\u001b[1;33m.\u001b[0m\u001b[0mboxplot\u001b[0m\u001b[1;33m(\u001b[0m \u001b[0mdf5\u001b[0m\u001b[1;33m[\u001b[0m\u001b[1;34m'competition_distance'\u001b[0m\u001b[1;33m]\u001b[0m \u001b[1;33m)\u001b[0m\u001b[1;33m\u001b[0m\u001b[1;33m\u001b[0m\u001b[0m\n\u001b[1;32m----> 4\u001b[1;33m \u001b[0mplt\u001b[0m\u001b[1;33m.\u001b[0m\u001b[0mrcParams\u001b[0m\u001b[1;33m[\u001b[0m\u001b[1;34m\"figure.size\"\u001b[0m\u001b[1;33m]\u001b[0m\u001b[1;33m=\u001b[0m\u001b[1;33m(\u001b[0m\u001b[1;36m10\u001b[0m\u001b[1;33m,\u001b[0m\u001b[1;36m10\u001b[0m\u001b[1;33m)\u001b[0m\u001b[1;33m\u001b[0m\u001b[1;33m\u001b[0m\u001b[0m\n\u001b[0m",
      "\u001b[1;32m~\\anaconda3\\envs\\Rossmann_Stores_Sales\\lib\\site-packages\\matplotlib\\__init__.py\u001b[0m in \u001b[0;36m__setitem__\u001b[1;34m(self, key, val)\u001b[0m\n\u001b[0;32m    598\u001b[0m             \u001b[0mdict\u001b[0m\u001b[1;33m.\u001b[0m\u001b[0m__setitem__\u001b[0m\u001b[1;33m(\u001b[0m\u001b[0mself\u001b[0m\u001b[1;33m,\u001b[0m \u001b[0mkey\u001b[0m\u001b[1;33m,\u001b[0m \u001b[0mcval\u001b[0m\u001b[1;33m)\u001b[0m\u001b[1;33m\u001b[0m\u001b[1;33m\u001b[0m\u001b[0m\n\u001b[0;32m    599\u001b[0m         \u001b[1;32mexcept\u001b[0m \u001b[0mKeyError\u001b[0m \u001b[1;32mas\u001b[0m \u001b[0merr\u001b[0m\u001b[1;33m:\u001b[0m\u001b[1;33m\u001b[0m\u001b[1;33m\u001b[0m\u001b[0m\n\u001b[1;32m--> 600\u001b[1;33m             raise KeyError(\n\u001b[0m\u001b[0;32m    601\u001b[0m                 \u001b[1;34mf\"{key} is not a valid rc parameter (see rcParams.keys() for \"\u001b[0m\u001b[1;33m\u001b[0m\u001b[1;33m\u001b[0m\u001b[0m\n\u001b[0;32m    602\u001b[0m                 f\"a list of valid parameters)\") from err\n",
      "\u001b[1;31mKeyError\u001b[0m: 'figure.size is not a valid rc parameter (see rcParams.keys() for a list of valid parameters)'"
     ]
    },
    {
     "data": {
      "image/png": "[encoded data removed]",
      "text/plain": [
       "<Figure size 432x288 with 1 Axes>"
      ]
     },
     "metadata": {
      "needs_background": "light"
     },
     "output_type": "display_data"
    }
   ],
   "source": [
    "# competition distance\n",
    "\n",
    "sns.boxplot( df5['competition_distance'] )\n",
    "plt.rcParams[\"figure.size\"]=(10,10)"
   ]
  },
  {
   "cell_type": "code",
   "execution_count": 130,
   "id": "5ae35848",
   "metadata": {
    "ExecuteTime": {
     "end_time": "2021-08-06T01:33:18.910566Z",
     "start_time": "2021-08-06T01:33:18.849171Z"
    },
    "hidden": true
   },
   "outputs": [],
   "source": [
    "rs = RobustScaler()\n",
    "mns = MinMaxScaler()\n",
    "\n",
    "# competition distance\n",
    "df5['competition_distance'] = rs.fit_transform( df5[['competition_distance']].values )"
   ]
  },
  {
   "cell_type": "code",
   "execution_count": 131,
   "id": "e9efea9c",
   "metadata": {
    "ExecuteTime": {
     "end_time": "2021-08-06T01:33:19.470608Z",
     "start_time": "2021-08-06T01:33:19.299165Z"
    },
    "hidden": true
   },
   "outputs": [
    {
     "name": "stderr",
     "output_type": "stream",
     "text": [
      "C:\\Users\\eduardo\\anaconda3\\envs\\Rossmann_Stores_Sales\\lib\\site-packages\\seaborn\\_decorators.py:36: FutureWarning: Pass the following variable as a keyword arg: x. From version 0.12, the only valid positional argument will be `data`, and passing other arguments without an explicit keyword will result in an error or misinterpretation.\n",
      "  warnings.warn(\n"
     ]
    },
    {
     "ename": "KeyError",
     "evalue": "'figure.size is not a valid rc parameter (see rcParams.keys() for a list of valid parameters)'",
     "output_type": "error",
     "traceback": [
      "\u001b[1;31m---------------------------------------------------------------------------\u001b[0m",
      "\u001b[1;31mKeyError\u001b[0m                                  Traceback (most recent call last)",
      "\u001b[1;32m~\\anaconda3\\envs\\Rossmann_Stores_Sales\\lib\\site-packages\\matplotlib\\__init__.py\u001b[0m in \u001b[0;36m__setitem__\u001b[1;34m(self, key, val)\u001b[0m\n\u001b[0;32m    594\u001b[0m             \u001b[1;32mtry\u001b[0m\u001b[1;33m:\u001b[0m\u001b[1;33m\u001b[0m\u001b[1;33m\u001b[0m\u001b[0m\n\u001b[1;32m--> 595\u001b[1;33m                 \u001b[0mcval\u001b[0m \u001b[1;33m=\u001b[0m \u001b[0mself\u001b[0m\u001b[1;33m.\u001b[0m\u001b[0mvalidate\u001b[0m\u001b[1;33m[\u001b[0m\u001b[0mkey\u001b[0m\u001b[1;33m]\u001b[0m\u001b[1;33m(\u001b[0m\u001b[0mval\u001b[0m\u001b[1;33m)\u001b[0m\u001b[1;33m\u001b[0m\u001b[1;33m\u001b[0m\u001b[0m\n\u001b[0m\u001b[0;32m    596\u001b[0m             \u001b[1;32mexcept\u001b[0m \u001b[0mValueError\u001b[0m \u001b[1;32mas\u001b[0m \u001b[0mve\u001b[0m\u001b[1;33m:\u001b[0m\u001b[1;33m\u001b[0m\u001b[1;33m\u001b[0m\u001b[0m\n",
      "\u001b[1;31mKeyError\u001b[0m: 'figure.size'",
      "\nThe above exception was the direct cause of the following exception:\n",
      "\u001b[1;31mKeyError\u001b[0m                                  Traceback (most recent call last)",
      "\u001b[1;32m<ipython-input-131-0ee6eef89864>\u001b[0m in \u001b[0;36m<module>\u001b[1;34m\u001b[0m\n\u001b[0;32m      2\u001b[0m \u001b[1;33m\u001b[0m\u001b[0m\n\u001b[0;32m      3\u001b[0m \u001b[0msns\u001b[0m\u001b[1;33m.\u001b[0m\u001b[0mboxplot\u001b[0m\u001b[1;33m(\u001b[0m \u001b[0mdf5\u001b[0m\u001b[1;33m[\u001b[0m\u001b[1;34m'competition_time_month'\u001b[0m\u001b[1;33m]\u001b[0m \u001b[1;33m)\u001b[0m\u001b[1;33m\u001b[0m\u001b[1;33m\u001b[0m\u001b[0m\n\u001b[1;32m----> 4\u001b[1;33m \u001b[0mplt\u001b[0m\u001b[1;33m.\u001b[0m\u001b[0mrcParams\u001b[0m\u001b[1;33m[\u001b[0m\u001b[1;34m\"figure.size\"\u001b[0m\u001b[1;33m]\u001b[0m\u001b[1;33m=\u001b[0m\u001b[1;33m(\u001b[0m\u001b[1;36m10\u001b[0m\u001b[1;33m,\u001b[0m\u001b[1;36m10\u001b[0m\u001b[1;33m)\u001b[0m\u001b[1;33m\u001b[0m\u001b[1;33m\u001b[0m\u001b[0m\n\u001b[0m",
      "\u001b[1;32m~\\anaconda3\\envs\\Rossmann_Stores_Sales\\lib\\site-packages\\matplotlib\\__init__.py\u001b[0m in \u001b[0;36m__setitem__\u001b[1;34m(self, key, val)\u001b[0m\n\u001b[0;32m    598\u001b[0m             \u001b[0mdict\u001b[0m\u001b[1;33m.\u001b[0m\u001b[0m__setitem__\u001b[0m\u001b[1;33m(\u001b[0m\u001b[0mself\u001b[0m\u001b[1;33m,\u001b[0m \u001b[0mkey\u001b[0m\u001b[1;33m,\u001b[0m \u001b[0mcval\u001b[0m\u001b[1;33m)\u001b[0m\u001b[1;33m\u001b[0m\u001b[1;33m\u001b[0m\u001b[0m\n\u001b[0;32m    599\u001b[0m         \u001b[1;32mexcept\u001b[0m \u001b[0mKeyError\u001b[0m \u001b[1;32mas\u001b[0m \u001b[0merr\u001b[0m\u001b[1;33m:\u001b[0m\u001b[1;33m\u001b[0m\u001b[1;33m\u001b[0m\u001b[0m\n\u001b[1;32m--> 600\u001b[1;33m             raise KeyError(\n\u001b[0m\u001b[0;32m    601\u001b[0m                 \u001b[1;34mf\"{key} is not a valid rc parameter (see rcParams.keys() for \"\u001b[0m\u001b[1;33m\u001b[0m\u001b[1;33m\u001b[0m\u001b[0m\n\u001b[0;32m    602\u001b[0m                 f\"a list of valid parameters)\") from err\n",
      "\u001b[1;31mKeyError\u001b[0m: 'figure.size is not a valid rc parameter (see rcParams.keys() for a list of valid parameters)'"
     ]
    },
    {
     "data": {
      "image/png": "[encoded data removed]",
      "text/plain": [
       "<Figure size 432x288 with 1 Axes>"
      ]
     },
     "metadata": {
      "needs_background": "light"
     },
     "output_type": "display_data"
    }
   ],
   "source": [
    "# competition time month\n",
    "\n",
    "sns.boxplot( df5['competition_time_month'] )\n",
    "plt.rcParams[\"figure.size\"]=(10,10)"
   ]
  },
  {
   "cell_type": "code",
   "execution_count": 132,
   "id": "d01c514c",
   "metadata": {
    "ExecuteTime": {
     "end_time": "2021-08-06T01:33:19.627368Z",
     "start_time": "2021-08-06T01:33:19.572470Z"
    },
    "hidden": true
   },
   "outputs": [],
   "source": [
    "# competition time month\n",
    "df5['competition_time_month'] = rs.fit_transform( df5[['competition_time_month']].values )"
   ]
  },
  {
   "cell_type": "code",
   "execution_count": 133,
   "id": "ef05d244",
   "metadata": {
    "ExecuteTime": {
     "end_time": "2021-08-06T01:33:19.987173Z",
     "start_time": "2021-08-06T01:33:19.838532Z"
    },
    "hidden": true
   },
   "outputs": [
    {
     "name": "stderr",
     "output_type": "stream",
     "text": [
      "C:\\Users\\eduardo\\anaconda3\\envs\\Rossmann_Stores_Sales\\lib\\site-packages\\seaborn\\_decorators.py:36: FutureWarning: Pass the following variable as a keyword arg: x. From version 0.12, the only valid positional argument will be `data`, and passing other arguments without an explicit keyword will result in an error or misinterpretation.\n",
      "  warnings.warn(\n"
     ]
    },
    {
     "data": {
      "text/plain": [
       "<AxesSubplot:xlabel='promo_time_week'>"
      ]
     },
     "execution_count": 133,
     "metadata": {},
     "output_type": "execute_result"
    },
    {
     "data": {
      "image/png": "[encoded data removed]",
      "text/plain": [
       "<Figure size 432x288 with 1 Axes>"
      ]
     },
     "metadata": {
      "needs_background": "light"
     },
     "output_type": "display_data"
    }
   ],
   "source": [
    "# promo time week\n",
    "\n",
    "sns.boxplot( df5['promo_time_week'] )\n",
    "#plt.rcParams[\"figure.size\"]=(10,10)"
   ]
  },
  {
   "cell_type": "code",
   "execution_count": 134,
   "id": "acf81edb",
   "metadata": {
    "ExecuteTime": {
     "end_time": "2021-08-06T01:33:20.095104Z",
     "start_time": "2021-08-06T01:33:20.058203Z"
    },
    "hidden": true
   },
   "outputs": [],
   "source": [
    "df5['promo_time_week'] = mns.fit_transform( df5[['promo_time_week']].values )"
   ]
  },
  {
   "cell_type": "code",
   "execution_count": 135,
   "id": "67027e55",
   "metadata": {
    "ExecuteTime": {
     "end_time": "2021-08-06T01:33:20.410622Z",
     "start_time": "2021-08-06T01:33:20.252043Z"
    },
    "hidden": true
   },
   "outputs": [
    {
     "name": "stderr",
     "output_type": "stream",
     "text": [
      "C:\\Users\\eduardo\\anaconda3\\envs\\Rossmann_Stores_Sales\\lib\\site-packages\\seaborn\\_decorators.py:36: FutureWarning: Pass the following variable as a keyword arg: x. From version 0.12, the only valid positional argument will be `data`, and passing other arguments without an explicit keyword will result in an error or misinterpretation.\n",
      "  warnings.warn(\n"
     ]
    },
    {
     "data": {
      "text/plain": [
       "<AxesSubplot:xlabel='year'>"
      ]
     },
     "execution_count": 135,
     "metadata": {},
     "output_type": "execute_result"
    },
    {
     "data": {
      "image/png": "[encoded data removed]",
      "text/plain": [
       "<Figure size 432x288 with 1 Axes>"
      ]
     },
     "metadata": {
      "needs_background": "light"
     },
     "output_type": "display_data"
    }
   ],
   "source": [
    "sns.boxplot( df5['year'] )\n",
    "#plt.rcParams[\"figure.size\"]=(10,10)"
   ]
  },
  {
   "cell_type": "code",
   "execution_count": 136,
   "id": "24df9048",
   "metadata": {
    "ExecuteTime": {
     "end_time": "2021-08-06T01:33:20.568025Z",
     "start_time": "2021-08-06T01:33:20.461712Z"
    },
    "hidden": true
   },
   "outputs": [],
   "source": [
    "df5['year'] = mns.fit_transform( df5[['year']].values )"
   ]
  },
  {
   "cell_type": "markdown",
   "id": "99f56276",
   "metadata": {
    "hidden": true
   },
   "source": [
    "## 5.3. Transformação:"
   ]
  },
  {
   "cell_type": "markdown",
   "id": "b37ea09b",
   "metadata": {
    "heading_collapsed": true,
    "hidden": true
   },
   "source": [
    "## 5.3.1. Encoding"
   ]
  },
  {
   "cell_type": "code",
   "execution_count": 138,
   "id": "cbd9f3ad",
   "metadata": {
    "ExecuteTime": {
     "end_time": "2021-08-06T01:33:26.273532Z",
     "start_time": "2021-08-06T01:33:26.243650Z"
    },
    "hidden": true
   },
   "outputs": [
    {
     "data": {
      "text/html": [
       "<div>\n",
       "<style scoped>\n",
       "    .dataframe tbody tr th:only-of-type {\n",
       "        vertical-align: middle;\n",
       "    }\n",
       "\n",
       "    .dataframe tbody tr th {\n",
       "        vertical-align: top;\n",
       "    }\n",
       "\n",
       "    .dataframe thead th {\n",
       "        text-align: right;\n",
       "    }\n",
       "</style>\n",
       "<table border=\"1\" class=\"dataframe\">\n",
       "  <thead>\n",
       "    <tr style=\"text-align: right;\">\n",
       "      <th></th>\n",
       "      <th>store</th>\n",
       "      <th>day_of_week</th>\n",
       "      <th>date</th>\n",
       "      <th>sales</th>\n",
       "      <th>promo</th>\n",
       "      <th>state_holiday</th>\n",
       "      <th>school_holiday</th>\n",
       "      <th>store_type</th>\n",
       "      <th>assortment</th>\n",
       "      <th>competition_distance</th>\n",
       "      <th>...</th>\n",
       "      <th>is_promo</th>\n",
       "      <th>year</th>\n",
       "      <th>month</th>\n",
       "      <th>week_of_year</th>\n",
       "      <th>day</th>\n",
       "      <th>year_week</th>\n",
       "      <th>competition_since</th>\n",
       "      <th>competition_time_month</th>\n",
       "      <th>promo_since</th>\n",
       "      <th>promo_time_week</th>\n",
       "    </tr>\n",
       "  </thead>\n",
       "  <tbody>\n",
       "    <tr>\n",
       "      <th>0</th>\n",
       "      <td>1</td>\n",
       "      <td>5</td>\n",
       "      <td>2015-07-31</td>\n",
       "      <td>5263</td>\n",
       "      <td>1</td>\n",
       "      <td>regular_day</td>\n",
       "      <td>1</td>\n",
       "      <td>c</td>\n",
       "      <td>basic</td>\n",
       "      <td>-0.170968</td>\n",
       "      <td>...</td>\n",
       "      <td>0</td>\n",
       "      <td>1.0</td>\n",
       "      <td>7</td>\n",
       "      <td>31</td>\n",
       "      <td>31</td>\n",
       "      <td>2015-30</td>\n",
       "      <td>2008-09-01</td>\n",
       "      <td>0.918919</td>\n",
       "      <td>2015-07-27</td>\n",
       "      <td>0.287016</td>\n",
       "    </tr>\n",
       "    <tr>\n",
       "      <th>1</th>\n",
       "      <td>2</td>\n",
       "      <td>5</td>\n",
       "      <td>2015-07-31</td>\n",
       "      <td>6064</td>\n",
       "      <td>1</td>\n",
       "      <td>regular_day</td>\n",
       "      <td>1</td>\n",
       "      <td>a</td>\n",
       "      <td>basic</td>\n",
       "      <td>-0.283871</td>\n",
       "      <td>...</td>\n",
       "      <td>1</td>\n",
       "      <td>1.0</td>\n",
       "      <td>7</td>\n",
       "      <td>31</td>\n",
       "      <td>31</td>\n",
       "      <td>2015-30</td>\n",
       "      <td>2007-11-01</td>\n",
       "      <td>1.054054</td>\n",
       "      <td>2010-03-22</td>\n",
       "      <td>0.922551</td>\n",
       "    </tr>\n",
       "    <tr>\n",
       "      <th>2</th>\n",
       "      <td>3</td>\n",
       "      <td>5</td>\n",
       "      <td>2015-07-31</td>\n",
       "      <td>8314</td>\n",
       "      <td>1</td>\n",
       "      <td>regular_day</td>\n",
       "      <td>1</td>\n",
       "      <td>a</td>\n",
       "      <td>basic</td>\n",
       "      <td>1.903226</td>\n",
       "      <td>...</td>\n",
       "      <td>1</td>\n",
       "      <td>1.0</td>\n",
       "      <td>7</td>\n",
       "      <td>31</td>\n",
       "      <td>31</td>\n",
       "      <td>2015-30</td>\n",
       "      <td>2006-12-01</td>\n",
       "      <td>1.202703</td>\n",
       "      <td>2011-03-28</td>\n",
       "      <td>0.801822</td>\n",
       "    </tr>\n",
       "    <tr>\n",
       "      <th>3</th>\n",
       "      <td>4</td>\n",
       "      <td>5</td>\n",
       "      <td>2015-07-31</td>\n",
       "      <td>13995</td>\n",
       "      <td>1</td>\n",
       "      <td>regular_day</td>\n",
       "      <td>1</td>\n",
       "      <td>c</td>\n",
       "      <td>extendend</td>\n",
       "      <td>-0.275806</td>\n",
       "      <td>...</td>\n",
       "      <td>0</td>\n",
       "      <td>1.0</td>\n",
       "      <td>7</td>\n",
       "      <td>31</td>\n",
       "      <td>31</td>\n",
       "      <td>2015-30</td>\n",
       "      <td>2009-09-01</td>\n",
       "      <td>0.743243</td>\n",
       "      <td>2015-07-27</td>\n",
       "      <td>0.287016</td>\n",
       "    </tr>\n",
       "    <tr>\n",
       "      <th>4</th>\n",
       "      <td>5</td>\n",
       "      <td>5</td>\n",
       "      <td>2015-07-31</td>\n",
       "      <td>4822</td>\n",
       "      <td>1</td>\n",
       "      <td>regular_day</td>\n",
       "      <td>1</td>\n",
       "      <td>a</td>\n",
       "      <td>basic</td>\n",
       "      <td>4.448387</td>\n",
       "      <td>...</td>\n",
       "      <td>0</td>\n",
       "      <td>1.0</td>\n",
       "      <td>7</td>\n",
       "      <td>31</td>\n",
       "      <td>31</td>\n",
       "      <td>2015-30</td>\n",
       "      <td>2015-04-01</td>\n",
       "      <td>-0.162162</td>\n",
       "      <td>2015-07-27</td>\n",
       "      <td>0.287016</td>\n",
       "    </tr>\n",
       "  </tbody>\n",
       "</table>\n",
       "<p>5 rows × 25 columns</p>\n",
       "</div>"
      ],
      "text/plain": [
       "   store  day_of_week       date  sales  promo state_holiday  school_holiday  \\\n",
       "0      1            5 2015-07-31   5263      1   regular_day               1   \n",
       "1      2            5 2015-07-31   6064      1   regular_day               1   \n",
       "2      3            5 2015-07-31   8314      1   regular_day               1   \n",
       "3      4            5 2015-07-31  13995      1   regular_day               1   \n",
       "4      5            5 2015-07-31   4822      1   regular_day               1   \n",
       "\n",
       "  store_type assortment  competition_distance  ...  is_promo  year  month  \\\n",
       "0          c      basic             -0.170968  ...         0   1.0      7   \n",
       "1          a      basic             -0.283871  ...         1   1.0      7   \n",
       "2          a      basic              1.903226  ...         1   1.0      7   \n",
       "3          c  extendend             -0.275806  ...         0   1.0      7   \n",
       "4          a      basic              4.448387  ...         0   1.0      7   \n",
       "\n",
       "   week_of_year  day  year_week  competition_since  competition_time_month  \\\n",
       "0            31   31    2015-30         2008-09-01                0.918919   \n",
       "1            31   31    2015-30         2007-11-01                1.054054   \n",
       "2            31   31    2015-30         2006-12-01                1.202703   \n",
       "3            31   31    2015-30         2009-09-01                0.743243   \n",
       "4            31   31    2015-30         2015-04-01               -0.162162   \n",
       "\n",
       "   promo_since  promo_time_week  \n",
       "0   2015-07-27         0.287016  \n",
       "1   2010-03-22         0.922551  \n",
       "2   2011-03-28         0.801822  \n",
       "3   2015-07-27         0.287016  \n",
       "4   2015-07-27         0.287016  \n",
       "\n",
       "[5 rows x 25 columns]"
      ]
     },
     "execution_count": 138,
     "metadata": {},
     "output_type": "execute_result"
    }
   ],
   "source": [
    "df5.head()"
   ]
  },
  {
   "cell_type": "code",
   "execution_count": 139,
   "id": "5d744b44",
   "metadata": {
    "ExecuteTime": {
     "end_time": "2021-08-06T01:33:32.184172Z",
     "start_time": "2021-08-06T01:33:31.863153Z"
    },
    "hidden": true
   },
   "outputs": [],
   "source": [
    "# state_holiday - \"One hot encoding\"\n",
    "\n",
    "df5 = pd.get_dummies( df5, prefix=['state_holiday'], columns=['state_holiday'] )"
   ]
  },
  {
   "cell_type": "code",
   "execution_count": 140,
   "id": "fce1df1f",
   "metadata": {
    "ExecuteTime": {
     "end_time": "2021-08-06T01:33:34.349352Z",
     "start_time": "2021-08-06T01:33:34.168818Z"
    },
    "hidden": true
   },
   "outputs": [],
   "source": [
    "# store_type - \"Label encoding\"\n",
    "\n",
    "le = LabelEncoder()\n",
    "df5['store_type'] = le.fit_transform( df5['store_type'] )"
   ]
  },
  {
   "cell_type": "code",
   "execution_count": 141,
   "id": "995f88d7",
   "metadata": {
    "ExecuteTime": {
     "end_time": "2021-08-06T01:33:35.552491Z",
     "start_time": "2021-08-06T01:33:35.483139Z"
    },
    "hidden": true
   },
   "outputs": [],
   "source": [
    "# assortment - \"Ordinal encoding\"\n",
    "\n",
    "assortment_dict = { 'basic': 1, 'extra': 2, 'extendend': 3 }\n",
    "df5['assortment'] = df5['assortment'].map( assortment_dict )"
   ]
  },
  {
   "cell_type": "code",
   "execution_count": 142,
   "id": "5b5cf2da",
   "metadata": {
    "ExecuteTime": {
     "end_time": "2021-08-06T01:33:36.862663Z",
     "start_time": "2021-08-06T01:33:36.822771Z"
    },
    "hidden": true
   },
   "outputs": [
    {
     "data": {
      "text/html": [
       "<div>\n",
       "<style scoped>\n",
       "    .dataframe tbody tr th:only-of-type {\n",
       "        vertical-align: middle;\n",
       "    }\n",
       "\n",
       "    .dataframe tbody tr th {\n",
       "        vertical-align: top;\n",
       "    }\n",
       "\n",
       "    .dataframe thead th {\n",
       "        text-align: right;\n",
       "    }\n",
       "</style>\n",
       "<table border=\"1\" class=\"dataframe\">\n",
       "  <thead>\n",
       "    <tr style=\"text-align: right;\">\n",
       "      <th></th>\n",
       "      <th>store</th>\n",
       "      <th>day_of_week</th>\n",
       "      <th>date</th>\n",
       "      <th>sales</th>\n",
       "      <th>promo</th>\n",
       "      <th>school_holiday</th>\n",
       "      <th>store_type</th>\n",
       "      <th>assortment</th>\n",
       "      <th>competition_distance</th>\n",
       "      <th>competition_open_since_month</th>\n",
       "      <th>...</th>\n",
       "      <th>day</th>\n",
       "      <th>year_week</th>\n",
       "      <th>competition_since</th>\n",
       "      <th>competition_time_month</th>\n",
       "      <th>promo_since</th>\n",
       "      <th>promo_time_week</th>\n",
       "      <th>state_holiday_christmas</th>\n",
       "      <th>state_holiday_easter_holiday</th>\n",
       "      <th>state_holiday_public_holiday</th>\n",
       "      <th>state_holiday_regular_day</th>\n",
       "    </tr>\n",
       "  </thead>\n",
       "  <tbody>\n",
       "    <tr>\n",
       "      <th>0</th>\n",
       "      <td>1</td>\n",
       "      <td>5</td>\n",
       "      <td>2015-07-31</td>\n",
       "      <td>5263</td>\n",
       "      <td>1</td>\n",
       "      <td>1</td>\n",
       "      <td>2</td>\n",
       "      <td>1</td>\n",
       "      <td>-0.170968</td>\n",
       "      <td>9</td>\n",
       "      <td>...</td>\n",
       "      <td>31</td>\n",
       "      <td>2015-30</td>\n",
       "      <td>2008-09-01</td>\n",
       "      <td>0.918919</td>\n",
       "      <td>2015-07-27</td>\n",
       "      <td>0.287016</td>\n",
       "      <td>0</td>\n",
       "      <td>0</td>\n",
       "      <td>0</td>\n",
       "      <td>1</td>\n",
       "    </tr>\n",
       "    <tr>\n",
       "      <th>1</th>\n",
       "      <td>2</td>\n",
       "      <td>5</td>\n",
       "      <td>2015-07-31</td>\n",
       "      <td>6064</td>\n",
       "      <td>1</td>\n",
       "      <td>1</td>\n",
       "      <td>0</td>\n",
       "      <td>1</td>\n",
       "      <td>-0.283871</td>\n",
       "      <td>11</td>\n",
       "      <td>...</td>\n",
       "      <td>31</td>\n",
       "      <td>2015-30</td>\n",
       "      <td>2007-11-01</td>\n",
       "      <td>1.054054</td>\n",
       "      <td>2010-03-22</td>\n",
       "      <td>0.922551</td>\n",
       "      <td>0</td>\n",
       "      <td>0</td>\n",
       "      <td>0</td>\n",
       "      <td>1</td>\n",
       "    </tr>\n",
       "    <tr>\n",
       "      <th>2</th>\n",
       "      <td>3</td>\n",
       "      <td>5</td>\n",
       "      <td>2015-07-31</td>\n",
       "      <td>8314</td>\n",
       "      <td>1</td>\n",
       "      <td>1</td>\n",
       "      <td>0</td>\n",
       "      <td>1</td>\n",
       "      <td>1.903226</td>\n",
       "      <td>12</td>\n",
       "      <td>...</td>\n",
       "      <td>31</td>\n",
       "      <td>2015-30</td>\n",
       "      <td>2006-12-01</td>\n",
       "      <td>1.202703</td>\n",
       "      <td>2011-03-28</td>\n",
       "      <td>0.801822</td>\n",
       "      <td>0</td>\n",
       "      <td>0</td>\n",
       "      <td>0</td>\n",
       "      <td>1</td>\n",
       "    </tr>\n",
       "    <tr>\n",
       "      <th>3</th>\n",
       "      <td>4</td>\n",
       "      <td>5</td>\n",
       "      <td>2015-07-31</td>\n",
       "      <td>13995</td>\n",
       "      <td>1</td>\n",
       "      <td>1</td>\n",
       "      <td>2</td>\n",
       "      <td>3</td>\n",
       "      <td>-0.275806</td>\n",
       "      <td>9</td>\n",
       "      <td>...</td>\n",
       "      <td>31</td>\n",
       "      <td>2015-30</td>\n",
       "      <td>2009-09-01</td>\n",
       "      <td>0.743243</td>\n",
       "      <td>2015-07-27</td>\n",
       "      <td>0.287016</td>\n",
       "      <td>0</td>\n",
       "      <td>0</td>\n",
       "      <td>0</td>\n",
       "      <td>1</td>\n",
       "    </tr>\n",
       "    <tr>\n",
       "      <th>4</th>\n",
       "      <td>5</td>\n",
       "      <td>5</td>\n",
       "      <td>2015-07-31</td>\n",
       "      <td>4822</td>\n",
       "      <td>1</td>\n",
       "      <td>1</td>\n",
       "      <td>0</td>\n",
       "      <td>1</td>\n",
       "      <td>4.448387</td>\n",
       "      <td>4</td>\n",
       "      <td>...</td>\n",
       "      <td>31</td>\n",
       "      <td>2015-30</td>\n",
       "      <td>2015-04-01</td>\n",
       "      <td>-0.162162</td>\n",
       "      <td>2015-07-27</td>\n",
       "      <td>0.287016</td>\n",
       "      <td>0</td>\n",
       "      <td>0</td>\n",
       "      <td>0</td>\n",
       "      <td>1</td>\n",
       "    </tr>\n",
       "  </tbody>\n",
       "</table>\n",
       "<p>5 rows × 28 columns</p>\n",
       "</div>"
      ],
      "text/plain": [
       "   store  day_of_week       date  sales  promo  school_holiday  store_type  \\\n",
       "0      1            5 2015-07-31   5263      1               1           2   \n",
       "1      2            5 2015-07-31   6064      1               1           0   \n",
       "2      3            5 2015-07-31   8314      1               1           0   \n",
       "3      4            5 2015-07-31  13995      1               1           2   \n",
       "4      5            5 2015-07-31   4822      1               1           0   \n",
       "\n",
       "   assortment  competition_distance  competition_open_since_month  ...  day  \\\n",
       "0           1             -0.170968                             9  ...   31   \n",
       "1           1             -0.283871                            11  ...   31   \n",
       "2           1              1.903226                            12  ...   31   \n",
       "3           3             -0.275806                             9  ...   31   \n",
       "4           1              4.448387                             4  ...   31   \n",
       "\n",
       "   year_week  competition_since  competition_time_month  promo_since  \\\n",
       "0    2015-30         2008-09-01                0.918919   2015-07-27   \n",
       "1    2015-30         2007-11-01                1.054054   2010-03-22   \n",
       "2    2015-30         2006-12-01                1.202703   2011-03-28   \n",
       "3    2015-30         2009-09-01                0.743243   2015-07-27   \n",
       "4    2015-30         2015-04-01               -0.162162   2015-07-27   \n",
       "\n",
       "   promo_time_week  state_holiday_christmas  state_holiday_easter_holiday  \\\n",
       "0         0.287016                        0                             0   \n",
       "1         0.922551                        0                             0   \n",
       "2         0.801822                        0                             0   \n",
       "3         0.287016                        0                             0   \n",
       "4         0.287016                        0                             0   \n",
       "\n",
       "   state_holiday_public_holiday state_holiday_regular_day  \n",
       "0                             0                         1  \n",
       "1                             0                         1  \n",
       "2                             0                         1  \n",
       "3                             0                         1  \n",
       "4                             0                         1  \n",
       "\n",
       "[5 rows x 28 columns]"
      ]
     },
     "execution_count": 142,
     "metadata": {},
     "output_type": "execute_result"
    }
   ],
   "source": [
    "df5.head()"
   ]
  },
  {
   "cell_type": "markdown",
   "id": "cb7f5cf7",
   "metadata": {
    "heading_collapsed": true,
    "hidden": true
   },
   "source": [
    "## 5.3.2. Response Variable Transformation"
   ]
  },
  {
   "cell_type": "code",
   "execution_count": 143,
   "id": "45ccc153",
   "metadata": {
    "ExecuteTime": {
     "end_time": "2021-08-06T01:33:46.507127Z",
     "start_time": "2021-08-06T01:33:39.331786Z"
    },
    "hidden": true
   },
   "outputs": [
    {
     "name": "stderr",
     "output_type": "stream",
     "text": [
      "C:\\Users\\eduardo\\anaconda3\\envs\\Rossmann_Stores_Sales\\lib\\site-packages\\seaborn\\distributions.py:2557: FutureWarning: `distplot` is a deprecated function and will be removed in a future version. Please adapt your code to use either `displot` (a figure-level function with similar flexibility) or `histplot` (an axes-level function for histograms).\n",
      "  warnings.warn(msg, FutureWarning)\n"
     ]
    },
    {
     "data": {
      "text/plain": [
       "<AxesSubplot:xlabel='sales', ylabel='Density'>"
      ]
     },
     "execution_count": 143,
     "metadata": {},
     "output_type": "execute_result"
    },
    {
     "data": {
      "image/png": "[encoded data removed]",
      "text/plain": [
       "<Figure size 432x288 with 1 Axes>"
      ]
     },
     "metadata": {
      "needs_background": "light"
     },
     "output_type": "display_data"
    }
   ],
   "source": [
    "sns.distplot( df5['sales'] )"
   ]
  },
  {
   "cell_type": "code",
   "execution_count": 144,
   "id": "2daaa2a6",
   "metadata": {
    "ExecuteTime": {
     "end_time": "2021-08-06T01:33:46.538993Z",
     "start_time": "2021-08-06T01:33:46.511070Z"
    },
    "hidden": true
   },
   "outputs": [],
   "source": [
    "df5['sales'] = np.log1p( df5['sales'] )"
   ]
  },
  {
   "cell_type": "code",
   "execution_count": 145,
   "id": "81027389",
   "metadata": {
    "ExecuteTime": {
     "end_time": "2021-08-06T01:33:53.918734Z",
     "start_time": "2021-08-06T01:33:46.542986Z"
    },
    "hidden": true
   },
   "outputs": [
    {
     "name": "stderr",
     "output_type": "stream",
     "text": [
      "C:\\Users\\eduardo\\anaconda3\\envs\\Rossmann_Stores_Sales\\lib\\site-packages\\seaborn\\distributions.py:2557: FutureWarning: `distplot` is a deprecated function and will be removed in a future version. Please adapt your code to use either `displot` (a figure-level function with similar flexibility) or `histplot` (an axes-level function for histograms).\n",
      "  warnings.warn(msg, FutureWarning)\n"
     ]
    },
    {
     "data": {
      "text/plain": [
       "<AxesSubplot:xlabel='sales', ylabel='Density'>"
      ]
     },
     "execution_count": 145,
     "metadata": {},
     "output_type": "execute_result"
    },
    {
     "data": {
      "image/png": "[encoded data removed]",
      "text/plain": [
       "<Figure size 432x288 with 1 Axes>"
      ]
     },
     "metadata": {
      "needs_background": "light"
     },
     "output_type": "display_data"
    }
   ],
   "source": [
    "sns.distplot( df5['sales'] )"
   ]
  },
  {
   "cell_type": "markdown",
   "id": "cc006e5b",
   "metadata": {
    "heading_collapsed": true,
    "hidden": true
   },
   "source": [
    "## 5.3.2. Nature transformation"
   ]
  },
  {
   "cell_type": "code",
   "execution_count": 146,
   "id": "38c976da",
   "metadata": {
    "ExecuteTime": {
     "end_time": "2021-08-06T01:34:29.829034Z",
     "start_time": "2021-08-06T01:34:22.441739Z"
    },
    "hidden": true
   },
   "outputs": [],
   "source": [
    "# day of week\n",
    "df5['day_of_week_sin'] = df5['day_of_week'].apply( lambda x: np.sin( x * (2. * np.pi/7 ) ) )\n",
    "df5['day_of_week_cos'] = df5['day_of_week'].apply( lambda x: np.cos( x * (2. * np.pi/7 ) ) )\n",
    "\n",
    "# month\n",
    "df5['month_sin'] = df5['month'].apply( lambda x: np.sin( x * (2. * np.pi/12 ) ) )\n",
    "df5['month_cos'] = df5['month'].apply( lambda x: np.cos( x * (2. * np.pi/12 ) ) ) \n",
    "\n",
    "# day\n",
    "df5['day_sin'] = df5['day'].apply( lambda x: np.sin( x * (2. * np.pi/30 ) ) )\n",
    "df5['day_cos'] = df5['day'].apply( lambda x: np.cos( x * (2. * np.pi/30 ) ) )\n",
    "\n",
    "# week of year\n",
    "df5['week_of_year_sin'] = df5['week_of_year'].apply( lambda x: np.sin( x * (2. * np.pi/52 ) ) )\n",
    "df5['week_of_year_cos'] = df5['week_of_year'].apply( lambda x: np.cos( x * (2. * np.pi/52 ) ) )"
   ]
  },
  {
   "cell_type": "code",
   "execution_count": null,
   "id": "06e9327c",
   "metadata": {
    "hidden": true,
    "hide_input": true
   },
   "outputs": [],
   "source": []
  },
  {
   "cell_type": "code",
   "execution_count": 147,
   "id": "5265d88f",
   "metadata": {
    "ExecuteTime": {
     "end_time": "2021-08-06T01:34:58.001613Z",
     "start_time": "2021-08-06T01:34:57.966710Z"
    },
    "hidden": true
   },
   "outputs": [
    {
     "data": {
      "text/html": [
       "<div>\n",
       "<style scoped>\n",
       "    .dataframe tbody tr th:only-of-type {\n",
       "        vertical-align: middle;\n",
       "    }\n",
       "\n",
       "    .dataframe tbody tr th {\n",
       "        vertical-align: top;\n",
       "    }\n",
       "\n",
       "    .dataframe thead th {\n",
       "        text-align: right;\n",
       "    }\n",
       "</style>\n",
       "<table border=\"1\" class=\"dataframe\">\n",
       "  <thead>\n",
       "    <tr style=\"text-align: right;\">\n",
       "      <th></th>\n",
       "      <th>store</th>\n",
       "      <th>day_of_week</th>\n",
       "      <th>date</th>\n",
       "      <th>sales</th>\n",
       "      <th>promo</th>\n",
       "      <th>school_holiday</th>\n",
       "      <th>store_type</th>\n",
       "      <th>assortment</th>\n",
       "      <th>competition_distance</th>\n",
       "      <th>competition_open_since_month</th>\n",
       "      <th>...</th>\n",
       "      <th>state_holiday_public_holiday</th>\n",
       "      <th>state_holiday_regular_day</th>\n",
       "      <th>day_of_week_sin</th>\n",
       "      <th>day_of_week_cos</th>\n",
       "      <th>month_sin</th>\n",
       "      <th>month_cos</th>\n",
       "      <th>day_sin</th>\n",
       "      <th>day_cos</th>\n",
       "      <th>week_of_year_sin</th>\n",
       "      <th>week_of_year_cos</th>\n",
       "    </tr>\n",
       "  </thead>\n",
       "  <tbody>\n",
       "    <tr>\n",
       "      <th>0</th>\n",
       "      <td>1</td>\n",
       "      <td>5</td>\n",
       "      <td>2015-07-31</td>\n",
       "      <td>8.568646</td>\n",
       "      <td>1</td>\n",
       "      <td>1</td>\n",
       "      <td>2</td>\n",
       "      <td>1</td>\n",
       "      <td>-0.170968</td>\n",
       "      <td>9</td>\n",
       "      <td>...</td>\n",
       "      <td>0</td>\n",
       "      <td>1</td>\n",
       "      <td>-0.974928</td>\n",
       "      <td>-0.222521</td>\n",
       "      <td>-0.5</td>\n",
       "      <td>-0.866025</td>\n",
       "      <td>0.207912</td>\n",
       "      <td>0.978148</td>\n",
       "      <td>-0.568065</td>\n",
       "      <td>-0.822984</td>\n",
       "    </tr>\n",
       "    <tr>\n",
       "      <th>1</th>\n",
       "      <td>2</td>\n",
       "      <td>5</td>\n",
       "      <td>2015-07-31</td>\n",
       "      <td>8.710290</td>\n",
       "      <td>1</td>\n",
       "      <td>1</td>\n",
       "      <td>0</td>\n",
       "      <td>1</td>\n",
       "      <td>-0.283871</td>\n",
       "      <td>11</td>\n",
       "      <td>...</td>\n",
       "      <td>0</td>\n",
       "      <td>1</td>\n",
       "      <td>-0.974928</td>\n",
       "      <td>-0.222521</td>\n",
       "      <td>-0.5</td>\n",
       "      <td>-0.866025</td>\n",
       "      <td>0.207912</td>\n",
       "      <td>0.978148</td>\n",
       "      <td>-0.568065</td>\n",
       "      <td>-0.822984</td>\n",
       "    </tr>\n",
       "    <tr>\n",
       "      <th>2</th>\n",
       "      <td>3</td>\n",
       "      <td>5</td>\n",
       "      <td>2015-07-31</td>\n",
       "      <td>9.025816</td>\n",
       "      <td>1</td>\n",
       "      <td>1</td>\n",
       "      <td>0</td>\n",
       "      <td>1</td>\n",
       "      <td>1.903226</td>\n",
       "      <td>12</td>\n",
       "      <td>...</td>\n",
       "      <td>0</td>\n",
       "      <td>1</td>\n",
       "      <td>-0.974928</td>\n",
       "      <td>-0.222521</td>\n",
       "      <td>-0.5</td>\n",
       "      <td>-0.866025</td>\n",
       "      <td>0.207912</td>\n",
       "      <td>0.978148</td>\n",
       "      <td>-0.568065</td>\n",
       "      <td>-0.822984</td>\n",
       "    </tr>\n",
       "    <tr>\n",
       "      <th>3</th>\n",
       "      <td>4</td>\n",
       "      <td>5</td>\n",
       "      <td>2015-07-31</td>\n",
       "      <td>9.546527</td>\n",
       "      <td>1</td>\n",
       "      <td>1</td>\n",
       "      <td>2</td>\n",
       "      <td>3</td>\n",
       "      <td>-0.275806</td>\n",
       "      <td>9</td>\n",
       "      <td>...</td>\n",
       "      <td>0</td>\n",
       "      <td>1</td>\n",
       "      <td>-0.974928</td>\n",
       "      <td>-0.222521</td>\n",
       "      <td>-0.5</td>\n",
       "      <td>-0.866025</td>\n",
       "      <td>0.207912</td>\n",
       "      <td>0.978148</td>\n",
       "      <td>-0.568065</td>\n",
       "      <td>-0.822984</td>\n",
       "    </tr>\n",
       "    <tr>\n",
       "      <th>4</th>\n",
       "      <td>5</td>\n",
       "      <td>5</td>\n",
       "      <td>2015-07-31</td>\n",
       "      <td>8.481151</td>\n",
       "      <td>1</td>\n",
       "      <td>1</td>\n",
       "      <td>0</td>\n",
       "      <td>1</td>\n",
       "      <td>4.448387</td>\n",
       "      <td>4</td>\n",
       "      <td>...</td>\n",
       "      <td>0</td>\n",
       "      <td>1</td>\n",
       "      <td>-0.974928</td>\n",
       "      <td>-0.222521</td>\n",
       "      <td>-0.5</td>\n",
       "      <td>-0.866025</td>\n",
       "      <td>0.207912</td>\n",
       "      <td>0.978148</td>\n",
       "      <td>-0.568065</td>\n",
       "      <td>-0.822984</td>\n",
       "    </tr>\n",
       "  </tbody>\n",
       "</table>\n",
       "<p>5 rows × 36 columns</p>\n",
       "</div>"
      ],
      "text/plain": [
       "   store  day_of_week       date     sales  promo  school_holiday  store_type  \\\n",
       "0      1            5 2015-07-31  8.568646      1               1           2   \n",
       "1      2            5 2015-07-31  8.710290      1               1           0   \n",
       "2      3            5 2015-07-31  9.025816      1               1           0   \n",
       "3      4            5 2015-07-31  9.546527      1               1           2   \n",
       "4      5            5 2015-07-31  8.481151      1               1           0   \n",
       "\n",
       "   assortment  competition_distance  competition_open_since_month  ...  \\\n",
       "0           1             -0.170968                             9  ...   \n",
       "1           1             -0.283871                            11  ...   \n",
       "2           1              1.903226                            12  ...   \n",
       "3           3             -0.275806                             9  ...   \n",
       "4           1              4.448387                             4  ...   \n",
       "\n",
       "   state_holiday_public_holiday  state_holiday_regular_day  day_of_week_sin  \\\n",
       "0                             0                          1        -0.974928   \n",
       "1                             0                          1        -0.974928   \n",
       "2                             0                          1        -0.974928   \n",
       "3                             0                          1        -0.974928   \n",
       "4                             0                          1        -0.974928   \n",
       "\n",
       "   day_of_week_cos  month_sin  month_cos   day_sin   day_cos  \\\n",
       "0        -0.222521       -0.5  -0.866025  0.207912  0.978148   \n",
       "1        -0.222521       -0.5  -0.866025  0.207912  0.978148   \n",
       "2        -0.222521       -0.5  -0.866025  0.207912  0.978148   \n",
       "3        -0.222521       -0.5  -0.866025  0.207912  0.978148   \n",
       "4        -0.222521       -0.5  -0.866025  0.207912  0.978148   \n",
       "\n",
       "   week_of_year_sin week_of_year_cos  \n",
       "0         -0.568065        -0.822984  \n",
       "1         -0.568065        -0.822984  \n",
       "2         -0.568065        -0.822984  \n",
       "3         -0.568065        -0.822984  \n",
       "4         -0.568065        -0.822984  \n",
       "\n",
       "[5 rows x 36 columns]"
      ]
     },
     "execution_count": 147,
     "metadata": {},
     "output_type": "execute_result"
    }
   ],
   "source": [
    "df5.head()"
   ]
  },
  {
   "cell_type": "markdown",
   "id": "be49838d",
   "metadata": {
    "heading_collapsed": true
   },
   "source": [
    "# 6.0. PASSO 06 - FEATURE SELECTION"
   ]
  },
  {
   "cell_type": "code",
   "execution_count": 148,
   "id": "059d0755",
   "metadata": {
    "ExecuteTime": {
     "end_time": "2021-08-06T01:35:15.442766Z",
     "start_time": "2021-08-06T01:35:15.339485Z"
    },
    "hidden": true
   },
   "outputs": [],
   "source": [
    "df6 = df5.copy()"
   ]
  },
  {
   "cell_type": "markdown",
   "id": "6eaf568f",
   "metadata": {
    "hidden": true
   },
   "source": [
    "## 6.1. Split dataframe into training and test dataset"
   ]
  },
  {
   "cell_type": "code",
   "execution_count": 149,
   "id": "364f8252",
   "metadata": {
    "ExecuteTime": {
     "end_time": "2021-08-06T01:35:22.457096Z",
     "start_time": "2021-08-06T01:35:22.166224Z"
    },
    "hidden": true
   },
   "outputs": [],
   "source": [
    "cols_drop = ['week_of_year', 'day', 'month', 'day_of_week', 'promo_since', 'competition_since', 'year_week']\n",
    "df6 = df6.drop( cols_drop, axis=1 )"
   ]
  },
  {
   "cell_type": "code",
   "execution_count": 150,
   "id": "e250794e",
   "metadata": {
    "ExecuteTime": {
     "end_time": "2021-08-06T01:35:23.995504Z",
     "start_time": "2021-08-06T01:35:23.931675Z"
    },
    "hidden": true
   },
   "outputs": [
    {
     "data": {
      "text/html": [
       "<div>\n",
       "<style scoped>\n",
       "    .dataframe tbody tr th:only-of-type {\n",
       "        vertical-align: middle;\n",
       "    }\n",
       "\n",
       "    .dataframe tbody tr th {\n",
       "        vertical-align: top;\n",
       "    }\n",
       "\n",
       "    .dataframe thead th {\n",
       "        text-align: right;\n",
       "    }\n",
       "</style>\n",
       "<table border=\"1\" class=\"dataframe\">\n",
       "  <thead>\n",
       "    <tr style=\"text-align: right;\">\n",
       "      <th></th>\n",
       "      <th>store</th>\n",
       "      <th>date</th>\n",
       "    </tr>\n",
       "  </thead>\n",
       "  <tbody>\n",
       "    <tr>\n",
       "      <th>0</th>\n",
       "      <td>1</td>\n",
       "      <td>2013-01-02</td>\n",
       "    </tr>\n",
       "    <tr>\n",
       "      <th>1</th>\n",
       "      <td>2</td>\n",
       "      <td>2013-01-02</td>\n",
       "    </tr>\n",
       "    <tr>\n",
       "      <th>2</th>\n",
       "      <td>3</td>\n",
       "      <td>2013-01-02</td>\n",
       "    </tr>\n",
       "    <tr>\n",
       "      <th>3</th>\n",
       "      <td>4</td>\n",
       "      <td>2013-01-02</td>\n",
       "    </tr>\n",
       "    <tr>\n",
       "      <th>4</th>\n",
       "      <td>5</td>\n",
       "      <td>2013-01-02</td>\n",
       "    </tr>\n",
       "    <tr>\n",
       "      <th>...</th>\n",
       "      <td>...</td>\n",
       "      <td>...</td>\n",
       "    </tr>\n",
       "    <tr>\n",
       "      <th>1110</th>\n",
       "      <td>1111</td>\n",
       "      <td>2013-01-02</td>\n",
       "    </tr>\n",
       "    <tr>\n",
       "      <th>1111</th>\n",
       "      <td>1112</td>\n",
       "      <td>2013-01-02</td>\n",
       "    </tr>\n",
       "    <tr>\n",
       "      <th>1112</th>\n",
       "      <td>1113</td>\n",
       "      <td>2013-01-02</td>\n",
       "    </tr>\n",
       "    <tr>\n",
       "      <th>1113</th>\n",
       "      <td>1114</td>\n",
       "      <td>2013-01-02</td>\n",
       "    </tr>\n",
       "    <tr>\n",
       "      <th>1114</th>\n",
       "      <td>1115</td>\n",
       "      <td>2013-01-02</td>\n",
       "    </tr>\n",
       "  </tbody>\n",
       "</table>\n",
       "<p>1115 rows × 2 columns</p>\n",
       "</div>"
      ],
      "text/plain": [
       "      store       date\n",
       "0         1 2013-01-02\n",
       "1         2 2013-01-02\n",
       "2         3 2013-01-02\n",
       "3         4 2013-01-02\n",
       "4         5 2013-01-02\n",
       "...     ...        ...\n",
       "1110   1111 2013-01-02\n",
       "1111   1112 2013-01-02\n",
       "1112   1113 2013-01-02\n",
       "1113   1114 2013-01-02\n",
       "1114   1115 2013-01-02\n",
       "\n",
       "[1115 rows x 2 columns]"
      ]
     },
     "execution_count": 150,
     "metadata": {},
     "output_type": "execute_result"
    }
   ],
   "source": [
    "# first day of sales each store:\n",
    "\n",
    "df6[['store', 'date']].groupby( 'store' ).min().reset_index()"
   ]
  },
  {
   "cell_type": "code",
   "execution_count": 151,
   "id": "665b4b47",
   "metadata": {
    "ExecuteTime": {
     "end_time": "2021-08-06T01:35:25.741185Z",
     "start_time": "2021-08-06T01:35:25.685330Z"
    },
    "hidden": true
   },
   "outputs": [
    {
     "data": {
      "text/plain": [
       "Timestamp('2013-01-02 00:00:00')"
      ]
     },
     "execution_count": 151,
     "metadata": {},
     "output_type": "execute_result"
    }
   ],
   "source": [
    "df6[['store', 'date']].groupby( 'store' ).min().reset_index()['date'][0]"
   ]
  },
  {
   "cell_type": "code",
   "execution_count": 152,
   "id": "6b1ac377",
   "metadata": {
    "ExecuteTime": {
     "end_time": "2021-08-06T01:35:27.992856Z",
     "start_time": "2021-08-06T01:35:27.910077Z"
    },
    "hidden": true
   },
   "outputs": [
    {
     "data": {
      "text/html": [
       "<div>\n",
       "<style scoped>\n",
       "    .dataframe tbody tr th:only-of-type {\n",
       "        vertical-align: middle;\n",
       "    }\n",
       "\n",
       "    .dataframe tbody tr th {\n",
       "        vertical-align: top;\n",
       "    }\n",
       "\n",
       "    .dataframe thead th {\n",
       "        text-align: right;\n",
       "    }\n",
       "</style>\n",
       "<table border=\"1\" class=\"dataframe\">\n",
       "  <thead>\n",
       "    <tr style=\"text-align: right;\">\n",
       "      <th></th>\n",
       "      <th>store</th>\n",
       "      <th>date</th>\n",
       "    </tr>\n",
       "  </thead>\n",
       "  <tbody>\n",
       "    <tr>\n",
       "      <th>0</th>\n",
       "      <td>1</td>\n",
       "      <td>2015-07-31</td>\n",
       "    </tr>\n",
       "    <tr>\n",
       "      <th>1</th>\n",
       "      <td>2</td>\n",
       "      <td>2015-07-31</td>\n",
       "    </tr>\n",
       "    <tr>\n",
       "      <th>2</th>\n",
       "      <td>3</td>\n",
       "      <td>2015-07-31</td>\n",
       "    </tr>\n",
       "    <tr>\n",
       "      <th>3</th>\n",
       "      <td>4</td>\n",
       "      <td>2015-07-31</td>\n",
       "    </tr>\n",
       "    <tr>\n",
       "      <th>4</th>\n",
       "      <td>5</td>\n",
       "      <td>2015-07-31</td>\n",
       "    </tr>\n",
       "    <tr>\n",
       "      <th>...</th>\n",
       "      <td>...</td>\n",
       "      <td>...</td>\n",
       "    </tr>\n",
       "    <tr>\n",
       "      <th>1110</th>\n",
       "      <td>1111</td>\n",
       "      <td>2015-07-31</td>\n",
       "    </tr>\n",
       "    <tr>\n",
       "      <th>1111</th>\n",
       "      <td>1112</td>\n",
       "      <td>2015-07-31</td>\n",
       "    </tr>\n",
       "    <tr>\n",
       "      <th>1112</th>\n",
       "      <td>1113</td>\n",
       "      <td>2015-07-31</td>\n",
       "    </tr>\n",
       "    <tr>\n",
       "      <th>1113</th>\n",
       "      <td>1114</td>\n",
       "      <td>2015-07-31</td>\n",
       "    </tr>\n",
       "    <tr>\n",
       "      <th>1114</th>\n",
       "      <td>1115</td>\n",
       "      <td>2015-07-31</td>\n",
       "    </tr>\n",
       "  </tbody>\n",
       "</table>\n",
       "<p>1115 rows × 2 columns</p>\n",
       "</div>"
      ],
      "text/plain": [
       "      store       date\n",
       "0         1 2015-07-31\n",
       "1         2 2015-07-31\n",
       "2         3 2015-07-31\n",
       "3         4 2015-07-31\n",
       "4         5 2015-07-31\n",
       "...     ...        ...\n",
       "1110   1111 2015-07-31\n",
       "1111   1112 2015-07-31\n",
       "1112   1113 2015-07-31\n",
       "1113   1114 2015-07-31\n",
       "1114   1115 2015-07-31\n",
       "\n",
       "[1115 rows x 2 columns]"
      ]
     },
     "execution_count": 152,
     "metadata": {},
     "output_type": "execute_result"
    }
   ],
   "source": [
    "# Last day of sales each store:\n",
    "\n",
    "df6[['store', 'date']].groupby( 'store' ).max().reset_index()"
   ]
  },
  {
   "cell_type": "code",
   "execution_count": 153,
   "id": "728aeb37",
   "metadata": {
    "ExecuteTime": {
     "end_time": "2021-08-06T01:35:29.056060Z",
     "start_time": "2021-08-06T01:35:28.986285Z"
    },
    "hidden": true
   },
   "outputs": [
    {
     "data": {
      "text/plain": [
       "Timestamp('2015-07-31 00:00:00')"
      ]
     },
     "execution_count": 153,
     "metadata": {},
     "output_type": "execute_result"
    }
   ],
   "source": [
    "df6[['store', 'date']].groupby( 'store' ).max().reset_index()['date'][0]"
   ]
  },
  {
   "cell_type": "code",
   "execution_count": 154,
   "id": "b0ee4cac",
   "metadata": {
    "ExecuteTime": {
     "end_time": "2021-08-06T01:35:29.983944Z",
     "start_time": "2021-08-06T01:35:29.921122Z"
    },
    "hidden": true
   },
   "outputs": [
    {
     "data": {
      "text/plain": [
       "Timestamp('2015-06-19 00:00:00')"
      ]
     },
     "execution_count": 154,
     "metadata": {},
     "output_type": "execute_result"
    }
   ],
   "source": [
    "df6[['store', 'date']].groupby('store').max().reset_index()['date'][0] - datetime.timedelta( days = 6 * 7 )"
   ]
  },
  {
   "cell_type": "code",
   "execution_count": 155,
   "id": "f5a8fff9",
   "metadata": {
    "ExecuteTime": {
     "end_time": "2021-08-06T01:35:33.031569Z",
     "start_time": "2021-08-06T01:35:32.894669Z"
    },
    "hidden": true
   },
   "outputs": [
    {
     "name": "stdout",
     "output_type": "stream",
     "text": [
      "Training Min Date: 2013-01-01 00:00:00\n",
      "Training Max Date: 2015-06-18 00:00:00\n",
      "\n",
      "Test Min Date: 2015-06-19 00:00:00\n",
      "Test Max Date: 2015-07-31 00:00:00\n"
     ]
    }
   ],
   "source": [
    "# training dataset\n",
    "\n",
    "X_train = df6[df6['date'] < '2015-06-19' ]\n",
    "y_train = X_train['sales']\n",
    "\n",
    "# test dataset\n",
    "\n",
    "X_test = df6[df6['date'] >= '2015-06-19' ]\n",
    "y_test = X_test['sales']\n",
    "\n",
    "print( 'Training Min Date: {}'.format ( X_train['date'].min() ) )\n",
    "print( 'Training Max Date: {}'.format ( X_train['date'].max() ) )\n",
    "\n",
    "print(   '\\nTest Min Date: {}'.format ( X_test ['date'].min() ) )\n",
    "print(     'Test Max Date: {}'.format ( X_test ['date'].max() ) )"
   ]
  },
  {
   "cell_type": "markdown",
   "id": "4e571e94",
   "metadata": {},
   "source": [
    "# 6.2. Boruta as Feature Selector"
   ]
  },
  {
   "cell_type": "code",
   "execution_count": null,
   "id": "bf4f480d",
   "metadata": {
    "ExecuteTime": {
     "start_time": "2021-08-06T01:35:34.965Z"
    }
   },
   "outputs": [
    {
     "name": "stdout",
     "output_type": "stream",
     "text": [
      "Iteration: \t1 / 100\n",
      "Confirmed: \t0\n",
      "Tentative: \t27\n",
      "Rejected: \t0\n",
      "Iteration: \t2 / 100\n",
      "Confirmed: \t0\n",
      "Tentative: \t27\n",
      "Rejected: \t0\n",
      "Iteration: \t3 / 100\n",
      "Confirmed: \t0\n",
      "Tentative: \t27\n",
      "Rejected: \t0\n"
     ]
    }
   ],
   "source": [
    "# training and test dataset for Boruta\n",
    "X_train_n = X_train.drop( [ 'date','sales' ], axis=1 ).values\n",
    "y_train_n = y_train.values.ravel()\n",
    "\n",
    "# define RandomForestRegressor\n",
    "rf= RandomForestRegressor( n_jobs= -1 )\n",
    "\n",
    "# define Boruta\n",
    "boruta = BorutaPy ( rf, n_estimators='auto', verbose=2, random_state=42 ).fit( X_train_n, y_train_n )"
   ]
  },
  {
   "cell_type": "markdown",
   "id": "e834987d",
   "metadata": {},
   "source": [
    "## 6.2.1. Best features from Boruta"
   ]
  },
  {
   "cell_type": "code",
   "execution_count": null,
   "id": "81bac014",
   "metadata": {
    "ExecuteTime": {
     "start_time": "2021-08-06T01:38:22.252Z"
    }
   },
   "outputs": [],
   "source": [
    "cols_selected = boruta.support_.tolist()\n",
    "\n",
    "# best features\n",
    "X_train_fs = X_train.drop( ['date','sales'], axis=1 )\n",
    "cols_selected_boruta = X_train_fs.iloc[ :, cols_selected ].columns.to_list()\n",
    "\n",
    "# not select boruta\n",
    "cols_not_select_boruta = list( np.setdiff1d( X_train_fs.columns,cols_selected_boruta ) ) "
   ]
  },
  {
   "cell_type": "markdown",
   "id": "962d8788",
   "metadata": {},
   "source": [
    "# 6.3. Manual Feature Selection "
   ]
  },
  {
   "cell_type": "code",
   "execution_count": null,
   "id": "7db72cc9",
   "metadata": {
    "ExecuteTime": {
     "end_time": "2021-08-06T01:21:53.861199Z",
     "start_time": "2021-08-06T01:18:24.308Z"
    }
   },
   "outputs": [],
   "source": [
    "# Features irelevant\n",
    "    \n",
    "cols_selected_boruta = [\n",
    " 'store',\n",
    " 'promo',\n",
    " 'store_type',\n",
    " 'assortment',\n",
    " 'competition_distance',\n",
    " 'competition_open_since_month',\n",
    " 'competition_open_since_year',\n",
    " 'promo2',\n",
    " 'promo2_since_week',\n",
    " 'promo2_since_year',\n",
    " 'competition_time_month',\n",
    " 'promo_time_week',\n",
    " 'day_of_week_sin',\n",
    " 'day_of_week_cos',\n",
    " 'month_sin',\n",
    " 'month_cos',\n",
    " 'day_sin',\n",
    " 'day_cos',\n",
    " 'week_of_year_sin',\n",
    " 'week_of_year_cos']\n",
    "\n",
    "# columns to add\n",
    "feat_to_add = ['date','sales']\n",
    "\n",
    "# final features\n",
    "# cols_selected_boruta.extend( feat_to_add )"
   ]
  },
  {
   "cell_type": "code",
   "execution_count": null,
   "id": "551f9932",
   "metadata": {
    "ExecuteTime": {
     "start_time": "2021-08-06T01:46:14.712Z"
    }
   },
   "outputs": [],
   "source": [
    "cols_selected_boruta"
   ]
  },
  {
   "cell_type": "code",
   "execution_count": null,
   "id": "5c527663",
   "metadata": {
    "ExecuteTime": {
     "start_time": "2021-08-06T01:46:16.616Z"
    }
   },
   "outputs": [],
   "source": [
    "cols_not_select_boruta"
   ]
  },
  {
   "cell_type": "markdown",
   "id": "a4f2d546",
   "metadata": {},
   "source": [
    " # 7.0. PASSO 07 - Machine Learning Modelling\n"
   ]
  },
  {
   "cell_type": "code",
   "execution_count": null,
   "id": "882f1d0f",
   "metadata": {
    "ExecuteTime": {
     "end_time": "2021-08-06T01:21:53.865186Z",
     "start_time": "2021-08-06T01:18:24.570Z"
    }
   },
   "outputs": [],
   "source": [
    "x_train = X_train[ cols_selected_boruta ]\n",
    "x_test = X_test[ cols_selected_boruta ]"
   ]
  },
  {
   "cell_type": "markdown",
   "id": "33cef758",
   "metadata": {},
   "source": [
    "## 7.1 Average Model"
   ]
  },
  {
   "cell_type": "code",
   "execution_count": null,
   "id": "9b19ce78",
   "metadata": {
    "ExecuteTime": {
     "end_time": "2021-08-06T01:21:53.866183Z",
     "start_time": "2021-08-06T01:18:24.813Z"
    }
   },
   "outputs": [],
   "source": [
    "def m1_error( model_name, y, yhat ):\n",
    "    mae  = mean_absolute_error(y, yhat )\n",
    "    mape = mean_absolute_percentage_error( y, yhat )\n",
    "    rmse = np.sqrt (mean_squared_error( y, yhat ) )\n",
    "    \n",
    "    return pd.DataFrame( { 'Model Name': model_name,\n",
    "                           'MAE': mae,\n",
    "                           'MAPE': mape,\n",
    "                           'RMSE': rmse }, index=[0] )"
   ]
  },
  {
   "cell_type": "code",
   "execution_count": null,
   "id": "cbe44e0b",
   "metadata": {
    "ExecuteTime": {
     "end_time": "2021-08-06T01:21:53.868182Z",
     "start_time": "2021-08-06T01:18:24.819Z"
    }
   },
   "outputs": [],
   "source": [
    "aux1 = x_test.copy()\n",
    "aux1['sales'] = y_test.copy()\n",
    "\n",
    "# prediction\n",
    "aux2 = aux1[['store', 'sales']].groupby( 'store' ).mean().reset_index().rename( columns= {'sales' : 'predictions'} )\n",
    "aux1= pd.merge( aux1, aux2, how='left', on='store' )\n",
    "yhat_baseline = aux1['predictions']\n",
    "             \n",
    "# performace\n",
    "baseline_result= m1_error( 'Average Model', np.expm1( y_test ), np.expm1( yhat_baseline ) )\n",
    "baseline_result"
   ]
  },
  {
   "cell_type": "markdown",
   "id": "4a68b0b1",
   "metadata": {},
   "source": [
    "## 7.2 Linear Regression Model"
   ]
  },
  {
   "cell_type": "code",
   "execution_count": null,
   "id": "fd9bb5f1",
   "metadata": {
    "ExecuteTime": {
     "end_time": "2021-08-06T01:21:53.869177Z",
     "start_time": "2021-08-06T01:18:25.065Z"
    }
   },
   "outputs": [],
   "source": [
    "# model\n",
    "lr = LinearRegression().fit( x_train, y_train )\n",
    "\n",
    "# prediction\n",
    "yhat_lr = lr.predict( x_test )\n",
    "\n",
    "# performace\n",
    "lr_result = m1_error( 'Linear Regression', np.expm1( y_test ), np.expm1( yhat_lr ) )\n",
    "lr_result"
   ]
  },
  {
   "cell_type": "markdown",
   "id": "708bf08b",
   "metadata": {},
   "source": [
    "## 7.3 Linear Regression Regularized Model  - Lasso"
   ]
  },
  {
   "cell_type": "code",
   "execution_count": null,
   "id": "852d84fe",
   "metadata": {
    "ExecuteTime": {
     "end_time": "2021-08-06T01:21:53.870174Z",
     "start_time": "2021-08-06T01:18:25.263Z"
    }
   },
   "outputs": [],
   "source": [
    "# model\n",
    "lrr = Lasso( alpha=0.01 ).fit( x_train, y_train )\n",
    "\n",
    "# prediction\n",
    "yhat_lrr = lrr.predict( x_test )\n",
    "\n",
    "# performace\n",
    "lrr_result = m1_error( 'Linear Regression - Lasso', np.expm1( y_test ), np.expm1( yhat_lrr ))\n",
    "lrr_result\n"
   ]
  },
  {
   "cell_type": "code",
   "execution_count": null,
   "id": "c44a0ab9",
   "metadata": {},
   "outputs": [],
   "source": []
  },
  {
   "cell_type": "code",
   "execution_count": null,
   "id": "f43ffa27",
   "metadata": {},
   "outputs": [],
   "source": []
  }
 ],
 "metadata": {
  "kernelspec": {
   "display_name": "Python 3",
   "language": "python",
   "name": "python3"
  },
  "language_info": {
   "codemirror_mode": {
    "name": "ipython",
    "version": 3
   },
   "file_extension": ".py",
   "mimetype": "text/x-python",
   "name": "python",
   "nbconvert_exporter": "python",
   "pygments_lexer": "ipython3",
   "version": "3.8.10"
  },
  "toc": {
   "base_numbering": 1,
   "nav_menu": {},
   "number_sections": true,
   "sideBar": true,
   "skip_h1_title": false,
   "title_cell": "Table of Contents",
   "title_sidebar": "Contents",
   "toc_cell": false,
   "toc_position": {},
   "toc_section_display": true,
   "toc_window_display": false
  }
 },
 "nbformat": 4,
 "nbformat_minor": 5
}
